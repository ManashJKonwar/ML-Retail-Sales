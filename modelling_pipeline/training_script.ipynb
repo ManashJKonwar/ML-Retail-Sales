{
 "cells": [
  {
   "cell_type": "code",
   "execution_count": 1,
   "metadata": {},
   "outputs": [],
   "source": [
    "__author__ = \"konwar.m\"\n",
    "__copyright__ = \"Copyright 2022, AI R&D\"\n",
    "__credits__ = [\"konwar.m\"]\n",
    "__license__ = \"Individual Ownership\"\n",
    "__version__ = \"1.0.1\"\n",
    "__maintainer__ = \"konwar.m\"\n",
    "__email__ = \"rickykonwar@gmail.com\"\n",
    "__status__ = \"Development\""
   ]
  },
  {
   "cell_type": "code",
   "execution_count": 2,
   "metadata": {},
   "outputs": [
    {
     "name": "stderr",
     "output_type": "stream",
     "text": [
      "c:\\Users\\manash.jyoti.konwar\\Documents\\AI_Random_Projects\\virtualEnvs\\MLPricingVenv\\lib\\site-packages\\xgboost\\compat.py:36: FutureWarning: pandas.Int64Index is deprecated and will be removed from pandas in a future version. Use pandas.Index with the appropriate dtype instead.\n",
      "  from pandas import MultiIndex, Int64Index\n"
     ]
    }
   ],
   "source": [
    "# Importing Libraries\n",
    "import os\n",
    "import gc\n",
    "import time\n",
    "import pickle\n",
    "import numpy as np\n",
    "import pandas as pd\n",
    "import xgboost as xgb\n",
    "\n",
    "from numpy import sqrt \n",
    "from sklearn.metrics import mean_squared_error"
   ]
  },
  {
   "cell_type": "markdown",
   "metadata": {},
   "source": [
    "### Importing Libraries"
   ]
  },
  {
   "cell_type": "code",
   "execution_count": 3,
   "metadata": {},
   "outputs": [
    {
     "data": {
      "text/plain": [
       "'c:\\\\Users\\\\manash.jyoti.konwar\\\\Documents\\\\AI_Random_Projects\\\\ML-Retail-Sales'"
      ]
     },
     "execution_count": 3,
     "metadata": {},
     "output_type": "execute_result"
    }
   ],
   "source": [
    "os.chdir('..')\n",
    "os.getcwd()"
   ]
  },
  {
   "cell_type": "markdown",
   "metadata": {},
   "source": [
    "### Loading Training Data and Features"
   ]
  },
  {
   "cell_type": "code",
   "execution_count": 4,
   "metadata": {},
   "outputs": [],
   "source": [
    "train_test_set = pd.read_csv(r'datasets\\training_datasets\\trainset.csv')\n",
    "with open(r'datasets\\training_datasets\\new_features.pkl', 'rb') as feature_file:\n",
    "    new_features = pickle.load(feature_file)"
   ]
  },
  {
   "cell_type": "code",
   "execution_count": 5,
   "metadata": {},
   "outputs": [
    {
     "name": "stdout",
     "output_type": "stream",
     "text": [
      "(11128050, 81)\n",
      "75\n"
     ]
    }
   ],
   "source": [
    "print(train_test_set.shape)\n",
    "print(len(new_features))"
   ]
  },
  {
   "cell_type": "code",
   "execution_count": 6,
   "metadata": {},
   "outputs": [
    {
     "data": {
      "text/html": [
       "<div>\n",
       "<style scoped>\n",
       "    .dataframe tbody tr th:only-of-type {\n",
       "        vertical-align: middle;\n",
       "    }\n",
       "\n",
       "    .dataframe tbody tr th {\n",
       "        vertical-align: top;\n",
       "    }\n",
       "\n",
       "    .dataframe thead th {\n",
       "        text-align: right;\n",
       "    }\n",
       "</style>\n",
       "<table border=\"1\" class=\"dataframe\">\n",
       "  <thead>\n",
       "    <tr style=\"text-align: right;\">\n",
       "      <th></th>\n",
       "      <th>shop_id</th>\n",
       "      <th>item_id</th>\n",
       "      <th>date_block_num</th>\n",
       "      <th>item_price</th>\n",
       "      <th>item_cnt_month</th>\n",
       "      <th>item_category_id</th>\n",
       "      <th>prev_shopitem_sales_1</th>\n",
       "      <th>prev_shopitem_sales_2</th>\n",
       "      <th>prev_shopitem_sales_3</th>\n",
       "      <th>prev_shopitem_sales_4</th>\n",
       "      <th>...</th>\n",
       "      <th>item_name_tfidf_15</th>\n",
       "      <th>item_name_tfidf_16</th>\n",
       "      <th>item_name_tfidf_17</th>\n",
       "      <th>item_name_tfidf_18</th>\n",
       "      <th>item_name_tfidf_19</th>\n",
       "      <th>item_name_tfidf_20</th>\n",
       "      <th>item_name_tfidf_21</th>\n",
       "      <th>item_name_tfidf_22</th>\n",
       "      <th>item_name_tfidf_23</th>\n",
       "      <th>item_name_tfidf_24</th>\n",
       "    </tr>\n",
       "  </thead>\n",
       "  <tbody>\n",
       "    <tr>\n",
       "      <th>0</th>\n",
       "      <td>59</td>\n",
       "      <td>22154</td>\n",
       "      <td>0</td>\n",
       "      <td>999.0000</td>\n",
       "      <td>1</td>\n",
       "      <td>28</td>\n",
       "      <td>0</td>\n",
       "      <td>0</td>\n",
       "      <td>0</td>\n",
       "      <td>0</td>\n",
       "      <td>...</td>\n",
       "      <td>0.0</td>\n",
       "      <td>0.0</td>\n",
       "      <td>0.0</td>\n",
       "      <td>0.0</td>\n",
       "      <td>0.0</td>\n",
       "      <td>0.0</td>\n",
       "      <td>0.0</td>\n",
       "      <td>0.0</td>\n",
       "      <td>0.0</td>\n",
       "      <td>0.0</td>\n",
       "    </tr>\n",
       "    <tr>\n",
       "      <th>1</th>\n",
       "      <td>25</td>\n",
       "      <td>22154</td>\n",
       "      <td>0</td>\n",
       "      <td>999.0000</td>\n",
       "      <td>5</td>\n",
       "      <td>28</td>\n",
       "      <td>0</td>\n",
       "      <td>0</td>\n",
       "      <td>0</td>\n",
       "      <td>0</td>\n",
       "      <td>...</td>\n",
       "      <td>0.0</td>\n",
       "      <td>0.0</td>\n",
       "      <td>0.0</td>\n",
       "      <td>0.0</td>\n",
       "      <td>0.0</td>\n",
       "      <td>0.0</td>\n",
       "      <td>0.0</td>\n",
       "      <td>0.0</td>\n",
       "      <td>0.0</td>\n",
       "      <td>0.0</td>\n",
       "    </tr>\n",
       "    <tr>\n",
       "      <th>2</th>\n",
       "      <td>24</td>\n",
       "      <td>22154</td>\n",
       "      <td>0</td>\n",
       "      <td>999.0000</td>\n",
       "      <td>1</td>\n",
       "      <td>28</td>\n",
       "      <td>0</td>\n",
       "      <td>0</td>\n",
       "      <td>0</td>\n",
       "      <td>0</td>\n",
       "      <td>...</td>\n",
       "      <td>0.0</td>\n",
       "      <td>0.0</td>\n",
       "      <td>0.0</td>\n",
       "      <td>0.0</td>\n",
       "      <td>0.0</td>\n",
       "      <td>0.0</td>\n",
       "      <td>0.0</td>\n",
       "      <td>0.0</td>\n",
       "      <td>0.0</td>\n",
       "      <td>0.0</td>\n",
       "    </tr>\n",
       "    <tr>\n",
       "      <th>3</th>\n",
       "      <td>23</td>\n",
       "      <td>22154</td>\n",
       "      <td>0</td>\n",
       "      <td>702.9322</td>\n",
       "      <td>0</td>\n",
       "      <td>28</td>\n",
       "      <td>0</td>\n",
       "      <td>0</td>\n",
       "      <td>0</td>\n",
       "      <td>0</td>\n",
       "      <td>...</td>\n",
       "      <td>0.0</td>\n",
       "      <td>0.0</td>\n",
       "      <td>0.0</td>\n",
       "      <td>0.0</td>\n",
       "      <td>0.0</td>\n",
       "      <td>0.0</td>\n",
       "      <td>0.0</td>\n",
       "      <td>0.0</td>\n",
       "      <td>0.0</td>\n",
       "      <td>0.0</td>\n",
       "    </tr>\n",
       "    <tr>\n",
       "      <th>4</th>\n",
       "      <td>19</td>\n",
       "      <td>22154</td>\n",
       "      <td>0</td>\n",
       "      <td>702.9322</td>\n",
       "      <td>0</td>\n",
       "      <td>28</td>\n",
       "      <td>0</td>\n",
       "      <td>0</td>\n",
       "      <td>0</td>\n",
       "      <td>0</td>\n",
       "      <td>...</td>\n",
       "      <td>0.0</td>\n",
       "      <td>0.0</td>\n",
       "      <td>0.0</td>\n",
       "      <td>0.0</td>\n",
       "      <td>0.0</td>\n",
       "      <td>0.0</td>\n",
       "      <td>0.0</td>\n",
       "      <td>0.0</td>\n",
       "      <td>0.0</td>\n",
       "      <td>0.0</td>\n",
       "    </tr>\n",
       "  </tbody>\n",
       "</table>\n",
       "<p>5 rows × 81 columns</p>\n",
       "</div>"
      ],
      "text/plain": [
       "   shop_id  item_id  date_block_num  item_price  item_cnt_month  \\\n",
       "0       59    22154               0    999.0000               1   \n",
       "1       25    22154               0    999.0000               5   \n",
       "2       24    22154               0    999.0000               1   \n",
       "3       23    22154               0    702.9322               0   \n",
       "4       19    22154               0    702.9322               0   \n",
       "\n",
       "   item_category_id  prev_shopitem_sales_1  prev_shopitem_sales_2  \\\n",
       "0                28                      0                      0   \n",
       "1                28                      0                      0   \n",
       "2                28                      0                      0   \n",
       "3                28                      0                      0   \n",
       "4                28                      0                      0   \n",
       "\n",
       "   prev_shopitem_sales_3  prev_shopitem_sales_4  ...  item_name_tfidf_15  \\\n",
       "0                      0                      0  ...                 0.0   \n",
       "1                      0                      0  ...                 0.0   \n",
       "2                      0                      0  ...                 0.0   \n",
       "3                      0                      0  ...                 0.0   \n",
       "4                      0                      0  ...                 0.0   \n",
       "\n",
       "   item_name_tfidf_16  item_name_tfidf_17  item_name_tfidf_18  \\\n",
       "0                 0.0                 0.0                 0.0   \n",
       "1                 0.0                 0.0                 0.0   \n",
       "2                 0.0                 0.0                 0.0   \n",
       "3                 0.0                 0.0                 0.0   \n",
       "4                 0.0                 0.0                 0.0   \n",
       "\n",
       "   item_name_tfidf_19  item_name_tfidf_20  item_name_tfidf_21  \\\n",
       "0                 0.0                 0.0                 0.0   \n",
       "1                 0.0                 0.0                 0.0   \n",
       "2                 0.0                 0.0                 0.0   \n",
       "3                 0.0                 0.0                 0.0   \n",
       "4                 0.0                 0.0                 0.0   \n",
       "\n",
       "   item_name_tfidf_22  item_name_tfidf_23  item_name_tfidf_24  \n",
       "0                 0.0                 0.0                 0.0  \n",
       "1                 0.0                 0.0                 0.0  \n",
       "2                 0.0                 0.0                 0.0  \n",
       "3                 0.0                 0.0                 0.0  \n",
       "4                 0.0                 0.0                 0.0  \n",
       "\n",
       "[5 rows x 81 columns]"
      ]
     },
     "execution_count": 6,
     "metadata": {},
     "output_type": "execute_result"
    }
   ],
   "source": [
    "train_test_set.head()"
   ]
  },
  {
   "cell_type": "markdown",
   "metadata": {},
   "source": [
    "### Preparing baseline data"
   ]
  },
  {
   "cell_type": "code",
   "execution_count": 7,
   "metadata": {},
   "outputs": [],
   "source": [
    "def prepare_data(**kwargs):\n",
    "    train_test_data = kwargs.get('train_test_data')\n",
    "    baseline_features = kwargs.get('baseline_features')\n",
    "    \n",
    "    # For training: rows having date_block_num from 0 to 31 is utilized for training the model\n",
    "    train_time_range_lo = (train_test_data['date_block_num'] >= 0)\n",
    "    train_time_range_hi =  (train_test_data['date_block_num'] <= 32)\n",
    "\n",
    "    # For validation: rows having date_block_num as 33\n",
    "    validation_time =  (train_test_data['date_block_num'] == 33)\n",
    "\n",
    "    # For testing: rows having date_block_num from 34\n",
    "    test_time =  (train_test_data['date_block_num'] == 34)\n",
    "\n",
    "    # Retrieve rows for train set, val set, test set\n",
    "    cv_trainset = train_test_data[train_time_range_lo & train_time_range_hi]\n",
    "    cv_valset = train_test_data[validation_time]\n",
    "    cv_trainset = cv_trainset[baseline_features]\n",
    "    cv_valset = cv_valset[baseline_features]\n",
    "    testset = train_test_data[test_time]\n",
    "    testset = testset[baseline_features]\n",
    "\n",
    "    print('Extracting training data started')\n",
    "    # Prepare numpy arrays for training/val/test\n",
    "    cv_trainset_vals = cv_trainset.values.astype(int)\n",
    "    trainx = cv_trainset_vals[:, 0:len(baseline_features) - 1]\n",
    "    trainy = cv_trainset_vals[:, len(baseline_features) - 1]\n",
    "    print('Extracting training data ended')\n",
    "\n",
    "    print('Extracting validation data started')\n",
    "    cv_valset_vals = cv_valset.values.astype(int)\n",
    "    valx = cv_valset_vals[:, 0:len(baseline_features) - 1]\n",
    "    valy = cv_valset_vals[:, len(baseline_features) - 1]\n",
    "    print('Extracting validation data ended')\n",
    "\n",
    "    print('Extracting testing data started')\n",
    "    testset_vals = testset.values.astype(int)\n",
    "    testx = testset_vals[:, 0:len(baseline_features) - 1]\n",
    "    print('Extracting testing data ended')\n",
    "\n",
    "    return trainx, trainy, valx, valy, testx"
   ]
  },
  {
   "cell_type": "markdown",
   "metadata": {},
   "source": [
    "### Training XG Boost Regressor"
   ]
  },
  {
   "cell_type": "code",
   "execution_count": 8,
   "metadata": {},
   "outputs": [],
   "source": [
    "def train_xgboost(**kwargs):\n",
    "    train_x = kwargs.get('train_x')\n",
    "    train_y = kwargs.get('train_y')\n",
    "    val_x = kwargs.get('val_x')\n",
    "    val_y = kwargs.get('val_y')\n",
    "    test_x = kwargs.get('test_x')\n",
    "    perform_test_predictions = kwargs.get('perform_test_predictions')\n",
    "\n",
    "    current = time.time()\n",
    "    print('Fitting xg boost...')\n",
    "\n",
    "    model = xgb.XGBRegressor(max_depth = 11, min_child_weight=0.5, subsample = 1, eta = 0.3, num_round = 1000, seed = 1, nthread = 4)\n",
    "    model.fit(train_x, train_y, eval_metric='rmse')\n",
    "\n",
    "    preds = model.predict(val_x)\n",
    "    # Clipping to range 0-20\n",
    "    preds = np.clip(preds, 0,20)\n",
    "    print('val set rmse: ', sqrt(mean_squared_error(val_y, preds)))\n",
    "\n",
    "    if perform_test_predictions:\n",
    "        preds = model.predict(test_x)\n",
    "        # Clipping to range 0-20\n",
    "        preds = np.clip(preds, 0,20)\n",
    "        df = pd.DataFrame(preds, columns = ['item_cnt_month'])\n",
    "        df['ID'] = df.index\n",
    "        df = df.set_index('ID')\n",
    "        print('test predictions written to file')\n",
    "        end = time.time()\n",
    "        diff = end - current\n",
    "        print('Took ' + str(int(diff)) + ' seconds to train and predict val, test set')\n",
    "        return model, df\n",
    "    else:\n",
    "        end = time.time()\n",
    "        diff = end - current\n",
    "        print('Took ' + str(int(diff)) + ' seconds to train and predict val, test set')\n",
    "        return model, pd.DataFrame(columns = ['item_cnt_month'])"
   ]
  },
  {
   "cell_type": "code",
   "execution_count": 9,
   "metadata": {},
   "outputs": [
    {
     "name": "stdout",
     "output_type": "stream",
     "text": [
      "Extracting training data started\n",
      "Extracting training data ended\n",
      "Extracting validation data started\n",
      "Extracting validation data ended\n",
      "Extracting testing data started\n",
      "Extracting testing data ended\n"
     ]
    }
   ],
   "source": [
    "baseline_features = ['shop_id', 'item_id', 'item_category_id', 'date_block_num'] +  new_features + ['item_cnt_month']\n",
    "train_x_wo_price, train_y_wo_price, val_x_wo_price, val_y_wo_price, test_x_wo_price = prepare_data(\n",
    "                                                                                        train_test_data=train_test_set,\n",
    "                                                                                        baseline_features=baseline_features\n",
    "                                                                                    )"
   ]
  },
  {
   "cell_type": "code",
   "execution_count": 10,
   "metadata": {},
   "outputs": [
    {
     "name": "stdout",
     "output_type": "stream",
     "text": [
      "(10675678, 79)\n"
     ]
    },
    {
     "data": {
      "text/plain": [
       "array([[   59, 22154,    28, ...,     0,     0,     0],\n",
       "       [   25, 22154,    28, ...,     0,     0,     0],\n",
       "       [   24, 22154,    28, ...,     0,     0,     0],\n",
       "       ...,\n",
       "       [   34, 21937,    55, ...,     0,     0,     0],\n",
       "       [   26, 21937,    55, ...,     0,     0,     0],\n",
       "       [   27, 21937,    55, ...,     0,     0,     0]])"
      ]
     },
     "execution_count": 10,
     "metadata": {},
     "output_type": "execute_result"
    }
   ],
   "source": [
    "print(train_x_wo_price.shape)\n",
    "train_x_wo_price"
   ]
  },
  {
   "cell_type": "code",
   "execution_count": 11,
   "metadata": {},
   "outputs": [
    {
     "name": "stdout",
     "output_type": "stream",
     "text": [
      "Fitting xg boost...\n",
      "[15:29:06] WARNING: C:/Users/Administrator/workspace/xgboost-win64_release_1.5.1/src/learner.cc:576: \n",
      "Parameters: { \"num_round\" } might not be used.\n",
      "\n",
      "  This could be a false alarm, with some parameters getting used by language bindings but\n",
      "  then being mistakenly passed down to XGBoost core, or some parameter actually being used\n",
      "  but getting flagged wrongly here. Please open an issue if you find any such cases.\n",
      "\n",
      "\n",
      "val set rmse:  1.079887443149056\n",
      "test predictions written to file\n",
      "Took 7728 seconds to train and predict val, test set\n"
     ]
    }
   ],
   "source": [
    "if not os.path.exists(os.path.join('models_outputs', 'model_trained_wo_price_xgb.pkl')):\n",
    "    model_wo_price, test_predictions = train_xgboost(\n",
    "                                        train_x = train_x_wo_price,\n",
    "                                        train_y = train_y_wo_price,\n",
    "                                        val_x = val_x_wo_price,\n",
    "                                        val_y = val_y_wo_price,\n",
    "                                        test_x = test_x_wo_price,\n",
    "                                        perform_test_predictions = True\n",
    "                                    )\n",
    "    with open(os.path.join('models_outputs', 'model_trained_wo_price_xgb.pkl'), 'wb') as model_file:\n",
    "        pickle.dump(model_wo_price, model_file)"
   ]
  },
  {
   "cell_type": "code",
   "execution_count": 12,
   "metadata": {},
   "outputs": [
    {
     "data": {
      "text/plain": [
       "25"
      ]
     },
     "execution_count": 12,
     "metadata": {},
     "output_type": "execute_result"
    }
   ],
   "source": [
    "del [[train_x_wo_price, train_y_wo_price, val_x_wo_price, val_y_wo_price, test_x_wo_price]]\n",
    "gc.collect()"
   ]
  },
  {
   "cell_type": "code",
   "execution_count": 13,
   "metadata": {},
   "outputs": [
    {
     "name": "stdout",
     "output_type": "stream",
     "text": [
      "Extracting training data started\n",
      "Extracting training data ended\n",
      "Extracting validation data started\n",
      "Extracting validation data ended\n",
      "Extracting testing data started\n",
      "Extracting testing data ended\n"
     ]
    }
   ],
   "source": [
    "baseline_features = ['shop_id', 'item_id', 'item_category_id', 'date_block_num', 'item_price'] +  new_features + ['item_cnt_month']\n",
    "train_x_w_price, train_y_w_price, val_x_w_price, val_y_w_price, test_x_w_price = prepare_data(\n",
    "                                                                                        train_test_data=train_test_set,\n",
    "                                                                                        baseline_features=baseline_features\n",
    "                                                                                    )"
   ]
  },
  {
   "cell_type": "code",
   "execution_count": 14,
   "metadata": {},
   "outputs": [
    {
     "name": "stdout",
     "output_type": "stream",
     "text": [
      "(10675678, 80)\n"
     ]
    },
    {
     "data": {
      "text/plain": [
       "array([[   59, 22154,    28, ...,     0,     0,     0],\n",
       "       [   25, 22154,    28, ...,     0,     0,     0],\n",
       "       [   24, 22154,    28, ...,     0,     0,     0],\n",
       "       ...,\n",
       "       [   34, 21937,    55, ...,     0,     0,     0],\n",
       "       [   26, 21937,    55, ...,     0,     0,     0],\n",
       "       [   27, 21937,    55, ...,     0,     0,     0]])"
      ]
     },
     "execution_count": 14,
     "metadata": {},
     "output_type": "execute_result"
    }
   ],
   "source": [
    "print(train_x_w_price.shape)\n",
    "train_x_w_price"
   ]
  },
  {
   "cell_type": "code",
   "execution_count": 15,
   "metadata": {},
   "outputs": [
    {
     "name": "stdout",
     "output_type": "stream",
     "text": [
      "Fitting xg boost...\n",
      "[17:39:28] WARNING: C:/Users/Administrator/workspace/xgboost-win64_release_1.5.1/src/learner.cc:576: \n",
      "Parameters: { \"num_round\" } might not be used.\n",
      "\n",
      "  This could be a false alarm, with some parameters getting used by language bindings but\n",
      "  then being mistakenly passed down to XGBoost core, or some parameter actually being used\n",
      "  but getting flagged wrongly here. Please open an issue if you find any such cases.\n",
      "\n",
      "\n",
      "val set rmse:  1.0324293291666302\n",
      "Took 6782 seconds to train and predict val, test set\n"
     ]
    }
   ],
   "source": [
    "if not os.path.exists(os.path.join('models_outputs', 'model_trained_w_price_xgb.pkl')):\n",
    "    model_w_price, test_predictions = train_xgboost(\n",
    "                                        train_x = train_x_w_price,\n",
    "                                        train_y = train_y_w_price,\n",
    "                                        val_x = val_x_w_price,\n",
    "                                        val_y = val_y_w_price,\n",
    "                                        test_x = test_x_w_price,\n",
    "                                        perform_test_predictions = False\n",
    "                                    )\n",
    "    with open(os.path.join('models_outputs', 'model_trained_w_price_xgb.pkl'), 'wb') as model_file:\n",
    "        pickle.dump(model_w_price, model_file)"
   ]
  },
  {
   "cell_type": "code",
   "execution_count": 16,
   "metadata": {},
   "outputs": [
    {
     "data": {
      "text/plain": [
       "94"
      ]
     },
     "execution_count": 16,
     "metadata": {},
     "output_type": "execute_result"
    }
   ],
   "source": [
    "del [[train_x_w_price, train_y_w_price, val_x_w_price, val_y_w_price, test_x_w_price]]\n",
    "gc.collect()"
   ]
  }
 ],
 "metadata": {
  "interpreter": {
   "hash": "524d4310cc36642556f2992670fc4b95814a9a602f1a77c1aba439825a8ccd15"
  },
  "kernelspec": {
   "display_name": "Python 3.8.8 ('MLPricingVenv')",
   "language": "python",
   "name": "python3"
  },
  "language_info": {
   "codemirror_mode": {
    "name": "ipython",
    "version": 3
   },
   "file_extension": ".py",
   "mimetype": "text/x-python",
   "name": "python",
   "nbconvert_exporter": "python",
   "pygments_lexer": "ipython3",
   "version": "3.8.8"
  },
  "orig_nbformat": 4
 },
 "nbformat": 4,
 "nbformat_minor": 2
}
