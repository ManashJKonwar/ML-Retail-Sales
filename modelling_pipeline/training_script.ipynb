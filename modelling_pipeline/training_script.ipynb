{
 "cells": [
  {
   "cell_type": "code",
   "execution_count": 1,
   "metadata": {},
   "outputs": [],
   "source": [
    "__author__ = \"konwar.m\"\n",
    "__copyright__ = \"Copyright 2022, AI R&D\"\n",
    "__credits__ = [\"konwar.m\"]\n",
    "__license__ = \"Individual Ownership\"\n",
    "__version__ = \"1.0.1\"\n",
    "__maintainer__ = \"konwar.m\"\n",
    "__email__ = \"rickykonwar@gmail.com\"\n",
    "__status__ = \"Development\""
   ]
  },
  {
   "cell_type": "code",
   "execution_count": 2,
   "metadata": {},
   "outputs": [
    {
     "name": "stderr",
     "output_type": "stream",
     "text": [
      "c:\\Users\\manash.jyoti.konwar\\Documents\\AI_Random_Projects\\virtualEnvs\\MLPricingVenv\\lib\\site-packages\\xgboost\\compat.py:36: FutureWarning: pandas.Int64Index is deprecated and will be removed from pandas in a future version. Use pandas.Index with the appropriate dtype instead.\n",
      "  from pandas import MultiIndex, Int64Index\n"
     ]
    }
   ],
   "source": [
    "# Importing Libraries\n",
    "import time\n",
    "import pickle\n",
    "import numpy as np\n",
    "import pandas as pd\n",
    "import xgboost as xgb\n",
    "\n",
    "from numpy import sqrt \n",
    "from sklearn.metrics import mean_squared_error"
   ]
  },
  {
   "cell_type": "markdown",
   "metadata": {},
   "source": [
    "### Importing Libraries"
   ]
  },
  {
   "cell_type": "code",
   "execution_count": 3,
   "metadata": {},
   "outputs": [
    {
     "data": {
      "text/plain": [
       "'c:\\\\Users\\\\manash.jyoti.konwar\\\\Documents\\\\AI_Random_Projects\\\\ML-Retail-Sales'"
      ]
     },
     "execution_count": 3,
     "metadata": {},
     "output_type": "execute_result"
    }
   ],
   "source": [
    "os.chdir('..')\n",
    "os.getcwd()"
   ]
  },
  {
   "cell_type": "markdown",
   "metadata": {},
   "source": [
    "### Loading Training Data and Features"
   ]
  },
  {
   "cell_type": "code",
   "execution_count": 4,
   "metadata": {},
   "outputs": [],
   "source": [
    "train_test_set = pd.read_csv(r'datasets\\training_datasets\\trainset.csv')\n",
    "with open(r'datasets\\training_datasets\\new_features.pkl', 'rb') as feature_file:\n",
    "    new_features = pickle.load(feature_file)"
   ]
  },
  {
   "cell_type": "code",
   "execution_count": 5,
   "metadata": {},
   "outputs": [
    {
     "name": "stdout",
     "output_type": "stream",
     "text": [
      "(11128050, 81)\n",
      "75\n"
     ]
    }
   ],
   "source": [
    "print(train_test_set.shape)\n",
    "print(len(new_features))"
   ]
  },
  {
   "cell_type": "code",
   "execution_count": 6,
   "metadata": {},
   "outputs": [],
   "source": [
    "def validate_item_prices(**kwargs):\n",
    "    train_test_data = kwargs.get('train_test_data')\n",
    "    sales_data = kwargs.get('sales_data')\n",
    "\n",
    "    break_counter = 1\n",
    "    revamped_train_test_data = train_test_data.copy()\n",
    "    pos_data = pd.DataFrame(columns=['']) \n",
    "    if isinstance(train_test_data, pd.DataFrame):\n",
    "        for row in train_test_data.itertuples():\n",
    "            if break_counter>3:\n",
    "                break\n",
    "            print(row)\n",
    "            break_counter+=1"
   ]
  },
  {
   "cell_type": "code",
   "execution_count": 7,
   "metadata": {},
   "outputs": [
    {
     "data": {
      "text/plain": [
       "(2935849, 6)"
      ]
     },
     "execution_count": 7,
     "metadata": {},
     "output_type": "execute_result"
    }
   ],
   "source": [
    "sales_data = pd.read_csv(r'datasets\\sales_train.csv')\n",
    "sales_data.shape"
   ]
  },
  {
   "cell_type": "code",
   "execution_count": 8,
   "metadata": {},
   "outputs": [
    {
     "name": "stdout",
     "output_type": "stream",
     "text": [
      "Pandas(Index=0, shop_id=59, item_id=22154, date_block_num=0, item_price=999.0, item_cnt_month=1.0, item_category_id=28, prev_shopitem_sales_1=0.0, prev_shopitem_sales_2=0.0, prev_shopitem_sales_3=0.0, prev_shopitem_sales_4=0.0, prev_shopitem_sales_5=0.0, prev_shopitem_sales_6=0.0, prev_shopitem_sales_7=0.0, prev_shopitem_sales_8=0.0, prev_shopitem_sales_9=0.0, prev_shopitem_sales_10=0.0, prev_shopitem_sales_11=0.0, prev_shopitem_sales_12=0.0, prev_item_sales_1=0.0, prev_item_sales_2=0.0, prev_item_sales_3=0.0, prev_item_sales_4=0.0, prev_item_sales_5=0.0, prev_item_sales_6=0.0, prev_item_sales_7=0.0, prev_item_sales_8=0.0, prev_item_sales_9=0.0, prev_item_sales_10=0.0, prev_item_sales_11=0.0, prev_item_sales_12=0.0, prev_shopitem_price_1=nan, prev_shopitem_price_2=nan, prev_shopitem_price_3=nan, prev_shopitem_price_4=nan, prev_shopitem_price_5=nan, prev_shopitem_price_6=nan, prev_shopitem_price_7=nan, prev_shopitem_price_8=nan, prev_shopitem_price_9=nan, prev_shopitem_price_10=nan, prev_shopitem_price_11=nan, prev_shopitem_price_12=nan, prev_item_price_1=nan, prev_item_price_2=nan, prev_item_price_3=nan, prev_item_price_4=nan, prev_item_price_5=nan, prev_item_price_6=nan, prev_item_price_7=nan, prev_item_price_8=nan, prev_item_price_9=nan, prev_item_price_10=nan, prev_item_price_11=nan, prev_item_price_12=nan, shop_id_item_id_item_cnt_month_mean=0.0909090909090909, item_id_item_cnt_month_mean=0.1095334685598377, item_name_tfidf_0=0.0, item_name_tfidf_1=0.0, item_name_tfidf_2=0.0, item_name_tfidf_3=1.0, item_name_tfidf_4=0.0, item_name_tfidf_5=0.0, item_name_tfidf_6=0.0, item_name_tfidf_7=0.0, item_name_tfidf_8=0.0, item_name_tfidf_9=0.0, item_name_tfidf_10=0.0, item_name_tfidf_11=0.0, item_name_tfidf_12=0.0, item_name_tfidf_13=0.0, item_name_tfidf_14=0.0, item_name_tfidf_15=0.0, item_name_tfidf_16=0.0, item_name_tfidf_17=0.0, item_name_tfidf_18=0.0, item_name_tfidf_19=0.0, item_name_tfidf_20=0.0, item_name_tfidf_21=0.0, item_name_tfidf_22=0.0, item_name_tfidf_23=0.0, item_name_tfidf_24=0.0)\n",
      "Pandas(Index=1, shop_id=25, item_id=22154, date_block_num=0, item_price=999.0, item_cnt_month=5.0, item_category_id=28, prev_shopitem_sales_1=0.0, prev_shopitem_sales_2=0.0, prev_shopitem_sales_3=0.0, prev_shopitem_sales_4=0.0, prev_shopitem_sales_5=0.0, prev_shopitem_sales_6=0.0, prev_shopitem_sales_7=0.0, prev_shopitem_sales_8=0.0, prev_shopitem_sales_9=0.0, prev_shopitem_sales_10=0.0, prev_shopitem_sales_11=0.0, prev_shopitem_sales_12=0.0, prev_item_sales_1=0.0, prev_item_sales_2=0.0, prev_item_sales_3=0.0, prev_item_sales_4=0.0, prev_item_sales_5=0.0, prev_item_sales_6=0.0, prev_item_sales_7=0.0, prev_item_sales_8=0.0, prev_item_sales_9=0.0, prev_item_sales_10=0.0, prev_item_sales_11=0.0, prev_item_sales_12=0.0, prev_shopitem_price_1=nan, prev_shopitem_price_2=nan, prev_shopitem_price_3=nan, prev_shopitem_price_4=nan, prev_shopitem_price_5=nan, prev_shopitem_price_6=nan, prev_shopitem_price_7=nan, prev_shopitem_price_8=nan, prev_shopitem_price_9=nan, prev_shopitem_price_10=nan, prev_shopitem_price_11=nan, prev_shopitem_price_12=nan, prev_item_price_1=nan, prev_item_price_2=nan, prev_item_price_3=nan, prev_item_price_4=nan, prev_item_price_5=nan, prev_item_price_6=nan, prev_item_price_7=nan, prev_item_price_8=nan, prev_item_price_9=nan, prev_item_price_10=nan, prev_item_price_11=nan, prev_item_price_12=nan, shop_id_item_id_item_cnt_month_mean=0.6363636363636364, item_id_item_cnt_month_mean=0.1095334685598377, item_name_tfidf_0=0.0, item_name_tfidf_1=0.0, item_name_tfidf_2=0.0, item_name_tfidf_3=1.0, item_name_tfidf_4=0.0, item_name_tfidf_5=0.0, item_name_tfidf_6=0.0, item_name_tfidf_7=0.0, item_name_tfidf_8=0.0, item_name_tfidf_9=0.0, item_name_tfidf_10=0.0, item_name_tfidf_11=0.0, item_name_tfidf_12=0.0, item_name_tfidf_13=0.0, item_name_tfidf_14=0.0, item_name_tfidf_15=0.0, item_name_tfidf_16=0.0, item_name_tfidf_17=0.0, item_name_tfidf_18=0.0, item_name_tfidf_19=0.0, item_name_tfidf_20=0.0, item_name_tfidf_21=0.0, item_name_tfidf_22=0.0, item_name_tfidf_23=0.0, item_name_tfidf_24=0.0)\n",
      "Pandas(Index=2, shop_id=24, item_id=22154, date_block_num=0, item_price=999.0, item_cnt_month=1.0, item_category_id=28, prev_shopitem_sales_1=0.0, prev_shopitem_sales_2=0.0, prev_shopitem_sales_3=0.0, prev_shopitem_sales_4=0.0, prev_shopitem_sales_5=0.0, prev_shopitem_sales_6=0.0, prev_shopitem_sales_7=0.0, prev_shopitem_sales_8=0.0, prev_shopitem_sales_9=0.0, prev_shopitem_sales_10=0.0, prev_shopitem_sales_11=0.0, prev_shopitem_sales_12=0.0, prev_item_sales_1=0.0, prev_item_sales_2=0.0, prev_item_sales_3=0.0, prev_item_sales_4=0.0, prev_item_sales_5=0.0, prev_item_sales_6=0.0, prev_item_sales_7=0.0, prev_item_sales_8=0.0, prev_item_sales_9=0.0, prev_item_sales_10=0.0, prev_item_sales_11=0.0, prev_item_sales_12=0.0, prev_shopitem_price_1=nan, prev_shopitem_price_2=nan, prev_shopitem_price_3=nan, prev_shopitem_price_4=nan, prev_shopitem_price_5=nan, prev_shopitem_price_6=nan, prev_shopitem_price_7=nan, prev_shopitem_price_8=nan, prev_shopitem_price_9=nan, prev_shopitem_price_10=nan, prev_shopitem_price_11=nan, prev_shopitem_price_12=nan, prev_item_price_1=nan, prev_item_price_2=nan, prev_item_price_3=nan, prev_item_price_4=nan, prev_item_price_5=nan, prev_item_price_6=nan, prev_item_price_7=nan, prev_item_price_8=nan, prev_item_price_9=nan, prev_item_price_10=nan, prev_item_price_11=nan, prev_item_price_12=nan, shop_id_item_id_item_cnt_month_mean=0.0909090909090909, item_id_item_cnt_month_mean=0.1095334685598377, item_name_tfidf_0=0.0, item_name_tfidf_1=0.0, item_name_tfidf_2=0.0, item_name_tfidf_3=1.0, item_name_tfidf_4=0.0, item_name_tfidf_5=0.0, item_name_tfidf_6=0.0, item_name_tfidf_7=0.0, item_name_tfidf_8=0.0, item_name_tfidf_9=0.0, item_name_tfidf_10=0.0, item_name_tfidf_11=0.0, item_name_tfidf_12=0.0, item_name_tfidf_13=0.0, item_name_tfidf_14=0.0, item_name_tfidf_15=0.0, item_name_tfidf_16=0.0, item_name_tfidf_17=0.0, item_name_tfidf_18=0.0, item_name_tfidf_19=0.0, item_name_tfidf_20=0.0, item_name_tfidf_21=0.0, item_name_tfidf_22=0.0, item_name_tfidf_23=0.0, item_name_tfidf_24=0.0)\n"
     ]
    },
    {
     "ename": "TypeError",
     "evalue": "cannot unpack non-iterable NoneType object",
     "output_type": "error",
     "traceback": [
      "\u001b[1;31m---------------------------------------------------------------------------\u001b[0m",
      "\u001b[1;31mTypeError\u001b[0m                                 Traceback (most recent call last)",
      "\u001b[1;32mc:\\Users\\manash.jyoti.konwar\\Documents\\AI_Random_Projects\\ML-Retail-Sales\\modelling_pipeline\\training_script.ipynb Cell 10'\u001b[0m in \u001b[0;36m<module>\u001b[1;34m\u001b[0m\n\u001b[1;32m----> <a href='vscode-notebook-cell:/c%3A/Users/manash.jyoti.konwar/Documents/AI_Random_Projects/ML-Retail-Sales/modelling_pipeline/training_script.ipynb#ch0000009?line=0'>1</a>\u001b[0m train_test_set, pos_data \u001b[39m=\u001b[39m validate_item_prices(\n\u001b[0;32m      <a href='vscode-notebook-cell:/c%3A/Users/manash.jyoti.konwar/Documents/AI_Random_Projects/ML-Retail-Sales/modelling_pipeline/training_script.ipynb#ch0000009?line=1'>2</a>\u001b[0m                                 train_test_data\u001b[39m=\u001b[39mtrain_test_set,\n\u001b[0;32m      <a href='vscode-notebook-cell:/c%3A/Users/manash.jyoti.konwar/Documents/AI_Random_Projects/ML-Retail-Sales/modelling_pipeline/training_script.ipynb#ch0000009?line=2'>3</a>\u001b[0m                                 sales_data\u001b[39m=\u001b[39msales_data\n\u001b[0;32m      <a href='vscode-notebook-cell:/c%3A/Users/manash.jyoti.konwar/Documents/AI_Random_Projects/ML-Retail-Sales/modelling_pipeline/training_script.ipynb#ch0000009?line=3'>4</a>\u001b[0m                             )\n",
      "\u001b[1;31mTypeError\u001b[0m: cannot unpack non-iterable NoneType object"
     ]
    }
   ],
   "source": [
    "train_test_set, pos_data = validate_item_prices(\n",
    "                                train_test_data=train_test_set,\n",
    "                                sales_data=sales_data\n",
    "                            )"
   ]
  },
  {
   "cell_type": "markdown",
   "metadata": {},
   "source": [
    "### Preparing baseline data"
   ]
  },
  {
   "cell_type": "code",
   "execution_count": null,
   "metadata": {},
   "outputs": [],
   "source": [
    "def prepare_data(**kwargs):\n",
    "    train_test_data = kwargs.get('train_test_data')\n",
    "    baseline_features = kwargs.get('baseline_features')\n",
    "    \n",
    "    # For training: rows having date_block_num from 0 to 31 is utilized for training the model\n",
    "    train_time_range_lo = (train_test_data['date_block_num'] >= 0)\n",
    "    train_time_range_hi =  (train_test_data['date_block_num'] <= 32)\n",
    "\n",
    "    # For validation: rows having date_block_num as 33\n",
    "    validation_time =  (train_test_data['date_block_num'] == 33)\n",
    "\n",
    "    # For testing: rows having date_block_num from 34\n",
    "    test_time =  (train_test_data['date_block_num'] == 34)\n",
    "\n",
    "    # Retrieve rows for train set, val set, test set\n",
    "    cv_trainset = train_test_data[train_time_range_lo & train_time_range_hi]\n",
    "    cv_valset = train_test_data[validation_time]\n",
    "    cv_trainset = cv_trainset[baseline_features]\n",
    "    cv_valset = cv_valset[baseline_features]\n",
    "    testset = train_test_data[test_time]\n",
    "    testset = testset[baseline_features]\n",
    "\n",
    "    # Prepare numpy arrays for training/val/test\n",
    "    cv_trainset_vals = cv_trainset.values.astype(int)\n",
    "    trainx = cv_trainset_vals[:, 0:len(baseline_features) - 1]\n",
    "    trainy = cv_trainset_vals[:, len(baseline_features) - 1]\n",
    "\n",
    "    cv_valset_vals = cv_valset.values.astype(int)\n",
    "    valx = cv_valset_vals[:, 0:len(baseline_features) - 1]\n",
    "    valy = cv_valset_vals[:, len(baseline_features) - 1]\n",
    "\n",
    "    testset_vals = testset.values.astype(int)\n",
    "    testx = testset_vals[:, 0:len(baseline_features) - 1]\n",
    "\n",
    "    return trainx, trainy, valx, valy, testx"
   ]
  },
  {
   "cell_type": "markdown",
   "metadata": {},
   "source": [
    "### Training XG Boost Regressor"
   ]
  },
  {
   "cell_type": "code",
   "execution_count": null,
   "metadata": {},
   "outputs": [],
   "source": [
    "def train_xgboost(**kwargs):\n",
    "    train_x = kwargs.get('train_x')\n",
    "    train_y = kwargs.get('train_y')\n",
    "    val_x = kwargs.get('val_x')\n",
    "    val_y = kwargs.get('val_y')\n",
    "\n",
    "    print('Fitting...')\n",
    "\n",
    "    model = xgb.XGBRegressor(max_depth = 11, min_child_weight=0.5, subsample = 1, eta = 0.3, num_round = 1000, seed = 1, nthread = 4)\n",
    "    model.fit(train_x, train_y, eval_metric='rmse')\n",
    "\n",
    "    preds = model.predict(val_x)\n",
    "    # Clipping to range 0-20\n",
    "    preds = np.clip(preds, 0,20)\n",
    "    print('val set rmse: ', sqrt(mean_squared_error(val_y, preds)))\n",
    "\n",
    "    preds = model.predict(testx)\n",
    "    # Clipping to range 0-20\n",
    "    preds = np.clip(preds, 0,20)\n",
    "    df = pd.DataFrame(preds, columns = ['item_cnt_month'])\n",
    "    df['ID'] = df.index\n",
    "    df = df.set_index('ID')\n",
    "    print('test predictions written to file')\n",
    "\n",
    "    end = time.time()\n",
    "    diff = end - current\n",
    "    print('Took ' + str(int(diff)) + ' seconds to train and predict val, test set')\n",
    "    return model, df"
   ]
  },
  {
   "cell_type": "code",
   "execution_count": null,
   "metadata": {},
   "outputs": [],
   "source": [
    "baseline_features = ['shop_id', 'item_id', 'item_category_id', 'date_block_num'] +  new_features + ['item_cnt_month']\n",
    "train_x_wo_price, train_y_wo_price, val_x_wo_price, val_y_wo_price, test_x_wo_price = prepare_data(\n",
    "                                                                                        train_test_data=train_test_set,\n",
    "                                                                                        baseline_features=baseline_features\n",
    "                                                                                    )"
   ]
  },
  {
   "cell_type": "code",
   "execution_count": null,
   "metadata": {},
   "outputs": [],
   "source": [
    "baseline_features = ['shop_id', 'item_id', 'item_category_id', 'date_block_num', 'item_price'] +  new_features + ['item_cnt_month']\n",
    "train_x_w_price, train_y_w_price, val_x_w_price, val_y_w_price, test_x_w_price = prepare_data(\n",
    "                                                                                        train_test_data=train_test_set,\n",
    "                                                                                        baseline_features=baseline_features\n",
    "                                                                                    )"
   ]
  },
  {
   "cell_type": "markdown",
   "metadata": {},
   "source": [
    "### Training using XGBoost Regressor"
   ]
  },
  {
   "cell_type": "code",
   "execution_count": null,
   "metadata": {},
   "outputs": [],
   "source": [
    "def train_xgboost():\n",
    "    current = time.time()\n",
    "\n",
    "    baseline_features = ['shop_id', 'item_id', 'item_category_id', 'date_block_num'] +  new_features + ['item_cnt_month']\n",
    "\n",
    "    # Clipping to range 0-20\n",
    "    train_test_set['item_cnt_month'] = train_test_set.item_cnt_month.fillna(0).clip(0,20)\n",
    "\n",
    "     # train: want rows with date_block_num from 0 to 31\n",
    "    train_time_range_lo = (train_test_set['date_block_num'] >= 0)\n",
    "    train_time_range_hi =  (train_test_set['date_block_num'] <= 32)\n",
    "\n",
    "    # val: want rows with date_block_num from 22\n",
    "    validation_time =  (train_test_set['date_block_num'] == 33)\n",
    "\n",
    "    # test: want rows with date_block_num from 34\n",
    "    test_time =  (train_test_set['date_block_num'] == 34)\n",
    "\n",
    "    # Retrieve rows for train set, val set, test set\n",
    "    cv_trainset = train_test_set[train_time_range_lo & train_time_range_hi]\n",
    "    cv_valset = train_test_set[validation_time]\n",
    "    cv_trainset = cv_trainset[baseline_features]\n",
    "    cv_valset = cv_valset[baseline_features]\n",
    "    testset = train_test_set[test_time]\n",
    "    testset = testset[baseline_features]\n",
    "\n",
    "    # Prepare numpy arrays for training/val/test\n",
    "    cv_trainset_vals = cv_trainset.values.astype(int)\n",
    "    trainx = cv_trainset_vals[:, 0:len(baseline_features) - 1]\n",
    "    trainy = cv_trainset_vals[:, len(baseline_features) - 1]\n",
    "\n",
    "    cv_valset_vals = cv_valset.values.astype(int)\n",
    "    valx = cv_valset_vals[:, 0:len(baseline_features) - 1]\n",
    "    valy = cv_valset_vals[:, len(baseline_features) - 1]\n",
    "\n",
    "    testset_vals = testset.values.astype(int)\n",
    "    testx = testset_vals[:, 0:len(baseline_features) - 1]\n",
    "\n",
    "    print('Fitting...')\n",
    "\n",
    "    model = xgb.XGBRegressor(max_depth = 11, min_child_weight=0.5, subsample = 1, eta = 0.3, num_round = 1000, seed = 1, nthread = 4)\n",
    "    model.fit(trainx, trainy, eval_metric='rmse')\n",
    "\n",
    "    preds = model.predict(valx)\n",
    "    # Clipping to range 0-20\n",
    "    preds = np.clip(preds, 0,20)\n",
    "    print('val set rmse: ', sqrt(mean_squared_error(valy, preds)))\n",
    "\n",
    "    preds = model.predict(testx)\n",
    "    # Clipping to range 0-20\n",
    "    preds = np.clip(preds, 0,20)\n",
    "    df = pd.DataFrame(preds, columns = ['item_cnt_month'])\n",
    "    df['ID'] = df.index\n",
    "    df = df.set_index('ID')\n",
    "    print('test predictions written to file')\n",
    "\n",
    "    end = time.time()\n",
    "    diff = end - current\n",
    "    print('Took ' + str(int(diff)) + ' seconds to train and predict val, test set')\n",
    "    return model, df"
   ]
  },
  {
   "cell_type": "code",
   "execution_count": null,
   "metadata": {},
   "outputs": [],
   "source": [
    "trained_model, df_test_predictions = train_xgboost()"
   ]
  },
  {
   "cell_type": "code",
   "execution_count": null,
   "metadata": {},
   "outputs": [],
   "source": [
    "if not os.path.exists(os.path.join('models_outputs', 'model_trained_xgb.pkl')):\n",
    "    with open(os.path.join('models_outputs', 'model_trained_xgb.pkl'), 'wb') as model_file:\n",
    "        pickle.dump(trained_model, model_file)"
   ]
  }
 ],
 "metadata": {
  "interpreter": {
   "hash": "524d4310cc36642556f2992670fc4b95814a9a602f1a77c1aba439825a8ccd15"
  },
  "kernelspec": {
   "display_name": "Python 3.8.8 ('MLPricingVenv')",
   "language": "python",
   "name": "python3"
  },
  "language_info": {
   "codemirror_mode": {
    "name": "ipython",
    "version": 3
   },
   "file_extension": ".py",
   "mimetype": "text/x-python",
   "name": "python",
   "nbconvert_exporter": "python",
   "pygments_lexer": "ipython3",
   "version": "3.8.8"
  },
  "orig_nbformat": 4
 },
 "nbformat": 4,
 "nbformat_minor": 2
}
