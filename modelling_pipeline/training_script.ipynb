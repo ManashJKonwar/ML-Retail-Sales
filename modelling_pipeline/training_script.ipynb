{
 "cells": [
  {
   "cell_type": "code",
   "execution_count": 1,
   "metadata": {},
   "outputs": [],
   "source": [
    "__author__ = \"konwar.m\"\n",
    "__copyright__ = \"Copyright 2022, AI R&D\"\n",
    "__credits__ = [\"konwar.m\"]\n",
    "__license__ = \"Individual Ownership\"\n",
    "__version__ = \"1.0.1\"\n",
    "__maintainer__ = \"konwar.m\"\n",
    "__email__ = \"rickykonwar@gmail.com\"\n",
    "__status__ = \"Development\""
   ]
  },
  {
   "cell_type": "code",
   "execution_count": 2,
   "metadata": {},
   "outputs": [
    {
     "name": "stderr",
     "output_type": "stream",
     "text": [
      "C:\\Users\\manash.jyoti.konwar\\Documents\\AI_Random_Projects\\virtualEnvs\\MLPricingVenv\\lib\\site-packages\\xgboost\\compat.py:36: FutureWarning: pandas.Int64Index is deprecated and will be removed from pandas in a future version. Use pandas.Index with the appropriate dtype instead.\n",
      "  from pandas import MultiIndex, Int64Index\n"
     ]
    }
   ],
   "source": [
    "# Importing Libraries\n",
    "import time\n",
    "import pickle\n",
    "import numpy as np\n",
    "import pandas as pd\n",
    "import xgboost as xgb\n",
    "\n",
    "from numpy import sqrt \n",
    "from sklearn.metrics import mean_squared_error"
   ]
  },
  {
   "cell_type": "markdown",
   "metadata": {},
   "source": [
    "### Importing Libraries"
   ]
  },
  {
   "cell_type": "code",
   "execution_count": 3,
   "metadata": {},
   "outputs": [
    {
     "data": {
      "text/plain": [
       "'c:\\\\Users\\\\manash.jyoti.konwar\\\\Documents\\\\AI_Random_Projects\\\\ML-Retail-Sales'"
      ]
     },
     "execution_count": 3,
     "metadata": {},
     "output_type": "execute_result"
    }
   ],
   "source": [
    "os.chdir('..')\n",
    "os.getcwd()"
   ]
  },
  {
   "cell_type": "markdown",
   "metadata": {},
   "source": [
    "### Loading Training Data and Features"
   ]
  },
  {
   "cell_type": "code",
   "execution_count": 4,
   "metadata": {},
   "outputs": [],
   "source": [
    "train_test_set = pd.read_csv(r'datasets\\training_datasets\\trainset.csv')\n",
    "with open(r'datasets\\training_datasets\\new_features.pkl', 'rb') as feature_file:\n",
    "    new_features = pickle.load(feature_file)"
   ]
  },
  {
   "cell_type": "code",
   "execution_count": 5,
   "metadata": {},
   "outputs": [
    {
     "name": "stdout",
     "output_type": "stream",
     "text": [
      "(11128050, 81)\n",
      "75\n"
     ]
    }
   ],
   "source": [
    "print(train_test_set.shape)\n",
    "print(len(new_features))"
   ]
  },
  {
   "cell_type": "markdown",
   "metadata": {},
   "source": [
    "### Training using XGBoost Regressor"
   ]
  },
  {
   "cell_type": "code",
   "execution_count": 6,
   "metadata": {},
   "outputs": [],
   "source": [
    "def train_xgboost():\n",
    "    current = time.time()\n",
    "\n",
    "    baseline_features = ['shop_id', 'item_id', 'item_category_id', 'date_block_num'] +  new_features + ['item_cnt_month']\n",
    "\n",
    "    # Clipping to range 0-20\n",
    "    train_test_set['item_cnt_month'] = train_test_set.item_cnt_month.fillna(0).clip(0,20)\n",
    "\n",
    "     # train: want rows with date_block_num from 0 to 31\n",
    "    train_time_range_lo = (train_test_set['date_block_num'] >= 0)\n",
    "    train_time_range_hi =  (train_test_set['date_block_num'] <= 32)\n",
    "\n",
    "    # val: want rows with date_block_num from 22\n",
    "    validation_time =  (train_test_set['date_block_num'] == 33)\n",
    "\n",
    "    # test: want rows with date_block_num from 34\n",
    "    test_time =  (train_test_set['date_block_num'] == 34)\n",
    "\n",
    "    # Retrieve rows for train set, val set, test set\n",
    "    cv_trainset = train_test_set[train_time_range_lo & train_time_range_hi]\n",
    "    cv_valset = train_test_set[validation_time]\n",
    "    cv_trainset = cv_trainset[baseline_features]\n",
    "    cv_valset = cv_valset[baseline_features]\n",
    "    testset = train_test_set[test_time]\n",
    "    testset = testset[baseline_features]\n",
    "\n",
    "    # Prepare numpy arrays for training/val/test\n",
    "    cv_trainset_vals = cv_trainset.values.astype(int)\n",
    "    trainx = cv_trainset_vals[:, 0:len(baseline_features) - 1]\n",
    "    trainy = cv_trainset_vals[:, len(baseline_features) - 1]\n",
    "\n",
    "    cv_valset_vals = cv_valset.values.astype(int)\n",
    "    valx = cv_valset_vals[:, 0:len(baseline_features) - 1]\n",
    "    valy = cv_valset_vals[:, len(baseline_features) - 1]\n",
    "\n",
    "    testset_vals = testset.values.astype(int)\n",
    "    testx = testset_vals[:, 0:len(baseline_features) - 1]\n",
    "\n",
    "    print('Fitting...')\n",
    "\n",
    "    model = xgb.XGBRegressor(max_depth = 11, min_child_weight=0.5, subsample = 1, eta = 0.3, num_round = 1000, seed = 1, nthread = 16)\n",
    "    model.fit(trainx, trainy, eval_metric='rmse')\n",
    "\n",
    "    preds = model.predict(valx)\n",
    "    # Clipping to range 0-20\n",
    "    preds = np.clip(preds, 0,20)\n",
    "    print('val set rmse: ', sqrt(mean_squared_error(valy, preds)))\n",
    "\n",
    "    preds = model.predict(testx)\n",
    "    # Clipping to range 0-20\n",
    "    preds = np.clip(preds, 0,20)\n",
    "    df = pd.DataFrame(preds, columns = ['item_cnt_month'])\n",
    "    df['ID'] = df.index\n",
    "    df = df.set_index('ID')\n",
    "    df.to_csv('test_preds.csv')\n",
    "    print('test predictions written to file')\n",
    "\n",
    "    end = time.time()\n",
    "    diff = end - current\n",
    "    print('Took ' + str(int(diff)) + ' seconds to train and predict val, test set')\n",
    "    return model, df"
   ]
  },
  {
   "cell_type": "code",
   "execution_count": 7,
   "metadata": {},
   "outputs": [
    {
     "name": "stdout",
     "output_type": "stream",
     "text": [
      "Fitting...\n",
      "[21:46:40] WARNING: C:/Users/Administrator/workspace/xgboost-win64_release_1.5.1/src/learner.cc:576: \n",
      "Parameters: { \"num_round\" } might not be used.\n",
      "\n",
      "  This could be a false alarm, with some parameters getting used by language bindings but\n",
      "  then being mistakenly passed down to XGBoost core, or some parameter actually being used\n",
      "  but getting flagged wrongly here. Please open an issue if you find any such cases.\n",
      "\n",
      "\n"
     ]
    },
    {
     "ename": "KeyboardInterrupt",
     "evalue": "",
     "output_type": "error",
     "traceback": [
      "\u001b[1;31m---------------------------------------------------------------------------\u001b[0m",
      "\u001b[1;31mKeyboardInterrupt\u001b[0m                         Traceback (most recent call last)",
      "Input \u001b[1;32mIn [7]\u001b[0m, in \u001b[0;36m<module>\u001b[1;34m\u001b[0m\n\u001b[1;32m----> 1\u001b[0m trained_model, df_test_predictions \u001b[39m=\u001b[39m train_xgboost()\n",
      "Input \u001b[1;32mIn [6]\u001b[0m, in \u001b[0;36mtrain_xgboost\u001b[1;34m()\u001b[0m\n\u001b[0;32m     39\u001b[0m \u001b[39mprint\u001b[39m(\u001b[39m'\u001b[39m\u001b[39mFitting...\u001b[39m\u001b[39m'\u001b[39m)\n\u001b[0;32m     41\u001b[0m model \u001b[39m=\u001b[39m xgb\u001b[39m.\u001b[39mXGBRegressor(max_depth \u001b[39m=\u001b[39m \u001b[39m11\u001b[39m, min_child_weight\u001b[39m=\u001b[39m\u001b[39m0.5\u001b[39m, subsample \u001b[39m=\u001b[39m \u001b[39m1\u001b[39m, eta \u001b[39m=\u001b[39m \u001b[39m0.3\u001b[39m, num_round \u001b[39m=\u001b[39m \u001b[39m1000\u001b[39m, seed \u001b[39m=\u001b[39m \u001b[39m1\u001b[39m, nthread \u001b[39m=\u001b[39m \u001b[39m16\u001b[39m)\n\u001b[1;32m---> 42\u001b[0m model\u001b[39m.\u001b[39;49mfit(trainx, trainy, eval_metric\u001b[39m=\u001b[39;49m\u001b[39m'\u001b[39;49m\u001b[39mrmse\u001b[39;49m\u001b[39m'\u001b[39;49m)\n\u001b[0;32m     44\u001b[0m preds \u001b[39m=\u001b[39m model\u001b[39m.\u001b[39mpredict(valx)\n\u001b[0;32m     45\u001b[0m \u001b[39m# Clipping to range 0-20\u001b[39;00m\n",
      "File \u001b[1;32m~\\Documents\\AI_Random_Projects\\virtualEnvs\\MLPricingVenv\\lib\\site-packages\\xgboost\\core.py:506\u001b[0m, in \u001b[0;36m_deprecate_positional_args.<locals>.inner_f\u001b[1;34m(*args, **kwargs)\u001b[0m\n\u001b[0;32m    <a href='file:///c%3A/Users/manash.jyoti.konwar/Documents/AI_Random_Projects/virtualEnvs/MLPricingVenv/lib/site-packages/xgboost/core.py?line=503'>504</a>\u001b[0m \u001b[39mfor\u001b[39;00m k, arg \u001b[39min\u001b[39;00m \u001b[39mzip\u001b[39m(sig\u001b[39m.\u001b[39mparameters, args):\n\u001b[0;32m    <a href='file:///c%3A/Users/manash.jyoti.konwar/Documents/AI_Random_Projects/virtualEnvs/MLPricingVenv/lib/site-packages/xgboost/core.py?line=504'>505</a>\u001b[0m     kwargs[k] \u001b[39m=\u001b[39m arg\n\u001b[1;32m--> <a href='file:///c%3A/Users/manash.jyoti.konwar/Documents/AI_Random_Projects/virtualEnvs/MLPricingVenv/lib/site-packages/xgboost/core.py?line=505'>506</a>\u001b[0m \u001b[39mreturn\u001b[39;00m f(\u001b[39m*\u001b[39;49m\u001b[39m*\u001b[39;49mkwargs)\n",
      "File \u001b[1;32m~\\Documents\\AI_Random_Projects\\virtualEnvs\\MLPricingVenv\\lib\\site-packages\\xgboost\\sklearn.py:789\u001b[0m, in \u001b[0;36mXGBModel.fit\u001b[1;34m(self, X, y, sample_weight, base_margin, eval_set, eval_metric, early_stopping_rounds, verbose, xgb_model, sample_weight_eval_set, base_margin_eval_set, feature_weights, callbacks)\u001b[0m\n\u001b[0;32m    <a href='file:///c%3A/Users/manash.jyoti.konwar/Documents/AI_Random_Projects/virtualEnvs/MLPricingVenv/lib/site-packages/xgboost/sklearn.py?line=785'>786</a>\u001b[0m     obj \u001b[39m=\u001b[39m \u001b[39mNone\u001b[39;00m\n\u001b[0;32m    <a href='file:///c%3A/Users/manash.jyoti.konwar/Documents/AI_Random_Projects/virtualEnvs/MLPricingVenv/lib/site-packages/xgboost/sklearn.py?line=787'>788</a>\u001b[0m model, feval, params \u001b[39m=\u001b[39m \u001b[39mself\u001b[39m\u001b[39m.\u001b[39m_configure_fit(xgb_model, eval_metric, params)\n\u001b[1;32m--> <a href='file:///c%3A/Users/manash.jyoti.konwar/Documents/AI_Random_Projects/virtualEnvs/MLPricingVenv/lib/site-packages/xgboost/sklearn.py?line=788'>789</a>\u001b[0m \u001b[39mself\u001b[39m\u001b[39m.\u001b[39m_Booster \u001b[39m=\u001b[39m train(\n\u001b[0;32m    <a href='file:///c%3A/Users/manash.jyoti.konwar/Documents/AI_Random_Projects/virtualEnvs/MLPricingVenv/lib/site-packages/xgboost/sklearn.py?line=789'>790</a>\u001b[0m     params,\n\u001b[0;32m    <a href='file:///c%3A/Users/manash.jyoti.konwar/Documents/AI_Random_Projects/virtualEnvs/MLPricingVenv/lib/site-packages/xgboost/sklearn.py?line=790'>791</a>\u001b[0m     train_dmatrix,\n\u001b[0;32m    <a href='file:///c%3A/Users/manash.jyoti.konwar/Documents/AI_Random_Projects/virtualEnvs/MLPricingVenv/lib/site-packages/xgboost/sklearn.py?line=791'>792</a>\u001b[0m     \u001b[39mself\u001b[39;49m\u001b[39m.\u001b[39;49mget_num_boosting_rounds(),\n\u001b[0;32m    <a href='file:///c%3A/Users/manash.jyoti.konwar/Documents/AI_Random_Projects/virtualEnvs/MLPricingVenv/lib/site-packages/xgboost/sklearn.py?line=792'>793</a>\u001b[0m     evals\u001b[39m=\u001b[39;49mevals,\n\u001b[0;32m    <a href='file:///c%3A/Users/manash.jyoti.konwar/Documents/AI_Random_Projects/virtualEnvs/MLPricingVenv/lib/site-packages/xgboost/sklearn.py?line=793'>794</a>\u001b[0m     early_stopping_rounds\u001b[39m=\u001b[39;49mearly_stopping_rounds,\n\u001b[0;32m    <a href='file:///c%3A/Users/manash.jyoti.konwar/Documents/AI_Random_Projects/virtualEnvs/MLPricingVenv/lib/site-packages/xgboost/sklearn.py?line=794'>795</a>\u001b[0m     evals_result\u001b[39m=\u001b[39;49mevals_result,\n\u001b[0;32m    <a href='file:///c%3A/Users/manash.jyoti.konwar/Documents/AI_Random_Projects/virtualEnvs/MLPricingVenv/lib/site-packages/xgboost/sklearn.py?line=795'>796</a>\u001b[0m     obj\u001b[39m=\u001b[39;49mobj,\n\u001b[0;32m    <a href='file:///c%3A/Users/manash.jyoti.konwar/Documents/AI_Random_Projects/virtualEnvs/MLPricingVenv/lib/site-packages/xgboost/sklearn.py?line=796'>797</a>\u001b[0m     feval\u001b[39m=\u001b[39;49mfeval,\n\u001b[0;32m    <a href='file:///c%3A/Users/manash.jyoti.konwar/Documents/AI_Random_Projects/virtualEnvs/MLPricingVenv/lib/site-packages/xgboost/sklearn.py?line=797'>798</a>\u001b[0m     verbose_eval\u001b[39m=\u001b[39;49mverbose,\n\u001b[0;32m    <a href='file:///c%3A/Users/manash.jyoti.konwar/Documents/AI_Random_Projects/virtualEnvs/MLPricingVenv/lib/site-packages/xgboost/sklearn.py?line=798'>799</a>\u001b[0m     xgb_model\u001b[39m=\u001b[39;49mmodel,\n\u001b[0;32m    <a href='file:///c%3A/Users/manash.jyoti.konwar/Documents/AI_Random_Projects/virtualEnvs/MLPricingVenv/lib/site-packages/xgboost/sklearn.py?line=799'>800</a>\u001b[0m     callbacks\u001b[39m=\u001b[39;49mcallbacks,\n\u001b[0;32m    <a href='file:///c%3A/Users/manash.jyoti.konwar/Documents/AI_Random_Projects/virtualEnvs/MLPricingVenv/lib/site-packages/xgboost/sklearn.py?line=800'>801</a>\u001b[0m )\n\u001b[0;32m    <a href='file:///c%3A/Users/manash.jyoti.konwar/Documents/AI_Random_Projects/virtualEnvs/MLPricingVenv/lib/site-packages/xgboost/sklearn.py?line=802'>803</a>\u001b[0m \u001b[39mself\u001b[39m\u001b[39m.\u001b[39m_set_evaluation_result(evals_result)\n\u001b[0;32m    <a href='file:///c%3A/Users/manash.jyoti.konwar/Documents/AI_Random_Projects/virtualEnvs/MLPricingVenv/lib/site-packages/xgboost/sklearn.py?line=803'>804</a>\u001b[0m \u001b[39mreturn\u001b[39;00m \u001b[39mself\u001b[39m\n",
      "File \u001b[1;32m~\\Documents\\AI_Random_Projects\\virtualEnvs\\MLPricingVenv\\lib\\site-packages\\xgboost\\training.py:188\u001b[0m, in \u001b[0;36mtrain\u001b[1;34m(params, dtrain, num_boost_round, evals, obj, feval, maximize, early_stopping_rounds, evals_result, verbose_eval, xgb_model, callbacks)\u001b[0m\n\u001b[0;32m    <a href='file:///c%3A/Users/manash.jyoti.konwar/Documents/AI_Random_Projects/virtualEnvs/MLPricingVenv/lib/site-packages/xgboost/training.py?line=114'>115</a>\u001b[0m \u001b[39mdef\u001b[39;00m \u001b[39mtrain\u001b[39m(params, dtrain, num_boost_round\u001b[39m=\u001b[39m\u001b[39m10\u001b[39m, evals\u001b[39m=\u001b[39m(), obj\u001b[39m=\u001b[39m\u001b[39mNone\u001b[39;00m, feval\u001b[39m=\u001b[39m\u001b[39mNone\u001b[39;00m,\n\u001b[0;32m    <a href='file:///c%3A/Users/manash.jyoti.konwar/Documents/AI_Random_Projects/virtualEnvs/MLPricingVenv/lib/site-packages/xgboost/training.py?line=115'>116</a>\u001b[0m           maximize\u001b[39m=\u001b[39m\u001b[39mNone\u001b[39;00m, early_stopping_rounds\u001b[39m=\u001b[39m\u001b[39mNone\u001b[39;00m, evals_result\u001b[39m=\u001b[39m\u001b[39mNone\u001b[39;00m,\n\u001b[0;32m    <a href='file:///c%3A/Users/manash.jyoti.konwar/Documents/AI_Random_Projects/virtualEnvs/MLPricingVenv/lib/site-packages/xgboost/training.py?line=116'>117</a>\u001b[0m           verbose_eval\u001b[39m=\u001b[39m\u001b[39mTrue\u001b[39;00m, xgb_model\u001b[39m=\u001b[39m\u001b[39mNone\u001b[39;00m, callbacks\u001b[39m=\u001b[39m\u001b[39mNone\u001b[39;00m):\n\u001b[0;32m    <a href='file:///c%3A/Users/manash.jyoti.konwar/Documents/AI_Random_Projects/virtualEnvs/MLPricingVenv/lib/site-packages/xgboost/training.py?line=117'>118</a>\u001b[0m     \u001b[39m# pylint: disable=too-many-statements,too-many-branches, attribute-defined-outside-init\u001b[39;00m\n\u001b[0;32m    <a href='file:///c%3A/Users/manash.jyoti.konwar/Documents/AI_Random_Projects/virtualEnvs/MLPricingVenv/lib/site-packages/xgboost/training.py?line=118'>119</a>\u001b[0m     \u001b[39m\"\"\"Train a booster with given parameters.\u001b[39;00m\n\u001b[0;32m    <a href='file:///c%3A/Users/manash.jyoti.konwar/Documents/AI_Random_Projects/virtualEnvs/MLPricingVenv/lib/site-packages/xgboost/training.py?line=119'>120</a>\u001b[0m \n\u001b[0;32m    <a href='file:///c%3A/Users/manash.jyoti.konwar/Documents/AI_Random_Projects/virtualEnvs/MLPricingVenv/lib/site-packages/xgboost/training.py?line=120'>121</a>\u001b[0m \u001b[39m    Parameters\u001b[39;00m\n\u001b[1;32m   (...)\u001b[0m\n\u001b[0;32m    <a href='file:///c%3A/Users/manash.jyoti.konwar/Documents/AI_Random_Projects/virtualEnvs/MLPricingVenv/lib/site-packages/xgboost/training.py?line=185'>186</a>\u001b[0m \u001b[39m    Booster : a trained booster model\u001b[39;00m\n\u001b[0;32m    <a href='file:///c%3A/Users/manash.jyoti.konwar/Documents/AI_Random_Projects/virtualEnvs/MLPricingVenv/lib/site-packages/xgboost/training.py?line=186'>187</a>\u001b[0m \u001b[39m    \"\"\"\u001b[39;00m\n\u001b[1;32m--> <a href='file:///c%3A/Users/manash.jyoti.konwar/Documents/AI_Random_Projects/virtualEnvs/MLPricingVenv/lib/site-packages/xgboost/training.py?line=187'>188</a>\u001b[0m     bst \u001b[39m=\u001b[39m _train_internal(params, dtrain,\n\u001b[0;32m    <a href='file:///c%3A/Users/manash.jyoti.konwar/Documents/AI_Random_Projects/virtualEnvs/MLPricingVenv/lib/site-packages/xgboost/training.py?line=188'>189</a>\u001b[0m                           num_boost_round\u001b[39m=\u001b[39;49mnum_boost_round,\n\u001b[0;32m    <a href='file:///c%3A/Users/manash.jyoti.konwar/Documents/AI_Random_Projects/virtualEnvs/MLPricingVenv/lib/site-packages/xgboost/training.py?line=189'>190</a>\u001b[0m                           evals\u001b[39m=\u001b[39;49mevals,\n\u001b[0;32m    <a href='file:///c%3A/Users/manash.jyoti.konwar/Documents/AI_Random_Projects/virtualEnvs/MLPricingVenv/lib/site-packages/xgboost/training.py?line=190'>191</a>\u001b[0m                           obj\u001b[39m=\u001b[39;49mobj, feval\u001b[39m=\u001b[39;49mfeval,\n\u001b[0;32m    <a href='file:///c%3A/Users/manash.jyoti.konwar/Documents/AI_Random_Projects/virtualEnvs/MLPricingVenv/lib/site-packages/xgboost/training.py?line=191'>192</a>\u001b[0m                           xgb_model\u001b[39m=\u001b[39;49mxgb_model, callbacks\u001b[39m=\u001b[39;49mcallbacks,\n\u001b[0;32m    <a href='file:///c%3A/Users/manash.jyoti.konwar/Documents/AI_Random_Projects/virtualEnvs/MLPricingVenv/lib/site-packages/xgboost/training.py?line=192'>193</a>\u001b[0m                           verbose_eval\u001b[39m=\u001b[39;49mverbose_eval,\n\u001b[0;32m    <a href='file:///c%3A/Users/manash.jyoti.konwar/Documents/AI_Random_Projects/virtualEnvs/MLPricingVenv/lib/site-packages/xgboost/training.py?line=193'>194</a>\u001b[0m                           evals_result\u001b[39m=\u001b[39;49mevals_result,\n\u001b[0;32m    <a href='file:///c%3A/Users/manash.jyoti.konwar/Documents/AI_Random_Projects/virtualEnvs/MLPricingVenv/lib/site-packages/xgboost/training.py?line=194'>195</a>\u001b[0m                           maximize\u001b[39m=\u001b[39;49mmaximize,\n\u001b[0;32m    <a href='file:///c%3A/Users/manash.jyoti.konwar/Documents/AI_Random_Projects/virtualEnvs/MLPricingVenv/lib/site-packages/xgboost/training.py?line=195'>196</a>\u001b[0m                           early_stopping_rounds\u001b[39m=\u001b[39;49mearly_stopping_rounds)\n\u001b[0;32m    <a href='file:///c%3A/Users/manash.jyoti.konwar/Documents/AI_Random_Projects/virtualEnvs/MLPricingVenv/lib/site-packages/xgboost/training.py?line=196'>197</a>\u001b[0m     \u001b[39mreturn\u001b[39;00m bst\n",
      "File \u001b[1;32m~\\Documents\\AI_Random_Projects\\virtualEnvs\\MLPricingVenv\\lib\\site-packages\\xgboost\\training.py:81\u001b[0m, in \u001b[0;36m_train_internal\u001b[1;34m(params, dtrain, num_boost_round, evals, obj, feval, xgb_model, callbacks, evals_result, maximize, verbose_eval, early_stopping_rounds)\u001b[0m\n\u001b[0;32m     <a href='file:///c%3A/Users/manash.jyoti.konwar/Documents/AI_Random_Projects/virtualEnvs/MLPricingVenv/lib/site-packages/xgboost/training.py?line=78'>79</a>\u001b[0m \u001b[39mif\u001b[39;00m callbacks\u001b[39m.\u001b[39mbefore_iteration(bst, i, dtrain, evals):\n\u001b[0;32m     <a href='file:///c%3A/Users/manash.jyoti.konwar/Documents/AI_Random_Projects/virtualEnvs/MLPricingVenv/lib/site-packages/xgboost/training.py?line=79'>80</a>\u001b[0m     \u001b[39mbreak\u001b[39;00m\n\u001b[1;32m---> <a href='file:///c%3A/Users/manash.jyoti.konwar/Documents/AI_Random_Projects/virtualEnvs/MLPricingVenv/lib/site-packages/xgboost/training.py?line=80'>81</a>\u001b[0m bst\u001b[39m.\u001b[39;49mupdate(dtrain, i, obj)\n\u001b[0;32m     <a href='file:///c%3A/Users/manash.jyoti.konwar/Documents/AI_Random_Projects/virtualEnvs/MLPricingVenv/lib/site-packages/xgboost/training.py?line=81'>82</a>\u001b[0m \u001b[39mif\u001b[39;00m callbacks\u001b[39m.\u001b[39mafter_iteration(bst, i, dtrain, evals):\n\u001b[0;32m     <a href='file:///c%3A/Users/manash.jyoti.konwar/Documents/AI_Random_Projects/virtualEnvs/MLPricingVenv/lib/site-packages/xgboost/training.py?line=82'>83</a>\u001b[0m     \u001b[39mbreak\u001b[39;00m\n",
      "File \u001b[1;32m~\\Documents\\AI_Random_Projects\\virtualEnvs\\MLPricingVenv\\lib\\site-packages\\xgboost\\core.py:1680\u001b[0m, in \u001b[0;36mBooster.update\u001b[1;34m(self, dtrain, iteration, fobj)\u001b[0m\n\u001b[0;32m   <a href='file:///c%3A/Users/manash.jyoti.konwar/Documents/AI_Random_Projects/virtualEnvs/MLPricingVenv/lib/site-packages/xgboost/core.py?line=1676'>1677</a>\u001b[0m \u001b[39mself\u001b[39m\u001b[39m.\u001b[39m_validate_features(dtrain)\n\u001b[0;32m   <a href='file:///c%3A/Users/manash.jyoti.konwar/Documents/AI_Random_Projects/virtualEnvs/MLPricingVenv/lib/site-packages/xgboost/core.py?line=1678'>1679</a>\u001b[0m \u001b[39mif\u001b[39;00m fobj \u001b[39mis\u001b[39;00m \u001b[39mNone\u001b[39;00m:\n\u001b[1;32m-> <a href='file:///c%3A/Users/manash.jyoti.konwar/Documents/AI_Random_Projects/virtualEnvs/MLPricingVenv/lib/site-packages/xgboost/core.py?line=1679'>1680</a>\u001b[0m     _check_call(_LIB\u001b[39m.\u001b[39;49mXGBoosterUpdateOneIter(\u001b[39mself\u001b[39;49m\u001b[39m.\u001b[39;49mhandle,\n\u001b[0;32m   <a href='file:///c%3A/Users/manash.jyoti.konwar/Documents/AI_Random_Projects/virtualEnvs/MLPricingVenv/lib/site-packages/xgboost/core.py?line=1680'>1681</a>\u001b[0m                                             ctypes\u001b[39m.\u001b[39;49mc_int(iteration),\n\u001b[0;32m   <a href='file:///c%3A/Users/manash.jyoti.konwar/Documents/AI_Random_Projects/virtualEnvs/MLPricingVenv/lib/site-packages/xgboost/core.py?line=1681'>1682</a>\u001b[0m                                             dtrain\u001b[39m.\u001b[39;49mhandle))\n\u001b[0;32m   <a href='file:///c%3A/Users/manash.jyoti.konwar/Documents/AI_Random_Projects/virtualEnvs/MLPricingVenv/lib/site-packages/xgboost/core.py?line=1682'>1683</a>\u001b[0m \u001b[39melse\u001b[39;00m:\n\u001b[0;32m   <a href='file:///c%3A/Users/manash.jyoti.konwar/Documents/AI_Random_Projects/virtualEnvs/MLPricingVenv/lib/site-packages/xgboost/core.py?line=1683'>1684</a>\u001b[0m     pred \u001b[39m=\u001b[39m \u001b[39mself\u001b[39m\u001b[39m.\u001b[39mpredict(dtrain, output_margin\u001b[39m=\u001b[39m\u001b[39mTrue\u001b[39;00m, training\u001b[39m=\u001b[39m\u001b[39mTrue\u001b[39;00m)\n",
      "\u001b[1;31mKeyboardInterrupt\u001b[0m: "
     ]
    }
   ],
   "source": [
    "trained_model, df_test_predictions = train_xgboost()"
   ]
  }
 ],
 "metadata": {
  "interpreter": {
   "hash": "3b9f8af297b42731035e3961f71e3310abb8c937082fd1fe14b88b48b8fbc7a2"
  },
  "kernelspec": {
   "display_name": "Python 3.8.8 ('MLPricingVenv')",
   "language": "python",
   "name": "python3"
  },
  "language_info": {
   "codemirror_mode": {
    "name": "ipython",
    "version": 3
   },
   "file_extension": ".py",
   "mimetype": "text/x-python",
   "name": "python",
   "nbconvert_exporter": "python",
   "pygments_lexer": "ipython3",
   "version": "3.8.8"
  },
  "orig_nbformat": 4
 },
 "nbformat": 4,
 "nbformat_minor": 2
}
