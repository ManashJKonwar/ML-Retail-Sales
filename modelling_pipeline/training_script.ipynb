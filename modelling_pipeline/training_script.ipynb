{
 "cells": [
  {
   "cell_type": "markdown",
   "metadata": {},
   "source": [
    "### Importing Libraries"
   ]
  },
  {
   "cell_type": "code",
   "execution_count": null,
   "metadata": {},
   "outputs": [],
   "source": [
    "# Importing Libraries\n",
    "import numpy as np\n",
    "import pandas as pd\n",
    "import matplotlib.pyplot as plt\n",
    "import seaborn as sns\n",
    "import xgboost as xgb\n",
    "import time\n",
    "\n",
    "from math import sqrt\n",
    "from numpy import loadtxt\n",
    "from itertools import product\n",
    "from tqdm import tqdm\n",
    "from sklearn import preprocessing\n",
    "from xgboost import plot_tree\n",
    "from matplotlib import pyplot\n",
    "\n",
    "from sklearn.model_selection import train_test_split\n",
    "from sklearn.metrics import accuracy_score\n",
    "from sklearn.metrics import mean_squared_error\n",
    "from sklearn.model_selection import KFold\n",
    "from sklearn.feature_extraction.text import TfidfVectorizer"
   ]
  },
  {
   "cell_type": "code",
   "execution_count": null,
   "metadata": {},
   "outputs": [],
   "source": [
    "os.chdir('..')\n",
    "os.getcwd()"
   ]
  },
  {
   "cell_type": "markdown",
   "metadata": {},
   "source": [
    "### Loading Data"
   ]
  },
  {
   "cell_type": "code",
   "execution_count": null,
   "metadata": {},
   "outputs": [],
   "source": [
    "sales_train = pd.read_csv(r'datasets\\sales_train.csv')\n",
    "items = pd.read_csv(r'datasets\\translated_items.csv')\n",
    "shops = pd.read_csv(r'datasets\\translated_shops.csv')\n",
    "item_categories = pd.read_csv(r'datasets\\translated_item_categories.csv')\n",
    "test = pd.read_csv(r'datasets\\test.csv')\n",
    "sample_submission = pd.read_csv(r'datasets\\sample_submission.csv')"
   ]
  },
  {
   "cell_type": "markdown",
   "metadata": {},
   "source": [
    "### Aggregation of data "
   ]
  },
  {
   "cell_type": "code",
   "execution_count": null,
   "metadata": {},
   "outputs": [],
   "source": [
    "# Create a dataframe grid which is based on shop and item id combinations and is arranged based on \n",
    "grid = []\n",
    "for block_num in sales_train['date_block_num'].unique():\n",
    "    cur_shops = sales_train[sales_train['date_block_num']==block_num]['shop_id'].unique()\n",
    "    cur_items = sales_train[sales_train['date_block_num']==block_num]['item_id'].unique()\n",
    "    grid.append(np.array(list(product(*[cur_shops, cur_items, [block_num]])),dtype='int32'))\n",
    "index_cols = ['shop_id', 'item_id', 'date_block_num']\n",
    "grid = pd.DataFrame(np.vstack(grid), columns = index_cols, dtype=np.int32)\n",
    "grid"
   ]
  },
  {
   "cell_type": "code",
   "execution_count": null,
   "metadata": {},
   "outputs": [],
   "source": [
    "# Aggregations are done to convert daily sales to month level\n",
    "sales_train['item_cnt_day'] = sales_train['item_cnt_day'].clip(0,20)\n",
    "groups = sales_train.groupby(['shop_id', 'item_id', 'date_block_num'])\n",
    "trainset = groups.agg({'item_cnt_day':'sum', 'item_price':'mean'}).reset_index()\n",
    "trainset = trainset.rename(columns = {'item_cnt_day' : 'item_cnt_month'})\n",
    "trainset['item_cnt_month'] = trainset['item_cnt_month'].clip(0,20)\n",
    "trainset"
   ]
  },
  {
   "cell_type": "code",
   "execution_count": null,
   "metadata": {},
   "outputs": [],
   "source": [
    "trainset = pd.merge(grid,trainset,how='left',on=index_cols)\n",
    "trainset.item_cnt_month = trainset.item_cnt_month.fillna(0)\n",
    "trainset"
   ]
  },
  {
   "cell_type": "code",
   "execution_count": null,
   "metadata": {},
   "outputs": [],
   "source": [
    "# Get category id\n",
    "trainset = pd.merge(trainset, items[['item_id', 'item_category_id']], on = 'item_id')\n",
    "trainset"
   ]
  },
  {
   "cell_type": "markdown",
   "metadata": {},
   "source": [
    "### Feature Engineering"
   ]
  },
  {
   "cell_type": "code",
   "execution_count": null,
   "metadata": {},
   "outputs": [],
   "source": [
    "# Set seeds and options\n",
    "np.random.seed(10)\n",
    "pd.set_option('display.max_rows', 231)\n",
    "pd.set_option('display.max_columns', 100)"
   ]
  },
  {
   "cell_type": "code",
   "execution_count": null,
   "metadata": {},
   "outputs": [],
   "source": [
    "# Feature engineering list\n",
    "new_features = []\n",
    "enable_feature_idea = [True, True, True, True, True, True, True, True, True, True]\n",
    "\n",
    "# Some parameters(maybe add more periods, score will be better) [1,2,3,12]\n",
    "lookback_range = [1,2,3,4,5,6,7,8,9,10,11,12]\n",
    "\n",
    "tqdm.pandas()\n",
    "\n",
    "# Use recent data\n",
    "start_month_index = trainset.date_block_num.min()\n",
    "end_month_index = trainset.date_block_num.max()"
   ]
  },
  {
   "cell_type": "code",
   "execution_count": null,
   "metadata": {},
   "outputs": [],
   "source": [
    "current = time.time()\n",
    "\n",
    "trainset = trainset[['shop_id', 'item_id', 'item_category_id', 'date_block_num', 'item_price', 'item_cnt_month']]\n",
    "trainset = trainset[(trainset.date_block_num >= start_month_index) & (trainset.date_block_num <= end_month_index)]\n",
    "\n",
    "print('Loading test set...')\n",
    "test_dataset = loadtxt(r'datasets\\test.csv', delimiter=\",\" ,skiprows=1, usecols = (1,2), dtype=int)\n",
    "testset = pd.DataFrame(test_dataset, columns = ['shop_id', 'item_id'])\n",
    "\n",
    "print('Merging with other datasets...')\n",
    "# Get item category id into test_df\n",
    "testset = testset.merge(items[['item_id', 'item_category_id']], on = 'item_id', how = 'left')\n",
    "testset['date_block_num'] = 34\n",
    "# Make testset contains same column as trainset so we can concatenate them row-wise\n",
    "testset['item_cnt_month'] = -1\n",
    "testset"
   ]
  },
  {
   "cell_type": "code",
   "execution_count": null,
   "metadata": {},
   "outputs": [],
   "source": [
    "train_test_set = pd.concat([trainset, testset], axis = 0) \n",
    "\n",
    "end = time.time()\n",
    "diff = end - current\n",
    "print('Took ' + str(int(diff)) + ' seconds to train and predict val set')"
   ]
  },
  {
   "cell_type": "code",
   "execution_count": null,
   "metadata": {},
   "outputs": [],
   "source": [
    "# Using Label Encoder to encode the item categories and use them with training set data\n",
    "lb = preprocessing.LabelEncoder()\n",
    "l_cat = list(item_categories.translated_item_category_name)"
   ]
  },
  {
   "cell_type": "code",
   "execution_count": null,
   "metadata": {},
   "outputs": [],
   "source": [
    "item_categories['item_category_id_fix'] = lb.fit_transform(l_cat)\n",
    "item_categories['item_category_name_fix'] = l_cat\n",
    "train_test_set = train_test_set.merge(item_categories[['item_category_id', 'item_category_id_fix']], on = 'item_category_id', how = 'left')\n",
    "_ = train_test_set.drop(['item_category_id'],axis=1, inplace=True)\n",
    "train_test_set.rename(columns = {'item_category_id_fix':'item_category_id'}, inplace = True)\n",
    "\n",
    "_ = item_categories.drop(['item_category_id'],axis=1, inplace=True)\n",
    "_ = item_categories.drop(['item_category_name'],axis=1, inplace=True)\n",
    "_ = item_categories.drop(['translated_item_category_name'],axis=1, inplace=True)\n",
    "\n",
    "item_categories.rename(columns = {'item_category_id_fix':'item_category_id'}, inplace = True)\n",
    "item_categories.rename(columns = {'item_category_name_fix':'item_category_name'}, inplace = True)\n",
    "item_categories = item_categories.drop_duplicates()\n",
    "item_categories.index = np.arange(0, len(item_categories))\n",
    "item_categories = item_categories.sort_values(by=['item_category_id']).reset_index(drop=True)\n",
    "item_categories"
   ]
  },
  {
   "cell_type": "markdown",
   "metadata": {},
   "source": [
    "Idea 0: Add previous shop/item sales as feature (Lag feature)"
   ]
  },
  {
   "cell_type": "code",
   "execution_count": null,
   "metadata": {},
   "outputs": [],
   "source": [
    "if enable_feature_idea[0]:\n",
    "    for diff in tqdm(lookback_range):\n",
    "        feature_name = 'prev_shopitem_sales_' + str(diff)\n",
    "        trainset2 = train_test_set.copy()\n",
    "        trainset2.loc[:, 'date_block_num'] += diff\n",
    "        trainset2.rename(columns={'item_cnt_month': feature_name}, inplace=True)\n",
    "        train_test_set = train_test_set.merge(trainset2[['shop_id', 'item_id', 'date_block_num', feature_name]], on = ['shop_id', 'item_id', 'date_block_num'], how = 'left')\n",
    "        train_test_set[feature_name] = train_test_set[feature_name].fillna(0)\n",
    "        new_features.append(feature_name)\n",
    "train_test_set.head(3)"
   ]
  },
  {
   "cell_type": "markdown",
   "metadata": {},
   "source": [
    "Idea 1: Add previous item sales as feature (Lag feature)"
   ]
  },
  {
   "cell_type": "code",
   "execution_count": null,
   "metadata": {},
   "outputs": [],
   "source": [
    "if enable_feature_idea[1]:\n",
    "    groups = train_test_set.groupby(by = ['item_id', 'date_block_num'])\n",
    "    for diff in tqdm(lookback_range):\n",
    "        feature_name = 'prev_item_sales_' + str(diff)\n",
    "        result = groups.agg({'item_cnt_month':'mean'})\n",
    "        result = result.reset_index()\n",
    "        result.loc[:, 'date_block_num'] += diff\n",
    "        result.rename(columns={'item_cnt_month': feature_name}, inplace=True)\n",
    "        train_test_set = train_test_set.merge(result, on = ['item_id', 'date_block_num'], how = 'left')\n",
    "        train_test_set[feature_name] = train_test_set[feature_name].fillna(0)\n",
    "        new_features.append(feature_name)        \n",
    "train_test_set.head(3)"
   ]
  },
  {
   "cell_type": "markdown",
   "metadata": {},
   "source": [
    "Idea 2: Add previous shop/item price as feature (Lag feature)"
   ]
  },
  {
   "cell_type": "code",
   "execution_count": null,
   "metadata": {},
   "outputs": [],
   "source": [
    "if enable_feature_idea[2]:\n",
    "    groups = train_test_set.groupby(by = ['shop_id', 'item_id', 'date_block_num'])\n",
    "    for diff in tqdm(lookback_range):\n",
    "        feature_name = 'prev_shopitem_price_' + str(diff)\n",
    "        result = groups.agg({'item_price':'mean'})\n",
    "        result = result.reset_index()\n",
    "        result.loc[:, 'date_block_num'] += diff\n",
    "        result.rename(columns={'item_price': feature_name}, inplace=True)\n",
    "        train_test_set = train_test_set.merge(result, on = ['shop_id', 'item_id', 'date_block_num'], how = 'left')\n",
    "        train_test_set[feature_name] = train_test_set[feature_name]\n",
    "        new_features.append(feature_name)        \n",
    "train_test_set.head(3)"
   ]
  },
  {
   "cell_type": "markdown",
   "metadata": {},
   "source": [
    "Idea 3: Add previous item price as feature (Lag feature)"
   ]
  },
  {
   "cell_type": "code",
   "execution_count": null,
   "metadata": {},
   "outputs": [],
   "source": [
    "if enable_feature_idea[3]:\n",
    "    groups = train_test_set.groupby(by = ['item_id', 'date_block_num'])\n",
    "    for diff in tqdm(lookback_range):\n",
    "        feature_name = 'prev_item_price_' + str(diff)\n",
    "        result = groups.agg({'item_price':'mean'})\n",
    "        result = result.reset_index()\n",
    "        result.loc[:, 'date_block_num'] += diff\n",
    "        result.rename(columns={'item_price': feature_name}, inplace=True)\n",
    "        train_test_set = train_test_set.merge(result, on = ['item_id', 'date_block_num'], how = 'left')\n",
    "        train_test_set[feature_name] = train_test_set[feature_name]\n",
    "        new_features.append(feature_name)        \n",
    "train_test_set.head(3)"
   ]
  },
  {
   "cell_type": "markdown",
   "metadata": {},
   "source": [
    "Idea 4: Mean encodings for shop/item pairs(Mean encoding, doesnt work for me)"
   ]
  },
  {
   "cell_type": "code",
   "execution_count": null,
   "metadata": {},
   "outputs": [],
   "source": [
    "def create_mean_encodings(train_test_set, categorical_var_list, target):\n",
    "    feature_name = \"_\".join(categorical_var_list) + \"_\" + target + \"_mean\"\n",
    "\n",
    "    df = train_test_set.copy()\n",
    "    df1 = df[df.date_block_num <= 32]\n",
    "    df2 = df[df.date_block_num <= 33]\n",
    "    df3 = df[df.date_block_num == 34]\n",
    "\n",
    "    # Extract mean encodings using training data(here we don't use month 33 to avoid data leak on validation)\n",
    "    # If I try to extract mean encodings from all months, then val rmse decreases a tiny bit, but test rmse would increase by 4%\n",
    "    # So this is important\n",
    "    mean_32 = df1[categorical_var_list + [target]].groupby(categorical_var_list, as_index=False)[[target]].mean()\n",
    "    mean_32 = mean_32.rename(columns={target:feature_name})\n",
    "\n",
    "    # Extract mean encodings using all data, this will be applied to test data\n",
    "    mean_33 = df2[categorical_var_list + [target]].groupby(categorical_var_list, as_index=False)[[target]].mean()\n",
    "    mean_33 = mean_33.rename(columns={target:feature_name})\n",
    "\n",
    "    # Apply mean encodings\n",
    "    df2 = df2.merge(mean_32, on = categorical_var_list, how = 'left')\n",
    "    df3 = df3.merge(mean_33, on = categorical_var_list, how = 'left')\n",
    "\n",
    "    # Concatenate\n",
    "    train_test_set = pd.concat([df2, df3], axis = 0)\n",
    "    new_features.append(feature_name)\n",
    "    return train_test_set"
   ]
  },
  {
   "cell_type": "code",
   "execution_count": null,
   "metadata": {},
   "outputs": [],
   "source": [
    "create_mean_encodings(train_test_set, ['shop_id', 'item_id'], 'item_cnt_month')\n",
    "train_test_set.head(3)"
   ]
  },
  {
   "cell_type": "markdown",
   "metadata": {},
   "source": [
    "Idea 5: Mean encodings for item (Mean encoding, doesnt work for me)"
   ]
  },
  {
   "cell_type": "code",
   "execution_count": null,
   "metadata": {},
   "outputs": [],
   "source": [
    "train_test_set = create_mean_encodings(train_test_set, ['item_id'], 'item_cnt_month')\n",
    "train_test_set.head(3)"
   ]
  },
  {
   "cell_type": "markdown",
   "metadata": {},
   "source": [
    "Idea 6: Number of month from last sale of shop/item (Use info from past)"
   ]
  },
  {
   "cell_type": "code",
   "execution_count": null,
   "metadata": {},
   "outputs": [],
   "source": [
    "def create_last_sale_shop_item(row):\n",
    "    for diff in range(1,33+1):\n",
    "        feature_name = '_prev_shopitem_sales_' + str(diff)\n",
    "        if row[feature_name] != 0.0:\n",
    "            return diff\n",
    "    return np.nan\n",
    "\n",
    "lookback_range = list(range(1, 33 + 1))\n",
    "if enable_feature_idea[6]:\n",
    "    for diff in tqdm(lookback_range):\n",
    "        feature_name = '_prev_shopitem_sales_' + str(diff)\n",
    "        trainset2 = train_test_set.copy()\n",
    "        trainset2.loc[:, 'date_block_num'] += diff\n",
    "        trainset2.rename(columns={'item_cnt_month': feature_name}, inplace=True)\n",
    "        train_test_set = train_test_set.merge(trainset2[['shop_id', 'item_id', 'date_block_num', feature_name]], on = ['shop_id', 'item_id', 'date_block_num'], how = 'left')\n",
    "        train_test_set[feature_name] = train_test_set[feature_name].fillna(0)\n",
    "        #new_features.append(feature_name)\n",
    "\n",
    "train_test_set.loc[:, 'last_sale_shop_item'] = train_test_set.progress_apply (lambda row: create_last_sale_shop_item(row),axis=1)\n",
    "new_features.append('last_sale_shop_item')"
   ]
  },
  {
   "cell_type": "markdown",
   "metadata": {},
   "source": [
    "Idea 7: Number of month from last sale of item(Use info from past)"
   ]
  },
  {
   "cell_type": "code",
   "execution_count": null,
   "metadata": {},
   "outputs": [],
   "source": [
    "def create_last_sale_item(row):\n",
    "    for diff in range(1,33+1):\n",
    "        feature_name = '_prev_item_sales_' + str(diff)\n",
    "        if row[feature_name] != 0.0:\n",
    "            return diff\n",
    "    return np.nan\n",
    "    \n",
    "lookback_range = list(range(1, 33 + 1))\n",
    "if enable_feature_idea[7]:\n",
    "    groups = train_test_set.groupby(by = ['item_id', 'date_block_num'])\n",
    "    for diff in tqdm(lookback_range):\n",
    "        feature_name = '_prev_item_sales_' + str(diff)\n",
    "        result = groups.agg({'item_cnt_month':'mean'})\n",
    "        result = result.reset_index()\n",
    "        result.loc[:, 'date_block_num'] += diff\n",
    "        result.rename(columns={'item_cnt_month': feature_name}, inplace=True)\n",
    "        train_test_set = train_test_set.merge(result, on = ['item_id', 'date_block_num'], how = 'left')\n",
    "        train_test_set[feature_name] = train_test_set[feature_name].fillna(0)\n",
    "        new_features.append(feature_name)        \n",
    "train_test_set.loc[:, 'last_sale_item'] = train_test_set.progress_apply (lambda row: create_last_sale_item(row),axis=1)"
   ]
  },
  {
   "cell_type": "markdown",
   "metadata": {},
   "source": [
    "Idea 8: Item name (Tfidf text feature)"
   ]
  },
  {
   "cell_type": "code",
   "execution_count": null,
   "metadata": {},
   "outputs": [],
   "source": [
    "items_subset = items[['item_id', 'item_name']]\n",
    "feature_count = 25\n",
    "tfidf = TfidfVectorizer(max_features=feature_count)\n",
    "items_df_item_name_text_features = pd.DataFrame(tfidf.fit_transform(items_subset['item_name']).toarray())\n",
    "\n",
    "cols = items_df_item_name_text_features.columns\n",
    "for i in range(feature_count):\n",
    "    feature_name = 'item_name_tfidf_' + str(i)\n",
    "    items_subset[feature_name] = items_df_item_name_text_features[cols[i]]\n",
    "    new_features.append(feature_name)\n",
    "\n",
    "items_subset.drop('item_name', axis = 1, inplace = True)\n",
    "train_test_set = train_test_set.merge(items_subset, on = 'item_id', how = 'left')\n",
    "train_test_set.head()"
   ]
  }
 ],
 "metadata": {
  "interpreter": {
   "hash": "3b9f8af297b42731035e3961f71e3310abb8c937082fd1fe14b88b48b8fbc7a2"
  },
  "kernelspec": {
   "display_name": "Python 3.8.8 ('MLPricingVenv')",
   "language": "python",
   "name": "python3"
  },
  "language_info": {
   "codemirror_mode": {
    "name": "ipython",
    "version": 3
   },
   "file_extension": ".py",
   "mimetype": "text/x-python",
   "name": "python",
   "nbconvert_exporter": "python",
   "pygments_lexer": "ipython3",
   "version": "3.8.8"
  },
  "orig_nbformat": 4
 },
 "nbformat": 4,
 "nbformat_minor": 2
}
