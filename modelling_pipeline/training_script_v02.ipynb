{
 "cells": [
  {
   "cell_type": "code",
   "execution_count": 1,
   "metadata": {},
   "outputs": [],
   "source": [
    "__author__ = \"konwar.m\"\n",
    "__copyright__ = \"Copyright 2022, AI R&D\"\n",
    "__credits__ = [\"konwar.m\"]\n",
    "__license__ = \"Individual Ownership\"\n",
    "__version__ = \"1.0.1\"\n",
    "__maintainer__ = \"konwar.m\"\n",
    "__email__ = \"rickykonwar@gmail.com\"\n",
    "__status__ = \"Development\""
   ]
  },
  {
   "cell_type": "markdown",
   "metadata": {},
   "source": [
    "### Importing Libraries"
   ]
  },
  {
   "cell_type": "code",
   "execution_count": 2,
   "metadata": {},
   "outputs": [],
   "source": [
    "import os\n",
    "import pickle\n",
    "import pandas as pd\n",
    "from tqdm import tqdm"
   ]
  },
  {
   "cell_type": "code",
   "execution_count": 3,
   "metadata": {},
   "outputs": [
    {
     "data": {
      "text/plain": [
       "'c:\\\\Users\\\\manash.jyoti.konwar\\\\Documents\\\\AI_Random_Projects\\\\ML-Retail-Sales'"
      ]
     },
     "execution_count": 3,
     "metadata": {},
     "output_type": "execute_result"
    }
   ],
   "source": [
    "os.chdir('..')\n",
    "os.getcwd()"
   ]
  },
  {
   "cell_type": "markdown",
   "metadata": {},
   "source": [
    "### Loading Training Data and Features"
   ]
  },
  {
   "cell_type": "code",
   "execution_count": 4,
   "metadata": {},
   "outputs": [],
   "source": [
    "finalized_train_dict, finalized_test_dict = {}, {}"
   ]
  },
  {
   "cell_type": "code",
   "execution_count": 5,
   "metadata": {},
   "outputs": [],
   "source": [
    "train_test_path = r'datasets\\train_test_datasets_v02'\n",
    "files = os.listdir(train_test_path)\n",
    "\n",
    "training_files = [i for i in files if i.endswith('.csv') and i.startswith('train')]\n",
    "testing_files = [i for i in files if i.endswith('.csv') and i.startswith('test')]\n",
    "\n",
    "with open(os.path.join('datasets', 'train_test_datasets_v02', 'parent_cat_map.pkl'), \"rb\") as fp:\n",
    "    parent_category_map = pickle.load(fp)\n",
    "\n",
    "parent_category_inv_map = {v: k for k, v in parent_category_map.items()}"
   ]
  },
  {
   "cell_type": "code",
   "execution_count": 6,
   "metadata": {},
   "outputs": [
    {
     "data": {
      "text/plain": [
       "{0: 'Accessories',\n",
       " 1: 'Android Games',\n",
       " 2: 'Books',\n",
       " 3: 'Cinema',\n",
       " 4: 'Clean Media (Piece)',\n",
       " 5: 'Clean Media (Spire)',\n",
       " 6: 'Delivery Of Goods',\n",
       " 7: 'Film',\n",
       " 8: 'Games',\n",
       " 9: 'Gaming Consoles',\n",
       " 10: 'Gifts',\n",
       " 11: 'Mac Games',\n",
       " 12: 'Music',\n",
       " 13: 'Pc',\n",
       " 14: 'Pc Games',\n",
       " 15: 'Payment Cards (Cinema, Music, Games)',\n",
       " 16: 'Payment Cards',\n",
       " 17: 'Power Elements',\n",
       " 18: 'Programs',\n",
       " 19: 'Service',\n",
       " 20: 'Tickets (Digit)',\n",
       " 21: 'Игры'}"
      ]
     },
     "execution_count": 6,
     "metadata": {},
     "output_type": "execute_result"
    }
   ],
   "source": [
    "parent_category_inv_map"
   ]
  },
  {
   "cell_type": "code",
   "execution_count": 7,
   "metadata": {},
   "outputs": [
    {
     "name": "stderr",
     "output_type": "stream",
     "text": [
      "Loading training files: 100%|██████████| 21/21 [00:17<00:00,  1.20it/s]\n",
      "Loading testing files: 100%|██████████| 21/21 [00:01<00:00, 16.03it/s]\n"
     ]
    }
   ],
   "source": [
    "for train_file in tqdm(training_files, desc='Loading training files'):\n",
    "    finalized_train_dict[parent_category_inv_map.get(int(train_file.split('_')[1]))] = pd.read_csv(os.path.join('datasets','train_test_datasets_v02',train_file))\n",
    "\n",
    "for test_file in tqdm(testing_files, desc='Loading testing files'):\n",
    "    finalized_test_dict[parent_category_inv_map.get(int(train_file.split('_')[1]))] = pd.read_csv(os.path.join('datasets','train_test_datasets_v02',test_file))    "
   ]
  }
 ],
 "metadata": {
  "kernelspec": {
   "display_name": "Python 3.8.8 ('MLPricingVenv')",
   "language": "python",
   "name": "python3"
  },
  "language_info": {
   "codemirror_mode": {
    "name": "ipython",
    "version": 3
   },
   "file_extension": ".py",
   "mimetype": "text/x-python",
   "name": "python",
   "nbconvert_exporter": "python",
   "pygments_lexer": "ipython3",
   "version": "3.8.8"
  },
  "orig_nbformat": 4,
  "vscode": {
   "interpreter": {
    "hash": "524d4310cc36642556f2992670fc4b95814a9a602f1a77c1aba439825a8ccd15"
   }
  }
 },
 "nbformat": 4,
 "nbformat_minor": 2
}
