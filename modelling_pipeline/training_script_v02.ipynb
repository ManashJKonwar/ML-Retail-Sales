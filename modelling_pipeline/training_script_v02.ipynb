{
 "cells": [
  {
   "cell_type": "code",
   "execution_count": 1,
   "metadata": {},
   "outputs": [],
   "source": [
    "__author__ = \"konwar.m\"\n",
    "__copyright__ = \"Copyright 2022, AI R&D\"\n",
    "__credits__ = [\"konwar.m\"]\n",
    "__license__ = \"Individual Ownership\"\n",
    "__version__ = \"1.0.1\"\n",
    "__maintainer__ = \"konwar.m\"\n",
    "__email__ = \"rickykonwar@gmail.com\"\n",
    "__status__ = \"Development\""
   ]
  },
  {
   "cell_type": "markdown",
   "metadata": {},
   "source": [
    "### Importing Libraries"
   ]
  },
  {
   "cell_type": "code",
   "execution_count": 2,
   "metadata": {},
   "outputs": [],
   "source": [
    "import os\n",
    "import copy\n",
    "import pickle\n",
    "import numpy as np\n",
    "import pandas as pd\n",
    "from tqdm import tqdm"
   ]
  },
  {
   "cell_type": "code",
   "execution_count": 3,
   "metadata": {},
   "outputs": [
    {
     "data": {
      "text/plain": [
       "'c:\\\\Users\\\\manash.jyoti.konwar\\\\Documents\\\\AI_Random_Projects\\\\ML-Retail-Sales'"
      ]
     },
     "execution_count": 3,
     "metadata": {},
     "output_type": "execute_result"
    }
   ],
   "source": [
    "os.chdir('..')\n",
    "os.getcwd()"
   ]
  },
  {
   "cell_type": "markdown",
   "metadata": {},
   "source": [
    "### Loading Training Data and Features"
   ]
  },
  {
   "cell_type": "code",
   "execution_count": 4,
   "metadata": {},
   "outputs": [],
   "source": [
    "finalized_train_dict, finalized_test_dict = {}, {}"
   ]
  },
  {
   "cell_type": "code",
   "execution_count": 5,
   "metadata": {},
   "outputs": [],
   "source": [
    "train_test_path = r'datasets\\train_test_datasets_v02'\n",
    "files = os.listdir(train_test_path)\n",
    "\n",
    "training_files = [i for i in files if i.endswith('.csv') and i.startswith('train')]\n",
    "testing_files = [i for i in files if i.endswith('.csv') and i.startswith('test')]\n",
    "\n",
    "with open(os.path.join('datasets', 'train_test_datasets_v02', 'parent_cat_map.pkl'), \"rb\") as fp:\n",
    "    parent_category_map = pickle.load(fp)\n",
    "\n",
    "parent_category_inv_map = {v: k for k, v in parent_category_map.items()}"
   ]
  },
  {
   "cell_type": "code",
   "execution_count": 6,
   "metadata": {},
   "outputs": [
    {
     "data": {
      "text/plain": [
       "{0: 'Accessories',\n",
       " 1: 'Android Games',\n",
       " 2: 'Books',\n",
       " 3: 'Cinema',\n",
       " 4: 'Clean Media (Piece)',\n",
       " 5: 'Clean Media (Spire)',\n",
       " 6: 'Delivery Of Goods',\n",
       " 7: 'Film',\n",
       " 8: 'Games',\n",
       " 9: 'Gaming Consoles',\n",
       " 10: 'Gifts',\n",
       " 11: 'Mac Games',\n",
       " 12: 'Music',\n",
       " 13: 'Pc',\n",
       " 14: 'Pc Games',\n",
       " 15: 'Payment Cards (Cinema, Music, Games)',\n",
       " 16: 'Payment Cards',\n",
       " 17: 'Power Elements',\n",
       " 18: 'Programs',\n",
       " 19: 'Service',\n",
       " 20: 'Tickets (Digit)',\n",
       " 21: 'Игры'}"
      ]
     },
     "execution_count": 6,
     "metadata": {},
     "output_type": "execute_result"
    }
   ],
   "source": [
    "parent_category_inv_map"
   ]
  },
  {
   "cell_type": "code",
   "execution_count": 7,
   "metadata": {},
   "outputs": [
    {
     "name": "stderr",
     "output_type": "stream",
     "text": [
      "Loading training files: 100%|██████████| 21/21 [00:17<00:00,  1.23it/s]\n",
      "Loading testing files: 100%|██████████| 21/21 [00:01<00:00, 11.42it/s]\n"
     ]
    }
   ],
   "source": [
    "for train_file in tqdm(training_files, desc='Loading training files'):\n",
    "    finalized_train_dict[parent_category_inv_map.get(int(train_file.split('_')[1]))] = pd.read_csv(os.path.join('datasets','train_test_datasets_v02',train_file))\n",
    "\n",
    "for test_file in tqdm(testing_files, desc='Loading testing files'):\n",
    "    finalized_test_dict[parent_category_inv_map.get(int(train_file.split('_')[1]))] = pd.read_csv(os.path.join('datasets','train_test_datasets_v02',test_file))    "
   ]
  },
  {
   "cell_type": "markdown",
   "metadata": {},
   "source": [
    "### Preparing baseline data"
   ]
  },
  {
   "cell_type": "code",
   "execution_count": 8,
   "metadata": {},
   "outputs": [],
   "source": [
    "def prepare_data(**kwargs):\n",
    "    train_test_data = kwargs.get('train_test_data')\n",
    "    baseline_features = kwargs.get('baseline_features')\n",
    "    group_name, group_id = kwargs.get('group_info').get('group_name'), kwargs.get('group_info').get('group_id')\n",
    "\n",
    "    # Extracting dynamic price ratio features\n",
    "    item_category_features = list(train_test_data.columns)[list(train_test_data.columns).index('priceratio_parent_category')+1:]\n",
    "\n",
    "    # Overall features\n",
    "    # baseline_features = baseline_features[:-1] + item_category_features + [baseline_features[-1]]\n",
    "\n",
    "    # For training: rows having date_block_num from 0 to 31 is utilized for training the model\n",
    "    train_time_range_lo = (train_test_data['date_block_num'] >= 0)\n",
    "    train_time_range_hi =  (train_test_data['date_block_num'] <= 32)\n",
    "\n",
    "    # For validation: rows having date_block_num as 33\n",
    "    validation_time =  (train_test_data['date_block_num'] == 33)\n",
    "\n",
    "    # Retrieve rows for train set, val set, test set\n",
    "    cv_trainset = train_test_data[train_time_range_lo & train_time_range_hi]\n",
    "    cv_valset = train_test_data[validation_time]\n",
    "    cv_trainset = cv_trainset[baseline_features]\n",
    "    cv_valset = cv_valset[baseline_features]\n",
    "\n",
    "    print('Extracting training data started')\n",
    "    # Prepare numpy arrays for training/val/test\n",
    "    cv_trainset_vals = cv_trainset.values.astype(int)\n",
    "    trainx = cv_trainset_vals[:, 0:len(baseline_features) - 1]\n",
    "    trainy = cv_trainset_vals[:, len(baseline_features) - 1]\n",
    "    print('Extracting training data ended')\n",
    "\n",
    "    print('Extracting validation data started')\n",
    "    cv_valset_vals = cv_valset.values.astype(int)\n",
    "    valx = cv_valset_vals[:, 0:len(baseline_features) - 1]\n",
    "    valy = cv_valset_vals[:, len(baseline_features) - 1]\n",
    "    print('Extracting validation data ended')\n",
    "\n",
    "    print('Extracting features dataframe started')\n",
    "    df_features = pd.DataFrame(baseline_features[:-1], columns=['feature_name'])\n",
    "    df_features['group_name'] = group_name\n",
    "    df_features['group_id'] = group_id\n",
    "    print('Extracting features dataframe ended')\n",
    "\n",
    "    return trainx, trainy, valx, valy, df_features"
   ]
  },
  {
   "cell_type": "code",
   "execution_count": 9,
   "metadata": {},
   "outputs": [
    {
     "name": "stdout",
     "output_type": "stream",
     "text": [
      "Accessories\n",
      "Extracting training data started\n",
      "Extracting training data ended\n",
      "Extracting validation data started\n",
      "Extracting validation data ended\n",
      "Extracting features dataframe started\n",
      "Extracting features dataframe ended\n",
      "(43576, 19) (43576,) (1121, 19) (1121,) (19, 3)\n",
      "Gifts\n",
      "Extracting training data started\n",
      "Extracting training data ended\n",
      "Extracting validation data started\n",
      "Extracting validation data ended\n",
      "Extracting features dataframe started\n",
      "Extracting features dataframe ended\n",
      "(155946, 19) (155946,) (5268, 19) (5268,) (19, 3)\n",
      "Mac Games\n",
      "Extracting training data started\n",
      "Extracting training data ended\n",
      "Extracting validation data started\n",
      "Extracting validation data ended\n",
      "Extracting features dataframe started\n",
      "Extracting features dataframe ended\n",
      "(7, 19) (7,) (1, 19) (1,) (19, 3)\n",
      "Music\n",
      "Extracting training data started\n",
      "Extracting training data ended\n",
      "Extracting validation data started\n",
      "Extracting validation data ended\n",
      "Extracting features dataframe started\n",
      "Extracting features dataframe ended\n",
      "(368381, 19) (368381,) (6283, 19) (6283,) (19, 3)\n",
      "Pc\n",
      "Extracting training data started\n",
      "Extracting training data ended\n",
      "Extracting validation data started\n",
      "Extracting validation data ended\n",
      "Extracting features dataframe started\n",
      "Extracting features dataframe ended\n",
      "(3, 19) (3,) (0, 19) (0,) (19, 3)\n",
      "Pc Games\n",
      "Extracting training data started\n",
      "Extracting training data ended\n",
      "Extracting validation data started\n",
      "Extracting validation data ended\n",
      "Extracting features dataframe started\n",
      "Extracting features dataframe ended\n",
      "(351380, 19) (351380,) (4685, 19) (4685,) (19, 3)\n",
      "Payment Cards (Cinema, Music, Games)\n",
      "Extracting training data started\n",
      "Extracting training data ended\n",
      "Extracting validation data started\n",
      "Extracting validation data ended\n",
      "Extracting features dataframe started\n",
      "Extracting features dataframe ended\n",
      "(3708, 19) (3708,) (0, 19) (0,) (19, 3)\n",
      "Payment Cards\n",
      "Extracting training data started\n",
      "Extracting training data ended\n",
      "Extracting validation data started\n",
      "Extracting validation data ended\n",
      "Extracting features dataframe started\n",
      "Extracting features dataframe ended\n",
      "(20492, 19) (20492,) (499, 19) (499,) (19, 3)\n",
      "Power Elements\n",
      "Extracting training data started\n",
      "Extracting training data ended\n",
      "Extracting validation data started\n",
      "Extracting validation data ended\n",
      "Extracting features dataframe started\n",
      "Extracting features dataframe ended\n",
      "(5024, 19) (5024,) (188, 19) (188,) (19, 3)\n",
      "Programs\n",
      "Extracting training data started\n",
      "Extracting training data ended\n",
      "Extracting validation data started\n",
      "Extracting validation data ended\n",
      "Extracting features dataframe started\n",
      "Extracting features dataframe ended\n",
      "(48694, 19) (48694,) (922, 19) (922,) (19, 3)\n",
      "Service\n",
      "Extracting training data started\n",
      "Extracting training data ended\n",
      "Extracting validation data started\n",
      "Extracting validation data ended\n",
      "Extracting features dataframe started\n",
      "Extracting features dataframe ended\n",
      "(4269, 19) (4269,) (160, 19) (160,) (19, 3)\n",
      "Android Games\n",
      "Extracting training data started\n",
      "Extracting training data ended\n",
      "Extracting validation data started\n",
      "Extracting validation data ended\n",
      "Extracting features dataframe started\n",
      "Extracting features dataframe ended\n",
      "(47, 19) (47,) (6, 19) (6,) (19, 3)\n",
      "Tickets (Digit)\n",
      "Extracting training data started\n",
      "Extracting training data ended\n",
      "Extracting validation data started\n",
      "Extracting validation data ended\n",
      "Extracting features dataframe started\n",
      "Extracting features dataframe ended\n",
      "(764, 19) (764,) (1, 19) (1,) (19, 3)\n",
      "Игры\n",
      "Extracting training data started\n",
      "Extracting training data ended\n",
      "Extracting validation data started\n",
      "Extracting validation data ended\n",
      "Extracting features dataframe started\n",
      "Extracting features dataframe ended\n",
      "(11683, 19) (11683,) (769, 19) (769,) (19, 3)\n",
      "Books\n",
      "Extracting training data started\n",
      "Extracting training data ended\n",
      "Extracting validation data started\n",
      "Extracting validation data ended\n",
      "Extracting features dataframe started\n",
      "Extracting features dataframe ended\n",
      "(51409, 19) (51409,) (3133, 19) (3133,) (19, 3)\n",
      "Cinema\n",
      "Extracting training data started\n",
      "Extracting training data ended\n",
      "Extracting validation data started\n",
      "Extracting validation data ended\n",
      "Extracting features dataframe started\n",
      "Extracting features dataframe ended\n",
      "(526599, 19) (526599,) (7541, 19) (7541,) (19, 3)\n",
      "Clean Media (Piece)\n",
      "Extracting training data started\n",
      "Extracting training data ended\n",
      "Extracting validation data started\n",
      "Extracting validation data ended\n",
      "Extracting features dataframe started\n",
      "Extracting features dataframe ended\n",
      "(2387, 19) (2387,) (0, 19) (0,) (19, 3)\n",
      "Clean Media (Spire)\n",
      "Extracting training data started\n",
      "Extracting training data ended\n",
      "Extracting validation data started\n",
      "Extracting validation data ended\n",
      "Extracting features dataframe started\n",
      "Extracting features dataframe ended\n",
      "(621, 19) (621,) (0, 19) (0,) (19, 3)\n",
      "Film\n",
      "Extracting training data started\n",
      "Extracting training data ended\n",
      "Extracting validation data started\n",
      "Extracting validation data ended\n",
      "Extracting features dataframe started\n",
      "Extracting features dataframe ended\n",
      "(167384, 19) (167384,) (3203, 19) (3203,) (19, 3)\n",
      "Games\n",
      "Extracting training data started\n",
      "Extracting training data ended\n",
      "Extracting validation data started\n",
      "Extracting validation data ended\n",
      "Extracting features dataframe started\n",
      "Extracting features dataframe ended\n",
      "(383541, 19) (383541,) (7257, 19) (7257,) (19, 3)\n",
      "Gaming Consoles\n",
      "Extracting training data started\n",
      "Extracting training data ended\n",
      "Extracting validation data started\n",
      "Extracting validation data ended\n",
      "Extracting features dataframe started\n",
      "Extracting features dataframe ended\n",
      "(18645, 19) (18645,) (260, 19) (260,) (19, 3)\n"
     ]
    }
   ],
   "source": [
    "baseline_features = ['date_block_num', 'item_id', 'shop_id', 'item_price', 'item_category_id', \n",
    "    'count_item_week_shop', 'price_mean_week_category', 'price_lag_item_1', 'price_lag_item_4', 'price_lag_item_12', \n",
    "    'price_lag_item_24', 'price_lag_item_shop_1', 'price_lag_item_shop_4', 'price_lag_item_shop_12', 'price_lag_item_shop_24', \n",
    "    'week_block_num', 'month', 'seasonal_index', 'priceratio_parent_category', 'item_cnt_day']\n",
    "\n",
    "finalized_modelling_dict = {}\n",
    "\n",
    "for parent_cat in finalized_train_dict.keys():\n",
    "    print(parent_cat)\n",
    "\n",
    "    train_x_w_price, train_y_w_price, val_x_w_price, val_y_w_price, df_features = prepare_data(\n",
    "                                                                                    train_test_data=finalized_train_dict.get(parent_cat),\n",
    "                                                                                    baseline_features=baseline_features,\n",
    "                                                                                    group_info={'group_name':parent_cat, 'group_id':parent_category_map.get(parent_cat)},\n",
    "                                                                                )\n",
    "    if parent_cat not in finalized_modelling_dict.keys():\n",
    "        finalized_modelling_dict[parent_cat] = {\n",
    "                                                'train_x': train_x_w_price,\n",
    "                                                'train_y': train_y_w_price,\n",
    "                                                'val_x': val_x_w_price,\n",
    "                                                'val_y': val_y_w_price,\n",
    "                                                'features_df': df_features\n",
    "                                            }\n",
    "    print(train_x_w_price.shape, train_y_w_price.shape, val_x_w_price.shape, val_y_w_price.shape, df_features.shape)"
   ]
  }
 ],
 "metadata": {
  "kernelspec": {
   "display_name": "Python 3.8.8 ('MLPricingVenv')",
   "language": "python",
   "name": "python3"
  },
  "language_info": {
   "codemirror_mode": {
    "name": "ipython",
    "version": 3
   },
   "file_extension": ".py",
   "mimetype": "text/x-python",
   "name": "python",
   "nbconvert_exporter": "python",
   "pygments_lexer": "ipython3",
   "version": "3.8.8"
  },
  "orig_nbformat": 4,
  "vscode": {
   "interpreter": {
    "hash": "524d4310cc36642556f2992670fc4b95814a9a602f1a77c1aba439825a8ccd15"
   }
  }
 },
 "nbformat": 4,
 "nbformat_minor": 2
}
