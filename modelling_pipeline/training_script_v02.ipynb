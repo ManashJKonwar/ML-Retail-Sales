{
 "cells": [
  {
   "cell_type": "code",
   "execution_count": 1,
   "metadata": {},
   "outputs": [],
   "source": [
    "__author__ = \"konwar.m\"\n",
    "__copyright__ = \"Copyright 2022, AI R&D\"\n",
    "__credits__ = [\"konwar.m\"]\n",
    "__license__ = \"Individual Ownership\"\n",
    "__version__ = \"1.0.1\"\n",
    "__maintainer__ = \"konwar.m\"\n",
    "__email__ = \"rickykonwar@gmail.com\"\n",
    "__status__ = \"Development\""
   ]
  },
  {
   "cell_type": "markdown",
   "metadata": {},
   "source": [
    "### Importing Libraries"
   ]
  },
  {
   "cell_type": "code",
   "execution_count": 2,
   "metadata": {},
   "outputs": [
    {
     "name": "stderr",
     "output_type": "stream",
     "text": [
      "c:\\Users\\manash.jyoti.konwar\\Documents\\AI_Random_Projects\\virtualEnvs\\MLPricingVenv\\lib\\site-packages\\xgboost\\compat.py:36: FutureWarning: pandas.Int64Index is deprecated and will be removed from pandas in a future version. Use pandas.Index with the appropriate dtype instead.\n",
      "  from pandas import MultiIndex, Int64Index\n"
     ]
    }
   ],
   "source": [
    "import os\n",
    "import copy\n",
    "import time\n",
    "import pickle\n",
    "import numpy as np\n",
    "import pandas as pd\n",
    "import seaborn as sns\n",
    "import xgboost as xgb\n",
    "from tqdm import tqdm\n",
    "\n",
    "from numpy import sqrt \n",
    "from sklearn.metrics import mean_squared_error"
   ]
  },
  {
   "cell_type": "code",
   "execution_count": 3,
   "metadata": {},
   "outputs": [
    {
     "data": {
      "text/plain": [
       "'c:\\\\Users\\\\manash.jyoti.konwar\\\\Documents\\\\AI_Random_Projects\\\\ML-Retail-Sales'"
      ]
     },
     "execution_count": 3,
     "metadata": {},
     "output_type": "execute_result"
    }
   ],
   "source": [
    "os.chdir('..')\n",
    "os.getcwd()"
   ]
  },
  {
   "cell_type": "markdown",
   "metadata": {},
   "source": [
    "### Loading Training Data and Features"
   ]
  },
  {
   "cell_type": "code",
   "execution_count": 4,
   "metadata": {},
   "outputs": [],
   "source": [
    "finalized_train_dict, finalized_test_dict = {}, {}"
   ]
  },
  {
   "cell_type": "code",
   "execution_count": 5,
   "metadata": {},
   "outputs": [],
   "source": [
    "train_test_path = r'datasets\\train_test_datasets_v02'\n",
    "files = os.listdir(train_test_path)\n",
    "\n",
    "training_files = [i for i in files if i.endswith('.csv') and i.startswith('train')]\n",
    "testing_files = [i for i in files if i.endswith('.csv') and i.startswith('test')]\n",
    "\n",
    "with open(os.path.join('datasets', 'train_test_datasets_v02', 'parent_cat_map.pkl'), \"rb\") as fp:\n",
    "    parent_category_map = pickle.load(fp)\n",
    "\n",
    "parent_category_inv_map = {v: k for k, v in parent_category_map.items()}"
   ]
  },
  {
   "cell_type": "code",
   "execution_count": 6,
   "metadata": {},
   "outputs": [
    {
     "data": {
      "text/plain": [
       "{0: 'Accessories',\n",
       " 1: 'Android Games',\n",
       " 2: 'Books',\n",
       " 3: 'Cinema',\n",
       " 4: 'Clean Media (Piece)',\n",
       " 5: 'Clean Media (Spire)',\n",
       " 6: 'Delivery Of Goods',\n",
       " 7: 'Film',\n",
       " 8: 'Games',\n",
       " 9: 'Gaming Consoles',\n",
       " 10: 'Gifts',\n",
       " 11: 'Mac Games',\n",
       " 12: 'Music',\n",
       " 13: 'Pc',\n",
       " 14: 'Pc Games',\n",
       " 15: 'Payment Cards (Cinema, Music, Games)',\n",
       " 16: 'Payment Cards',\n",
       " 17: 'Power Elements',\n",
       " 18: 'Programs',\n",
       " 19: 'Service',\n",
       " 20: 'Tickets (Digit)',\n",
       " 21: 'Игры'}"
      ]
     },
     "execution_count": 6,
     "metadata": {},
     "output_type": "execute_result"
    }
   ],
   "source": [
    "parent_category_inv_map"
   ]
  },
  {
   "cell_type": "code",
   "execution_count": 7,
   "metadata": {},
   "outputs": [
    {
     "name": "stderr",
     "output_type": "stream",
     "text": [
      "Loading training files: 100%|██████████| 21/21 [00:18<00:00,  1.12it/s]\n",
      "Loading testing files: 100%|██████████| 21/21 [00:02<00:00,  7.10it/s]\n"
     ]
    }
   ],
   "source": [
    "for train_file in tqdm(training_files, desc='Loading training files'):\n",
    "    finalized_train_dict[parent_category_inv_map.get(int(train_file.split('_')[1]))] = pd.read_csv(os.path.join('datasets','train_test_datasets_v02',train_file))\n",
    "\n",
    "for test_file in tqdm(testing_files, desc='Loading testing files'):\n",
    "    finalized_test_dict[parent_category_inv_map.get(int(train_file.split('_')[1]))] = pd.read_csv(os.path.join('datasets','train_test_datasets_v02',test_file))    "
   ]
  },
  {
   "cell_type": "markdown",
   "metadata": {},
   "source": [
    "### Preparing baseline data"
   ]
  },
  {
   "cell_type": "code",
   "execution_count": 8,
   "metadata": {},
   "outputs": [],
   "source": [
    "def prepare_data(**kwargs):\n",
    "    train_test_data = kwargs.get('train_test_data')\n",
    "    baseline_features = kwargs.get('baseline_features')\n",
    "    group_name, group_id = kwargs.get('group_info').get('group_name'), kwargs.get('group_info').get('group_id')\n",
    "\n",
    "    # Extracting dynamic price ratio features\n",
    "    item_category_features = list(train_test_data.columns)[list(train_test_data.columns).index('priceratio_parent_category')+1:]\n",
    "\n",
    "    # Overall features\n",
    "    baseline_features = baseline_features[:-1] + item_category_features + [baseline_features[-1]]\n",
    "\n",
    "    # For training: rows having date_block_num from 0 to 31 is utilized for training the model\n",
    "    train_time_range_lo = (train_test_data['date_block_num'] >= 0)\n",
    "    train_time_range_hi =  (train_test_data['date_block_num'] <= 32)\n",
    "\n",
    "    # For validation: rows having date_block_num as 33\n",
    "    validation_time =  (train_test_data['date_block_num'] == 33)\n",
    "\n",
    "    # Retrieve rows for train set, val set, test set\n",
    "    cv_trainset = train_test_data[train_time_range_lo & train_time_range_hi]\n",
    "    cv_valset = train_test_data[validation_time]\n",
    "    cv_trainset = cv_trainset[baseline_features]\n",
    "    cv_valset = cv_valset[baseline_features]\n",
    "\n",
    "    print('Extracting training data started')\n",
    "    # Prepare numpy arrays for training/val/test\n",
    "    cv_trainset_vals = cv_trainset.values.astype(int)\n",
    "    trainx = cv_trainset_vals[:, 0:len(baseline_features) - 1]\n",
    "    trainy = cv_trainset_vals[:, len(baseline_features) - 1]\n",
    "    print('Extracting training data ended')\n",
    "\n",
    "    print('Extracting validation data started')\n",
    "    cv_valset_vals = cv_valset.values.astype(int)\n",
    "    valx = cv_valset_vals[:, 0:len(baseline_features) - 1]\n",
    "    valy = cv_valset_vals[:, len(baseline_features) - 1]\n",
    "    print('Extracting validation data ended')\n",
    "\n",
    "    print('Extracting features dataframe started')\n",
    "    df_features = pd.DataFrame(baseline_features[:-1], columns=['feature_name'])\n",
    "    df_features['group_name'] = group_name\n",
    "    df_features['group_id'] = group_id\n",
    "    print('Extracting features dataframe ended')\n",
    "\n",
    "    return trainx, trainy, valx, valy, df_features"
   ]
  },
  {
   "cell_type": "code",
   "execution_count": 9,
   "metadata": {},
   "outputs": [
    {
     "name": "stdout",
     "output_type": "stream",
     "text": [
      "Accessories\n",
      "Extracting training data started\n",
      "Extracting training data ended\n",
      "Extracting validation data started\n",
      "Extracting validation data ended\n",
      "Extracting features dataframe started\n",
      "Extracting features dataframe ended\n",
      "(43576, 24) (43576,) (1121, 24) (1121,) (24, 3)\n",
      "Gifts\n",
      "Extracting training data started\n",
      "Extracting training data ended\n",
      "Extracting validation data started\n",
      "Extracting validation data ended\n",
      "Extracting features dataframe started\n",
      "Extracting features dataframe ended\n",
      "(155946, 26) (155946,) (5268, 26) (5268,) (26, 3)\n",
      "Mac Games\n",
      "Extracting training data started\n",
      "Extracting training data ended\n",
      "Extracting validation data started\n",
      "Extracting validation data ended\n",
      "Extracting features dataframe started\n",
      "Extracting features dataframe ended\n",
      "(7, 20) (7,) (1, 20) (1,) (20, 3)\n",
      "Music\n",
      "Extracting training data started\n",
      "Extracting training data ended\n",
      "Extracting validation data started\n",
      "Extracting validation data ended\n",
      "Extracting features dataframe started\n",
      "Extracting features dataframe ended\n",
      "(368381, 25) (368381,) (6283, 25) (6283,) (25, 3)\n",
      "Pc\n",
      "Extracting training data started\n",
      "Extracting training data ended\n",
      "Extracting validation data started\n",
      "Extracting validation data ended\n",
      "Extracting features dataframe started\n",
      "Extracting features dataframe ended\n",
      "(3, 20) (3,) (0, 20) (0,) (20, 3)\n",
      "Pc Games\n",
      "Extracting training data started\n",
      "Extracting training data ended\n",
      "Extracting validation data started\n",
      "Extracting validation data ended\n",
      "Extracting features dataframe started\n",
      "Extracting features dataframe ended\n",
      "(351380, 23) (351380,) (4685, 23) (4685,) (23, 3)\n",
      "Payment Cards (Cinema, Music, Games)\n",
      "Extracting training data started\n",
      "Extracting training data ended\n",
      "Extracting validation data started\n",
      "Extracting validation data ended\n",
      "Extracting features dataframe started\n",
      "Extracting features dataframe ended\n",
      "(3708, 20) (3708,) (0, 20) (0,) (20, 3)\n",
      "Payment Cards\n",
      "Extracting training data started\n",
      "Extracting training data ended\n",
      "Extracting validation data started\n",
      "Extracting validation data ended\n",
      "Extracting features dataframe started\n",
      "Extracting features dataframe ended\n",
      "(20492, 23) (20492,) (499, 23) (499,) (23, 3)\n",
      "Power Elements\n",
      "Extracting training data started\n",
      "Extracting training data ended\n",
      "Extracting validation data started\n",
      "Extracting validation data ended\n",
      "Extracting features dataframe started\n",
      "Extracting features dataframe ended\n",
      "(5024, 20) (5024,) (188, 20) (188,) (20, 3)\n",
      "Programs\n",
      "Extracting training data started\n",
      "Extracting training data ended\n",
      "Extracting validation data started\n",
      "Extracting validation data ended\n",
      "Extracting features dataframe started\n",
      "Extracting features dataframe ended\n",
      "(48694, 25) (48694,) (922, 25) (922,) (25, 3)\n",
      "Service\n",
      "Extracting training data started\n",
      "Extracting training data ended\n",
      "Extracting validation data started\n",
      "Extracting validation data ended\n",
      "Extracting features dataframe started\n",
      "Extracting features dataframe ended\n",
      "(4269, 21) (4269,) (160, 21) (160,) (21, 3)\n",
      "Android Games\n",
      "Extracting training data started\n",
      "Extracting training data ended\n",
      "Extracting validation data started\n",
      "Extracting validation data ended\n",
      "Extracting features dataframe started\n",
      "Extracting features dataframe ended\n",
      "(47, 20) (47,) (6, 20) (6,) (20, 3)\n",
      "Tickets (Digit)\n",
      "Extracting training data started\n",
      "Extracting training data ended\n",
      "Extracting validation data started\n",
      "Extracting validation data ended\n",
      "Extracting features dataframe started\n",
      "Extracting features dataframe ended\n",
      "(764, 20) (764,) (1, 20) (1,) (20, 3)\n",
      "Игры\n",
      "Extracting training data started\n",
      "Extracting training data ended\n",
      "Extracting validation data started\n",
      "Extracting validation data ended\n",
      "Extracting features dataframe started\n",
      "Extracting features dataframe ended\n",
      "(11683, 20) (11683,) (769, 20) (769,) (20, 3)\n",
      "Books\n",
      "Extracting training data started\n",
      "Extracting training data ended\n",
      "Extracting validation data started\n",
      "Extracting validation data ended\n",
      "Extracting features dataframe started\n",
      "Extracting features dataframe ended\n",
      "(51409, 31) (51409,) (3133, 31) (3133,) (31, 3)\n",
      "Cinema\n",
      "Extracting training data started\n",
      "Extracting training data ended\n",
      "Extracting validation data started\n",
      "Extracting validation data ended\n",
      "Extracting features dataframe started\n",
      "Extracting features dataframe ended\n",
      "(526599, 23) (526599,) (7541, 23) (7541,) (23, 3)\n",
      "Clean Media (Piece)\n",
      "Extracting training data started\n",
      "Extracting training data ended\n",
      "Extracting validation data started\n",
      "Extracting validation data ended\n",
      "Extracting features dataframe started\n",
      "Extracting features dataframe ended\n",
      "(2387, 20) (2387,) (0, 20) (0,) (20, 3)\n",
      "Clean Media (Spire)\n",
      "Extracting training data started\n",
      "Extracting training data ended\n",
      "Extracting validation data started\n",
      "Extracting validation data ended\n",
      "Extracting features dataframe started\n",
      "Extracting features dataframe ended\n",
      "(621, 20) (621,) (0, 20) (0,) (20, 3)\n",
      "Film\n",
      "Extracting training data started\n",
      "Extracting training data ended\n",
      "Extracting validation data started\n",
      "Extracting validation data ended\n",
      "Extracting features dataframe started\n",
      "Extracting features dataframe ended\n",
      "(167384, 20) (167384,) (3203, 20) (3203,) (20, 3)\n",
      "Games\n",
      "Extracting training data started\n",
      "Extracting training data ended\n",
      "Extracting validation data started\n",
      "Extracting validation data ended\n",
      "Extracting features dataframe started\n",
      "Extracting features dataframe ended\n",
      "(383541, 26) (383541,) (7257, 26) (7257,) (26, 3)\n",
      "Gaming Consoles\n",
      "Extracting training data started\n",
      "Extracting training data ended\n",
      "Extracting validation data started\n",
      "Extracting validation data ended\n",
      "Extracting features dataframe started\n",
      "Extracting features dataframe ended\n",
      "(18645, 27) (18645,) (260, 27) (260,) (27, 3)\n"
     ]
    }
   ],
   "source": [
    "baseline_features = ['date_block_num', 'item_id', 'shop_id', 'item_price', 'item_category_id', \n",
    "    'count_item_week_shop', 'price_mean_week_category', 'price_lag_item_1', 'price_lag_item_4', 'price_lag_item_12', \n",
    "    'price_lag_item_24', 'price_lag_item_shop_1', 'price_lag_item_shop_4', 'price_lag_item_shop_12', 'price_lag_item_shop_24', \n",
    "    'week_block_num', 'month', 'seasonal_index', 'priceratio_parent_category', 'item_cnt_day']\n",
    "\n",
    "finalized_modelling_dict = {}\n",
    "\n",
    "for parent_cat in finalized_train_dict.keys():\n",
    "    print(parent_cat)\n",
    "\n",
    "    train_x_w_price, train_y_w_price, val_x_w_price, val_y_w_price, df_features = prepare_data(\n",
    "                                                                                    train_test_data=finalized_train_dict.get(parent_cat),\n",
    "                                                                                    baseline_features=baseline_features,\n",
    "                                                                                    group_info={'group_name':parent_cat, 'group_id':parent_category_map.get(parent_cat)},\n",
    "                                                                                )\n",
    "    if parent_cat not in finalized_modelling_dict.keys():\n",
    "        finalized_modelling_dict[parent_cat] = {\n",
    "                                                'train_x': train_x_w_price,\n",
    "                                                'train_y': train_y_w_price,\n",
    "                                                'val_x': val_x_w_price,\n",
    "                                                'val_y': val_y_w_price,\n",
    "                                                'features_df': df_features\n",
    "                                            }\n",
    "    print(train_x_w_price.shape, train_y_w_price.shape, val_x_w_price.shape, val_y_w_price.shape, df_features.shape)"
   ]
  },
  {
   "cell_type": "markdown",
   "metadata": {},
   "source": [
    "### Extracting features dataframe"
   ]
  },
  {
   "cell_type": "markdown",
   "metadata": {},
   "source": [
    "#### Forming base features dataframe"
   ]
  },
  {
   "cell_type": "code",
   "execution_count": 10,
   "metadata": {},
   "outputs": [
    {
     "name": "stderr",
     "output_type": "stream",
     "text": [
      "Generating features dataframe: 100%|██████████| 21/21 [00:00<00:00, 749.49it/s]\n"
     ]
    },
    {
     "data": {
      "text/html": [
       "<div>\n",
       "<style scoped>\n",
       "    .dataframe tbody tr th:only-of-type {\n",
       "        vertical-align: middle;\n",
       "    }\n",
       "\n",
       "    .dataframe tbody tr th {\n",
       "        vertical-align: top;\n",
       "    }\n",
       "\n",
       "    .dataframe thead th {\n",
       "        text-align: right;\n",
       "    }\n",
       "</style>\n",
       "<table border=\"1\" class=\"dataframe\">\n",
       "  <thead>\n",
       "    <tr style=\"text-align: right;\">\n",
       "      <th></th>\n",
       "      <th>feature_name</th>\n",
       "      <th>group_name</th>\n",
       "      <th>group_id</th>\n",
       "    </tr>\n",
       "  </thead>\n",
       "  <tbody>\n",
       "    <tr>\n",
       "      <th>0</th>\n",
       "      <td>date_block_num</td>\n",
       "      <td>Accessories</td>\n",
       "      <td>0</td>\n",
       "    </tr>\n",
       "    <tr>\n",
       "      <th>1</th>\n",
       "      <td>item_id</td>\n",
       "      <td>Accessories</td>\n",
       "      <td>0</td>\n",
       "    </tr>\n",
       "    <tr>\n",
       "      <th>2</th>\n",
       "      <td>shop_id</td>\n",
       "      <td>Accessories</td>\n",
       "      <td>0</td>\n",
       "    </tr>\n",
       "    <tr>\n",
       "      <th>3</th>\n",
       "      <td>item_price</td>\n",
       "      <td>Accessories</td>\n",
       "      <td>0</td>\n",
       "    </tr>\n",
       "    <tr>\n",
       "      <th>4</th>\n",
       "      <td>item_category_id</td>\n",
       "      <td>Accessories</td>\n",
       "      <td>0</td>\n",
       "    </tr>\n",
       "    <tr>\n",
       "      <th>...</th>\n",
       "      <td>...</td>\n",
       "      <td>...</td>\n",
       "      <td>...</td>\n",
       "    </tr>\n",
       "    <tr>\n",
       "      <th>469</th>\n",
       "      <td>priceratio_item_category_39</td>\n",
       "      <td>Gaming Consoles</td>\n",
       "      <td>9</td>\n",
       "    </tr>\n",
       "    <tr>\n",
       "      <th>470</th>\n",
       "      <td>priceratio_item_category_40</td>\n",
       "      <td>Gaming Consoles</td>\n",
       "      <td>9</td>\n",
       "    </tr>\n",
       "    <tr>\n",
       "      <th>471</th>\n",
       "      <td>priceratio_item_category_41</td>\n",
       "      <td>Gaming Consoles</td>\n",
       "      <td>9</td>\n",
       "    </tr>\n",
       "    <tr>\n",
       "      <th>472</th>\n",
       "      <td>priceratio_item_category_42</td>\n",
       "      <td>Gaming Consoles</td>\n",
       "      <td>9</td>\n",
       "    </tr>\n",
       "    <tr>\n",
       "      <th>473</th>\n",
       "      <td>priceratio_item_category_43</td>\n",
       "      <td>Gaming Consoles</td>\n",
       "      <td>9</td>\n",
       "    </tr>\n",
       "  </tbody>\n",
       "</table>\n",
       "<p>474 rows × 3 columns</p>\n",
       "</div>"
      ],
      "text/plain": [
       "                    feature_name       group_name  group_id\n",
       "0                 date_block_num      Accessories         0\n",
       "1                        item_id      Accessories         0\n",
       "2                        shop_id      Accessories         0\n",
       "3                     item_price      Accessories         0\n",
       "4               item_category_id      Accessories         0\n",
       "..                           ...              ...       ...\n",
       "469  priceratio_item_category_39  Gaming Consoles         9\n",
       "470  priceratio_item_category_40  Gaming Consoles         9\n",
       "471  priceratio_item_category_41  Gaming Consoles         9\n",
       "472  priceratio_item_category_42  Gaming Consoles         9\n",
       "473  priceratio_item_category_43  Gaming Consoles         9\n",
       "\n",
       "[474 rows x 3 columns]"
      ]
     },
     "execution_count": 10,
     "metadata": {},
     "output_type": "execute_result"
    }
   ],
   "source": [
    "df_features = pd.DataFrame()\n",
    "\n",
    "if len(finalized_modelling_dict.keys())>0:\n",
    "    for parent_cat in tqdm(finalized_modelling_dict.keys(), desc='Generating features dataframe'):\n",
    "        df_features =  finalized_modelling_dict.get(parent_cat).get('features_df') if df_features.shape[0] == 0 else pd.concat([df_features, finalized_modelling_dict.get(parent_cat).get('features_df')], ignore_index=True).reset_index(drop=True)\n",
    "\n",
    "df_features"
   ]
  },
  {
   "cell_type": "markdown",
   "metadata": {},
   "source": [
    "#### Adding feature types"
   ]
  },
  {
   "cell_type": "code",
   "execution_count": 11,
   "metadata": {},
   "outputs": [
    {
     "data": {
      "text/html": [
       "<div>\n",
       "<style scoped>\n",
       "    .dataframe tbody tr th:only-of-type {\n",
       "        vertical-align: middle;\n",
       "    }\n",
       "\n",
       "    .dataframe tbody tr th {\n",
       "        vertical-align: top;\n",
       "    }\n",
       "\n",
       "    .dataframe thead th {\n",
       "        text-align: right;\n",
       "    }\n",
       "</style>\n",
       "<table border=\"1\" class=\"dataframe\">\n",
       "  <thead>\n",
       "    <tr style=\"text-align: right;\">\n",
       "      <th></th>\n",
       "      <th>feature_name</th>\n",
       "      <th>group_name</th>\n",
       "      <th>group_id</th>\n",
       "      <th>feature_type</th>\n",
       "    </tr>\n",
       "  </thead>\n",
       "  <tbody>\n",
       "    <tr>\n",
       "      <th>0</th>\n",
       "      <td>date_block_num</td>\n",
       "      <td>Accessories</td>\n",
       "      <td>0</td>\n",
       "      <td>generic</td>\n",
       "    </tr>\n",
       "    <tr>\n",
       "      <th>1</th>\n",
       "      <td>item_id</td>\n",
       "      <td>Accessories</td>\n",
       "      <td>0</td>\n",
       "      <td>id</td>\n",
       "    </tr>\n",
       "    <tr>\n",
       "      <th>2</th>\n",
       "      <td>shop_id</td>\n",
       "      <td>Accessories</td>\n",
       "      <td>0</td>\n",
       "      <td>id</td>\n",
       "    </tr>\n",
       "    <tr>\n",
       "      <th>3</th>\n",
       "      <td>item_price</td>\n",
       "      <td>Accessories</td>\n",
       "      <td>0</td>\n",
       "      <td>price</td>\n",
       "    </tr>\n",
       "    <tr>\n",
       "      <th>4</th>\n",
       "      <td>item_category_id</td>\n",
       "      <td>Accessories</td>\n",
       "      <td>0</td>\n",
       "      <td>id</td>\n",
       "    </tr>\n",
       "    <tr>\n",
       "      <th>...</th>\n",
       "      <td>...</td>\n",
       "      <td>...</td>\n",
       "      <td>...</td>\n",
       "      <td>...</td>\n",
       "    </tr>\n",
       "    <tr>\n",
       "      <th>469</th>\n",
       "      <td>priceratio_item_category_39</td>\n",
       "      <td>Gaming Consoles</td>\n",
       "      <td>9</td>\n",
       "      <td>price ratio</td>\n",
       "    </tr>\n",
       "    <tr>\n",
       "      <th>470</th>\n",
       "      <td>priceratio_item_category_40</td>\n",
       "      <td>Gaming Consoles</td>\n",
       "      <td>9</td>\n",
       "      <td>price ratio</td>\n",
       "    </tr>\n",
       "    <tr>\n",
       "      <th>471</th>\n",
       "      <td>priceratio_item_category_41</td>\n",
       "      <td>Gaming Consoles</td>\n",
       "      <td>9</td>\n",
       "      <td>price ratio</td>\n",
       "    </tr>\n",
       "    <tr>\n",
       "      <th>472</th>\n",
       "      <td>priceratio_item_category_42</td>\n",
       "      <td>Gaming Consoles</td>\n",
       "      <td>9</td>\n",
       "      <td>price ratio</td>\n",
       "    </tr>\n",
       "    <tr>\n",
       "      <th>473</th>\n",
       "      <td>priceratio_item_category_43</td>\n",
       "      <td>Gaming Consoles</td>\n",
       "      <td>9</td>\n",
       "      <td>price ratio</td>\n",
       "    </tr>\n",
       "  </tbody>\n",
       "</table>\n",
       "<p>474 rows × 4 columns</p>\n",
       "</div>"
      ],
      "text/plain": [
       "                    feature_name       group_name  group_id feature_type\n",
       "0                 date_block_num      Accessories         0      generic\n",
       "1                        item_id      Accessories         0           id\n",
       "2                        shop_id      Accessories         0           id\n",
       "3                     item_price      Accessories         0        price\n",
       "4               item_category_id      Accessories         0           id\n",
       "..                           ...              ...       ...          ...\n",
       "469  priceratio_item_category_39  Gaming Consoles         9  price ratio\n",
       "470  priceratio_item_category_40  Gaming Consoles         9  price ratio\n",
       "471  priceratio_item_category_41  Gaming Consoles         9  price ratio\n",
       "472  priceratio_item_category_42  Gaming Consoles         9  price ratio\n",
       "473  priceratio_item_category_43  Gaming Consoles         9  price ratio\n",
       "\n",
       "[474 rows x 4 columns]"
      ]
     },
     "execution_count": 11,
     "metadata": {},
     "output_type": "execute_result"
    }
   ],
   "source": [
    "df_features = df_features.drop(columns=['feature_type']) if 'feature_type' in df_features.columns else df_features\n",
    "df_features['feature_type'] = np.nan\n",
    "\n",
    "for row_index, row_data in df_features.copy().iterrows():\n",
    "    feature_list = row_data.feature_name.split('_') \n",
    "    \n",
    "    feature_type = 'generic'\n",
    "    if 'id' in feature_list:\n",
    "        feature_type = 'id'\n",
    "    elif 'price' in feature_list and 'lag' in feature_list:\n",
    "        feature_type = 'lag price'\n",
    "    elif 'price' in feature_list:\n",
    "        feature_type = 'price'\n",
    "    elif 'priceratio' in feature_list:\n",
    "        feature_type = 'price ratio'\n",
    "    elif 'seasonal' in feature_list:\n",
    "        feature_type = 'seasonality'\n",
    "    \n",
    "    df_features.iloc[row_index, df_features.columns.get_loc('feature_type')] = feature_type\n",
    "\n",
    "df_features"
   ]
  },
  {
   "cell_type": "markdown",
   "metadata": {},
   "source": [
    "### Data Evaluation"
   ]
  },
  {
   "cell_type": "code",
   "execution_count": 12,
   "metadata": {},
   "outputs": [
    {
     "data": {
      "text/html": [
       "<div>\n",
       "<style scoped>\n",
       "    .dataframe tbody tr th:only-of-type {\n",
       "        vertical-align: middle;\n",
       "    }\n",
       "\n",
       "    .dataframe tbody tr th {\n",
       "        vertical-align: top;\n",
       "    }\n",
       "\n",
       "    .dataframe thead th {\n",
       "        text-align: right;\n",
       "    }\n",
       "</style>\n",
       "<table border=\"1\" class=\"dataframe\">\n",
       "  <thead>\n",
       "    <tr style=\"text-align: right;\">\n",
       "      <th></th>\n",
       "      <th>week_start_date</th>\n",
       "      <th>date_block_num</th>\n",
       "      <th>item_id</th>\n",
       "      <th>shop_id</th>\n",
       "      <th>item_price</th>\n",
       "      <th>item_cnt_day</th>\n",
       "      <th>item_category_id</th>\n",
       "      <th>parent_category_name</th>\n",
       "      <th>count_item_week_shop</th>\n",
       "      <th>price_mean_week_category</th>\n",
       "      <th>...</th>\n",
       "      <th>price_lag_item_shop_24</th>\n",
       "      <th>week_block_num</th>\n",
       "      <th>month</th>\n",
       "      <th>seasonal_index</th>\n",
       "      <th>priceratio_parent_category</th>\n",
       "      <th>priceratio_item_category_2</th>\n",
       "      <th>priceratio_item_category_3</th>\n",
       "      <th>priceratio_item_category_4</th>\n",
       "      <th>priceratio_item_category_5</th>\n",
       "      <th>priceratio_item_category_6</th>\n",
       "    </tr>\n",
       "  </thead>\n",
       "  <tbody>\n",
       "    <tr>\n",
       "      <th>15979</th>\n",
       "      <td>2014-02-10</td>\n",
       "      <td>13</td>\n",
       "      <td>5681</td>\n",
       "      <td>22</td>\n",
       "      <td>22.0</td>\n",
       "      <td>1.0</td>\n",
       "      <td>3</td>\n",
       "      <td>Accessories</td>\n",
       "      <td>1.0</td>\n",
       "      <td>22.000000</td>\n",
       "      <td>...</td>\n",
       "      <td>0.0</td>\n",
       "      <td>59</td>\n",
       "      <td>2</td>\n",
       "      <td>1.168464</td>\n",
       "      <td>0.015575</td>\n",
       "      <td>0.013779</td>\n",
       "      <td>0.068490</td>\n",
       "      <td>0.014516</td>\n",
       "      <td>NaN</td>\n",
       "      <td>0.027068</td>\n",
       "    </tr>\n",
       "    <tr>\n",
       "      <th>12492</th>\n",
       "      <td>2013-12-16</td>\n",
       "      <td>11</td>\n",
       "      <td>1958</td>\n",
       "      <td>51</td>\n",
       "      <td>27.0</td>\n",
       "      <td>1.0</td>\n",
       "      <td>3</td>\n",
       "      <td>Accessories</td>\n",
       "      <td>1.0</td>\n",
       "      <td>27.000000</td>\n",
       "      <td>...</td>\n",
       "      <td>942.0</td>\n",
       "      <td>51</td>\n",
       "      <td>12</td>\n",
       "      <td>2.512872</td>\n",
       "      <td>0.016243</td>\n",
       "      <td>0.013869</td>\n",
       "      <td>0.073670</td>\n",
       "      <td>0.014058</td>\n",
       "      <td>NaN</td>\n",
       "      <td>0.029790</td>\n",
       "    </tr>\n",
       "    <tr>\n",
       "      <th>17500</th>\n",
       "      <td>2014-03-10</td>\n",
       "      <td>14</td>\n",
       "      <td>1958</td>\n",
       "      <td>51</td>\n",
       "      <td>27.0</td>\n",
       "      <td>1.0</td>\n",
       "      <td>3</td>\n",
       "      <td>Accessories</td>\n",
       "      <td>2.0</td>\n",
       "      <td>79.000000</td>\n",
       "      <td>...</td>\n",
       "      <td>0.0</td>\n",
       "      <td>63</td>\n",
       "      <td>3</td>\n",
       "      <td>0.808681</td>\n",
       "      <td>0.019511</td>\n",
       "      <td>0.015613</td>\n",
       "      <td>0.110656</td>\n",
       "      <td>0.018766</td>\n",
       "      <td>NaN</td>\n",
       "      <td>0.039862</td>\n",
       "    </tr>\n",
       "    <tr>\n",
       "      <th>18681</th>\n",
       "      <td>2014-04-07</td>\n",
       "      <td>15</td>\n",
       "      <td>1958</td>\n",
       "      <td>26</td>\n",
       "      <td>28.0</td>\n",
       "      <td>1.0</td>\n",
       "      <td>3</td>\n",
       "      <td>Accessories</td>\n",
       "      <td>2.0</td>\n",
       "      <td>163.500000</td>\n",
       "      <td>...</td>\n",
       "      <td>0.0</td>\n",
       "      <td>67</td>\n",
       "      <td>4</td>\n",
       "      <td>0.666544</td>\n",
       "      <td>0.018613</td>\n",
       "      <td>0.015209</td>\n",
       "      <td>0.108562</td>\n",
       "      <td>0.017605</td>\n",
       "      <td>NaN</td>\n",
       "      <td>0.034811</td>\n",
       "    </tr>\n",
       "    <tr>\n",
       "      <th>14250</th>\n",
       "      <td>2014-01-06</td>\n",
       "      <td>12</td>\n",
       "      <td>5681</td>\n",
       "      <td>31</td>\n",
       "      <td>28.0</td>\n",
       "      <td>1.0</td>\n",
       "      <td>3</td>\n",
       "      <td>Accessories</td>\n",
       "      <td>3.0</td>\n",
       "      <td>118.333333</td>\n",
       "      <td>...</td>\n",
       "      <td>0.0</td>\n",
       "      <td>54</td>\n",
       "      <td>1</td>\n",
       "      <td>1.107703</td>\n",
       "      <td>0.017617</td>\n",
       "      <td>0.014304</td>\n",
       "      <td>0.077416</td>\n",
       "      <td>0.016270</td>\n",
       "      <td>NaN</td>\n",
       "      <td>0.036242</td>\n",
       "    </tr>\n",
       "    <tr>\n",
       "      <th>...</th>\n",
       "      <td>...</td>\n",
       "      <td>...</td>\n",
       "      <td>...</td>\n",
       "      <td>...</td>\n",
       "      <td>...</td>\n",
       "      <td>...</td>\n",
       "      <td>...</td>\n",
       "      <td>...</td>\n",
       "      <td>...</td>\n",
       "      <td>...</td>\n",
       "      <td>...</td>\n",
       "      <td>...</td>\n",
       "      <td>...</td>\n",
       "      <td>...</td>\n",
       "      <td>...</td>\n",
       "      <td>...</td>\n",
       "      <td>...</td>\n",
       "      <td>...</td>\n",
       "      <td>...</td>\n",
       "      <td>...</td>\n",
       "      <td>...</td>\n",
       "    </tr>\n",
       "    <tr>\n",
       "      <th>35139</th>\n",
       "      <td>2015-02-02</td>\n",
       "      <td>25</td>\n",
       "      <td>7935</td>\n",
       "      <td>27</td>\n",
       "      <td>10490.0</td>\n",
       "      <td>1.0</td>\n",
       "      <td>5</td>\n",
       "      <td>Accessories</td>\n",
       "      <td>4.0</td>\n",
       "      <td>5156.666667</td>\n",
       "      <td>...</td>\n",
       "      <td>0.0</td>\n",
       "      <td>110</td>\n",
       "      <td>2</td>\n",
       "      <td>1.168464</td>\n",
       "      <td>4.377637</td>\n",
       "      <td>4.347311</td>\n",
       "      <td>35.083612</td>\n",
       "      <td>4.116796</td>\n",
       "      <td>3.592448</td>\n",
       "      <td>17.811439</td>\n",
       "    </tr>\n",
       "    <tr>\n",
       "      <th>35439</th>\n",
       "      <td>2015-02-09</td>\n",
       "      <td>25</td>\n",
       "      <td>7935</td>\n",
       "      <td>38</td>\n",
       "      <td>10490.0</td>\n",
       "      <td>1.0</td>\n",
       "      <td>5</td>\n",
       "      <td>Accessories</td>\n",
       "      <td>1.0</td>\n",
       "      <td>10490.000000</td>\n",
       "      <td>...</td>\n",
       "      <td>0.0</td>\n",
       "      <td>111</td>\n",
       "      <td>2</td>\n",
       "      <td>1.168464</td>\n",
       "      <td>4.071326</td>\n",
       "      <td>4.481077</td>\n",
       "      <td>NaN</td>\n",
       "      <td>4.040125</td>\n",
       "      <td>2.320752</td>\n",
       "      <td>17.947532</td>\n",
       "    </tr>\n",
       "    <tr>\n",
       "      <th>34854</th>\n",
       "      <td>2015-01-26</td>\n",
       "      <td>24</td>\n",
       "      <td>7935</td>\n",
       "      <td>27</td>\n",
       "      <td>10490.0</td>\n",
       "      <td>1.0</td>\n",
       "      <td>5</td>\n",
       "      <td>Accessories</td>\n",
       "      <td>9.0</td>\n",
       "      <td>4877.500000</td>\n",
       "      <td>...</td>\n",
       "      <td>249.0</td>\n",
       "      <td>109</td>\n",
       "      <td>1</td>\n",
       "      <td>1.107703</td>\n",
       "      <td>4.114522</td>\n",
       "      <td>4.111326</td>\n",
       "      <td>NaN</td>\n",
       "      <td>4.474961</td>\n",
       "      <td>3.131137</td>\n",
       "      <td>15.462854</td>\n",
       "    </tr>\n",
       "    <tr>\n",
       "      <th>35133</th>\n",
       "      <td>2015-02-02</td>\n",
       "      <td>25</td>\n",
       "      <td>7935</td>\n",
       "      <td>19</td>\n",
       "      <td>10490.0</td>\n",
       "      <td>1.0</td>\n",
       "      <td>5</td>\n",
       "      <td>Accessories</td>\n",
       "      <td>1.0</td>\n",
       "      <td>10490.000000</td>\n",
       "      <td>...</td>\n",
       "      <td>0.0</td>\n",
       "      <td>110</td>\n",
       "      <td>2</td>\n",
       "      <td>1.168464</td>\n",
       "      <td>4.377637</td>\n",
       "      <td>4.347311</td>\n",
       "      <td>35.083612</td>\n",
       "      <td>4.116796</td>\n",
       "      <td>3.592448</td>\n",
       "      <td>17.811439</td>\n",
       "    </tr>\n",
       "    <tr>\n",
       "      <th>945</th>\n",
       "      <td>2013-01-14</td>\n",
       "      <td>0</td>\n",
       "      <td>7889</td>\n",
       "      <td>45</td>\n",
       "      <td>12490.0</td>\n",
       "      <td>1.0</td>\n",
       "      <td>4</td>\n",
       "      <td>Accessories</td>\n",
       "      <td>6.0</td>\n",
       "      <td>3751.800000</td>\n",
       "      <td>...</td>\n",
       "      <td>0.0</td>\n",
       "      <td>3</td>\n",
       "      <td>1</td>\n",
       "      <td>1.107703</td>\n",
       "      <td>9.096338</td>\n",
       "      <td>23.387158</td>\n",
       "      <td>16.570969</td>\n",
       "      <td>6.375997</td>\n",
       "      <td>NaN</td>\n",
       "      <td>11.529789</td>\n",
       "    </tr>\n",
       "  </tbody>\n",
       "</table>\n",
       "<p>44697 rows × 27 columns</p>\n",
       "</div>"
      ],
      "text/plain": [
       "      week_start_date  date_block_num  item_id  shop_id  item_price  \\\n",
       "15979      2014-02-10              13     5681       22        22.0   \n",
       "12492      2013-12-16              11     1958       51        27.0   \n",
       "17500      2014-03-10              14     1958       51        27.0   \n",
       "18681      2014-04-07              15     1958       26        28.0   \n",
       "14250      2014-01-06              12     5681       31        28.0   \n",
       "...               ...             ...      ...      ...         ...   \n",
       "35139      2015-02-02              25     7935       27     10490.0   \n",
       "35439      2015-02-09              25     7935       38     10490.0   \n",
       "34854      2015-01-26              24     7935       27     10490.0   \n",
       "35133      2015-02-02              25     7935       19     10490.0   \n",
       "945        2013-01-14               0     7889       45     12490.0   \n",
       "\n",
       "       item_cnt_day  item_category_id parent_category_name  \\\n",
       "15979           1.0                 3          Accessories   \n",
       "12492           1.0                 3          Accessories   \n",
       "17500           1.0                 3          Accessories   \n",
       "18681           1.0                 3          Accessories   \n",
       "14250           1.0                 3          Accessories   \n",
       "...             ...               ...                  ...   \n",
       "35139           1.0                 5          Accessories   \n",
       "35439           1.0                 5          Accessories   \n",
       "34854           1.0                 5          Accessories   \n",
       "35133           1.0                 5          Accessories   \n",
       "945             1.0                 4          Accessories   \n",
       "\n",
       "       count_item_week_shop  price_mean_week_category  ...  \\\n",
       "15979                   1.0                 22.000000  ...   \n",
       "12492                   1.0                 27.000000  ...   \n",
       "17500                   2.0                 79.000000  ...   \n",
       "18681                   2.0                163.500000  ...   \n",
       "14250                   3.0                118.333333  ...   \n",
       "...                     ...                       ...  ...   \n",
       "35139                   4.0               5156.666667  ...   \n",
       "35439                   1.0              10490.000000  ...   \n",
       "34854                   9.0               4877.500000  ...   \n",
       "35133                   1.0              10490.000000  ...   \n",
       "945                     6.0               3751.800000  ...   \n",
       "\n",
       "       price_lag_item_shop_24  week_block_num  month  seasonal_index  \\\n",
       "15979                     0.0              59      2        1.168464   \n",
       "12492                   942.0              51     12        2.512872   \n",
       "17500                     0.0              63      3        0.808681   \n",
       "18681                     0.0              67      4        0.666544   \n",
       "14250                     0.0              54      1        1.107703   \n",
       "...                       ...             ...    ...             ...   \n",
       "35139                     0.0             110      2        1.168464   \n",
       "35439                     0.0             111      2        1.168464   \n",
       "34854                   249.0             109      1        1.107703   \n",
       "35133                     0.0             110      2        1.168464   \n",
       "945                       0.0               3      1        1.107703   \n",
       "\n",
       "       priceratio_parent_category  priceratio_item_category_2  \\\n",
       "15979                    0.015575                    0.013779   \n",
       "12492                    0.016243                    0.013869   \n",
       "17500                    0.019511                    0.015613   \n",
       "18681                    0.018613                    0.015209   \n",
       "14250                    0.017617                    0.014304   \n",
       "...                           ...                         ...   \n",
       "35139                    4.377637                    4.347311   \n",
       "35439                    4.071326                    4.481077   \n",
       "34854                    4.114522                    4.111326   \n",
       "35133                    4.377637                    4.347311   \n",
       "945                      9.096338                   23.387158   \n",
       "\n",
       "       priceratio_item_category_3  priceratio_item_category_4  \\\n",
       "15979                    0.068490                    0.014516   \n",
       "12492                    0.073670                    0.014058   \n",
       "17500                    0.110656                    0.018766   \n",
       "18681                    0.108562                    0.017605   \n",
       "14250                    0.077416                    0.016270   \n",
       "...                           ...                         ...   \n",
       "35139                   35.083612                    4.116796   \n",
       "35439                         NaN                    4.040125   \n",
       "34854                         NaN                    4.474961   \n",
       "35133                   35.083612                    4.116796   \n",
       "945                     16.570969                    6.375997   \n",
       "\n",
       "       priceratio_item_category_5  priceratio_item_category_6  \n",
       "15979                         NaN                    0.027068  \n",
       "12492                         NaN                    0.029790  \n",
       "17500                         NaN                    0.039862  \n",
       "18681                         NaN                    0.034811  \n",
       "14250                         NaN                    0.036242  \n",
       "...                           ...                         ...  \n",
       "35139                    3.592448                   17.811439  \n",
       "35439                    2.320752                   17.947532  \n",
       "34854                    3.131137                   15.462854  \n",
       "35133                    3.592448                   17.811439  \n",
       "945                           NaN                   11.529789  \n",
       "\n",
       "[44697 rows x 27 columns]"
      ]
     },
     "execution_count": 12,
     "metadata": {},
     "output_type": "execute_result"
    }
   ],
   "source": [
    "df_exploration_data = finalized_train_dict.get('Accessories').sort_values(by='item_price')\n",
    "df_exploration_data"
   ]
  },
  {
   "cell_type": "code",
   "execution_count": 13,
   "metadata": {},
   "outputs": [
    {
     "data": {
      "text/plain": [
       "<seaborn.axisgrid.FacetGrid at 0x231de04a9a0>"
      ]
     },
     "execution_count": 13,
     "metadata": {},
     "output_type": "execute_result"
    },
    {
     "data": {
      "image/png": "[encoded data removed]",
      "text/plain": [
       "<Figure size 360x360 with 1 Axes>"
      ]
     },
     "metadata": {
      "needs_background": "light"
     },
     "output_type": "display_data"
    }
   ],
   "source": [
    "sns.lmplot(x='item_price', y='item_cnt_day', data = df_exploration_data)"
   ]
  },
  {
   "cell_type": "markdown",
   "metadata": {},
   "source": [
    "### Training XG Boost Regressor"
   ]
  },
  {
   "cell_type": "code",
   "execution_count": 14,
   "metadata": {},
   "outputs": [],
   "source": [
    "def train_xgboost(**kwargs):\n",
    "    train_x = kwargs.get('train_x')\n",
    "    train_y = kwargs.get('train_y')\n",
    "    val_x = kwargs.get('val_x')\n",
    "    val_y = kwargs.get('val_y')\n",
    "    test_x = kwargs.get('test_x') if 'test_x' in kwargs.keys() else pd.DataFrame()\n",
    "    perform_test_predictions = kwargs.get('perform_test_predictions')\n",
    "\n",
    "    current = time.time()\n",
    "    print('Fitting xg boost...')\n",
    "\n",
    "    model = xgb.XGBRegressor(\n",
    "                    max_depth = 11, \n",
    "                    min_child_weight=0.5, \n",
    "                    subsample = 1, \n",
    "                    eta = 0.3, \n",
    "                    num_round = 1000, \n",
    "                    seed = 1, \n",
    "                    nthread = 4,\n",
    "                    verbosity=0)\n",
    "    model.fit(train_x, train_y, eval_metric='rmse')\n",
    "\n",
    "    if len(val_x)>0:\n",
    "        preds = model.predict(val_x)\n",
    "        # Clipping to range 0-20\n",
    "        preds = np.clip(preds, 0,20)\n",
    "        print('val set rmse: ', sqrt(mean_squared_error(val_y, preds)))\n",
    "\n",
    "        if perform_test_predictions:\n",
    "            preds = model.predict(test_x)\n",
    "            # Clipping to range 0-20\n",
    "            preds = np.clip(preds, 0,20)\n",
    "            df = pd.DataFrame(preds, columns = ['item_cnt_day'])\n",
    "            df['ID'] = df.index\n",
    "            df = df.set_index('ID')\n",
    "            print('test predictions written to file')\n",
    "            end = time.time()\n",
    "            diff = end - current\n",
    "            print('Took ' + str(int(diff)) + ' seconds to train and predict val, test set')\n",
    "            return model, df\n",
    "        else:\n",
    "            end = time.time()\n",
    "            diff = end - current\n",
    "            print('Took ' + str(int(diff)) + ' seconds to train and predict val set')\n",
    "            return model, pd.DataFrame(columns = ['item_cnt_day'])\n",
    "    else:\n",
    "        end = time.time()\n",
    "        diff = end - current\n",
    "        print('Took ' + str(int(diff)) + ' seconds to train and predict val set')\n",
    "        return model, pd.DataFrame(columns = ['item_cnt_day'])"
   ]
  },
  {
   "cell_type": "code",
   "execution_count": 15,
   "metadata": {},
   "outputs": [
    {
     "name": "stderr",
     "output_type": "stream",
     "text": [
      "Training models for parent categories:   0%|          | 0/21 [00:00<?, ?it/s]"
     ]
    },
    {
     "name": "stdout",
     "output_type": "stream",
     "text": [
      "Training, Validating and Saving xg boost model for Category: Accessories\n",
      "Fitting xg boost...\n",
      "val set rmse:  1.0141552923663844\n",
      "Took 16 seconds to train and predict val set\n"
     ]
    },
    {
     "name": "stderr",
     "output_type": "stream",
     "text": [
      "Training models for parent categories:   5%|▍         | 1/21 [00:16<05:38, 16.93s/it]"
     ]
    },
    {
     "name": "stdout",
     "output_type": "stream",
     "text": [
      "Training, Validating and Saving xg boost model for Category: Gifts\n",
      "Fitting xg boost...\n",
      "val set rmse:  2.6570244343829454\n",
      "Took 34 seconds to train and predict val set\n"
     ]
    },
    {
     "name": "stderr",
     "output_type": "stream",
     "text": [
      "Training models for parent categories:  14%|█▍        | 3/21 [00:51<04:29, 14.99s/it]"
     ]
    },
    {
     "name": "stdout",
     "output_type": "stream",
     "text": [
      "Training, Validating and Saving xg boost model for Category: Mac Games\n",
      "Fitting xg boost...\n",
      "val set rmse:  5.960464477539063e-08\n",
      "Took 0 seconds to train and predict val set\n",
      "Training, Validating and Saving xg boost model for Category: Music\n",
      "Fitting xg boost...\n",
      "val set rmse:  0.42334489062179254\n",
      "Took 65 seconds to train and predict val set\n"
     ]
    },
    {
     "name": "stderr",
     "output_type": "stream",
     "text": [
      "Training models for parent categories:  24%|██▍       | 5/21 [01:58<06:02, 22.65s/it]"
     ]
    },
    {
     "name": "stdout",
     "output_type": "stream",
     "text": [
      "Training, Validating and Saving xg boost model for Category: Pc\n",
      "Fitting xg boost...\n",
      "Took 0 seconds to train and predict val set\n",
      "Training, Validating and Saving xg boost model for Category: Pc Games\n",
      "Fitting xg boost...\n",
      "val set rmse:  1.939587823305471\n",
      "Took 59 seconds to train and predict val set\n"
     ]
    },
    {
     "name": "stderr",
     "output_type": "stream",
     "text": [
      "Training models for parent categories:  29%|██▊       | 6/21 [02:58<08:50, 35.39s/it]"
     ]
    },
    {
     "name": "stdout",
     "output_type": "stream",
     "text": [
      "Training, Validating and Saving xg boost model for Category: Payment Cards (Cinema, Music, Games)\n",
      "Fitting xg boost...\n",
      "Took 1 seconds to train and predict val set\n"
     ]
    },
    {
     "name": "stderr",
     "output_type": "stream",
     "text": [
      "Training models for parent categories:  33%|███▎      | 7/21 [03:00<05:43, 24.55s/it]"
     ]
    },
    {
     "name": "stdout",
     "output_type": "stream",
     "text": [
      "Training, Validating and Saving xg boost model for Category: Payment Cards\n",
      "Fitting xg boost...\n",
      "val set rmse:  1.5648047949108026\n",
      "Took 6 seconds to train and predict val set\n"
     ]
    },
    {
     "name": "stderr",
     "output_type": "stream",
     "text": [
      "Training models for parent categories:  38%|███▊      | 8/21 [03:07<04:04, 18.81s/it]"
     ]
    },
    {
     "name": "stdout",
     "output_type": "stream",
     "text": [
      "Training, Validating and Saving xg boost model for Category: Power Elements\n",
      "Fitting xg boost...\n",
      "val set rmse:  0.8878515569332921\n",
      "Took 1 seconds to train and predict val set\n"
     ]
    },
    {
     "name": "stderr",
     "output_type": "stream",
     "text": [
      "Training models for parent categories:  43%|████▎     | 9/21 [03:09<02:42, 13.55s/it]"
     ]
    },
    {
     "name": "stdout",
     "output_type": "stream",
     "text": [
      "Training, Validating and Saving xg boost model for Category: Programs\n",
      "Fitting xg boost...\n",
      "val set rmse:  1.0194381489691817\n",
      "Took 13 seconds to train and predict val set\n"
     ]
    },
    {
     "name": "stderr",
     "output_type": "stream",
     "text": [
      "Training models for parent categories:  48%|████▊     | 10/21 [03:23<02:31, 13.74s/it]"
     ]
    },
    {
     "name": "stdout",
     "output_type": "stream",
     "text": [
      "Training, Validating and Saving xg boost model for Category: Service\n",
      "Fitting xg boost...\n",
      "val set rmse:  1.4807356767461004\n",
      "Took 3 seconds to train and predict val set\n"
     ]
    },
    {
     "name": "stderr",
     "output_type": "stream",
     "text": [
      "Training models for parent categories:  52%|█████▏    | 11/21 [03:27<01:47, 10.78s/it]"
     ]
    },
    {
     "name": "stdout",
     "output_type": "stream",
     "text": [
      "Training, Validating and Saving xg boost model for Category: Android Games\n",
      "Fitting xg boost...\n",
      "val set rmse:  1.2535521779486571\n",
      "Took 0 seconds to train and predict val set\n"
     ]
    },
    {
     "name": "stderr",
     "output_type": "stream",
     "text": [
      "Training models for parent categories:  57%|█████▋    | 12/21 [03:27<01:08,  7.57s/it]"
     ]
    },
    {
     "name": "stdout",
     "output_type": "stream",
     "text": [
      "Training, Validating and Saving xg boost model for Category: Tickets (Digit)\n",
      "Fitting xg boost...\n"
     ]
    },
    {
     "name": "stderr",
     "output_type": "stream",
     "text": [
      "Training models for parent categories:  62%|██████▏   | 13/21 [03:29<00:46,  5.84s/it]"
     ]
    },
    {
     "name": "stdout",
     "output_type": "stream",
     "text": [
      "val set rmse:  0.29804858565330505\n",
      "Took 1 seconds to train and predict val set\n",
      "Training, Validating and Saving xg boost model for Category: Игры\n",
      "Fitting xg boost...\n",
      "val set rmse:  1.8423060742570825\n",
      "Took 3 seconds to train and predict val set\n"
     ]
    },
    {
     "name": "stderr",
     "output_type": "stream",
     "text": [
      "Training models for parent categories:  67%|██████▋   | 14/21 [03:33<00:37,  5.32s/it]"
     ]
    },
    {
     "name": "stdout",
     "output_type": "stream",
     "text": [
      "Training, Validating and Saving xg boost model for Category: Books\n",
      "Fitting xg boost...\n",
      "val set rmse:  2.06705434069628\n",
      "Took 14 seconds to train and predict val set\n"
     ]
    },
    {
     "name": "stderr",
     "output_type": "stream",
     "text": [
      "Training models for parent categories:  71%|███████▏  | 15/21 [03:48<00:49,  8.23s/it]"
     ]
    },
    {
     "name": "stdout",
     "output_type": "stream",
     "text": [
      "Training, Validating and Saving xg boost model for Category: Cinema\n",
      "Fitting xg boost...\n",
      "val set rmse:  0.6951709779121624\n",
      "Took 83 seconds to train and predict val set\n"
     ]
    },
    {
     "name": "stderr",
     "output_type": "stream",
     "text": [
      "Training models for parent categories:  76%|███████▌  | 16/21 [05:13<02:36, 31.30s/it]"
     ]
    },
    {
     "name": "stdout",
     "output_type": "stream",
     "text": [
      "Training, Validating and Saving xg boost model for Category: Clean Media (Piece)\n",
      "Fitting xg boost...\n",
      "Took 2 seconds to train and predict val set\n"
     ]
    },
    {
     "name": "stderr",
     "output_type": "stream",
     "text": [
      "Training models for parent categories:  81%|████████  | 17/21 [05:16<01:30, 22.69s/it]"
     ]
    },
    {
     "name": "stdout",
     "output_type": "stream",
     "text": [
      "Training, Validating and Saving xg boost model for Category: Clean Media (Spire)\n",
      "Fitting xg boost...\n",
      "Took 0 seconds to train and predict val set\n"
     ]
    },
    {
     "name": "stderr",
     "output_type": "stream",
     "text": [
      "Training models for parent categories:  86%|████████▌ | 18/21 [05:17<00:48, 16.19s/it]"
     ]
    },
    {
     "name": "stdout",
     "output_type": "stream",
     "text": [
      "Training, Validating and Saving xg boost model for Category: Film\n",
      "Fitting xg boost...\n",
      "val set rmse:  0.930674141422224\n",
      "Took 25 seconds to train and predict val set\n"
     ]
    },
    {
     "name": "stderr",
     "output_type": "stream",
     "text": [
      "Training models for parent categories:  90%|█████████ | 19/21 [05:44<00:38, 19.44s/it]"
     ]
    },
    {
     "name": "stdout",
     "output_type": "stream",
     "text": [
      "Training, Validating and Saving xg boost model for Category: Games\n",
      "Fitting xg boost...\n",
      "val set rmse:  2.0052418576982824\n",
      "Took 65 seconds to train and predict val set\n"
     ]
    },
    {
     "name": "stderr",
     "output_type": "stream",
     "text": [
      "Training models for parent categories:  95%|█████████▌| 20/21 [06:50<00:33, 33.49s/it]"
     ]
    },
    {
     "name": "stdout",
     "output_type": "stream",
     "text": [
      "Training, Validating and Saving xg boost model for Category: Gaming Consoles\n",
      "Fitting xg boost...\n",
      "val set rmse:  0.4957600601615696\n",
      "Took 5 seconds to train and predict val set\n"
     ]
    },
    {
     "name": "stderr",
     "output_type": "stream",
     "text": [
      "Training models for parent categories: 100%|██████████| 21/21 [06:57<00:00, 19.86s/it]\n"
     ]
    }
   ],
   "source": [
    "if not os.path.exists(os.path.join('models_outputs', 'models_essentials_v02')):\n",
    "    os.makedirs(os.path.join('models_outputs', 'models_essentials_v02'))\n",
    "\n",
    "for parent_cat in tqdm(finalized_modelling_dict.keys(), desc='Training models for parent categories'):\n",
    "\n",
    "    print('Training, Validating and Saving xg boost model for Category: %s' %(parent_cat))\n",
    "    \n",
    "    # Extracting parent category data\n",
    "    parent_data =  finalized_modelling_dict.get(parent_cat)\n",
    "\n",
    "    # Training xg boosting model\n",
    "    model_w_price, test_predictions = train_xgboost(\n",
    "                                        train_x = parent_data.get('train_x'),\n",
    "                                        train_y = parent_data.get('train_y'),\n",
    "                                        val_x = parent_data.get('val_x'),\n",
    "                                        val_y = parent_data.get('val_y'),\n",
    "                                        perform_test_predictions = False\n",
    "                                    )\n",
    "\n",
    "    # Saving trained model\n",
    "    model_file_name = 'model_trained_' + str(parent_category_map.get(parent_cat))+ '_w_price.pkl'\n",
    "    with open(os.path.join('models_outputs', 'models_essentials_v02', model_file_name), 'wb') as model_file:\n",
    "        pickle.dump(model_w_price, model_file)"
   ]
  },
  {
   "cell_type": "markdown",
   "metadata": {},
   "source": [
    "### Saving features dataframe"
   ]
  },
  {
   "cell_type": "code",
   "execution_count": 16,
   "metadata": {},
   "outputs": [],
   "source": [
    "df_features.to_csv(os.path.join('models_outputs', 'models_essentials_v02', 'df_features.csv'), index=False)"
   ]
  }
 ],
 "metadata": {
  "kernelspec": {
   "display_name": "Python 3.8.8 ('MLPricingVenv')",
   "language": "python",
   "name": "python3"
  },
  "language_info": {
   "codemirror_mode": {
    "name": "ipython",
    "version": 3
   },
   "file_extension": ".py",
   "mimetype": "text/x-python",
   "name": "python",
   "nbconvert_exporter": "python",
   "pygments_lexer": "ipython3",
   "version": "3.9.13"
  },
  "orig_nbformat": 4,
  "vscode": {
   "interpreter": {
    "hash": "524d4310cc36642556f2992670fc4b95814a9a602f1a77c1aba439825a8ccd15"
   }
  }
 },
 "nbformat": 4,
 "nbformat_minor": 2
}
