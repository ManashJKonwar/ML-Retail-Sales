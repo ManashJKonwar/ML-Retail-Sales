{
 "cells": [
  {
   "cell_type": "markdown",
   "metadata": {},
   "source": [
    "## This notebook will focus on converting all russian based product names to english names using google translate"
   ]
  },
  {
   "cell_type": "code",
   "execution_count": 17,
   "metadata": {},
   "outputs": [],
   "source": [
    "__author__ = \"konwar.m\"\n",
    "__copyright__ = \"Copyright 2022, AI R&D\"\n",
    "__credits__ = [\"konwar.m\"]\n",
    "__license__ = \"Individual Ownership\"\n",
    "__version__ = \"1.0.1\"\n",
    "__maintainer__ = \"konwar.m\"\n",
    "__email__ = \"rickykonwar@gmail.com\"\n",
    "__status__ = \"Development\""
   ]
  },
  {
   "cell_type": "code",
   "execution_count": 18,
   "metadata": {},
   "outputs": [],
   "source": [
    "# Importing Libraries\n",
    "import os\n",
    "import copy\n",
    "import tqdm\n",
    "import pickle\n",
    "import pandas as pd\n",
    "from googletrans import Translator"
   ]
  },
  {
   "cell_type": "code",
   "execution_count": 3,
   "metadata": {},
   "outputs": [
    {
     "data": {
      "text/plain": [
       "'c:\\\\Users\\\\manash.jyoti.konwar\\\\Documents\\\\AI_Random_Projects\\\\ML-Retail-Sales'"
      ]
     },
     "execution_count": 3,
     "metadata": {},
     "output_type": "execute_result"
    }
   ],
   "source": [
    "os.chdir('..')\n",
    "os.getcwd()"
   ]
  },
  {
   "cell_type": "code",
   "execution_count": 19,
   "metadata": {},
   "outputs": [
    {
     "name": "stdout",
     "output_type": "stream",
     "text": [
      "안녕하세요. (ko) --> こんにちは。 (ja)\n"
     ]
    }
   ],
   "source": [
    "# Example on how to run google translate api\n",
    "translator = Translator()\n",
    "translation = translator.translate('안녕하세요.', dest='ja')\n",
    "print(f\"{translation.origin} ({translation.src}) --> {translation.text} ({translation.dest})\")"
   ]
  },
  {
   "cell_type": "code",
   "execution_count": 20,
   "metadata": {},
   "outputs": [],
   "source": [
    "# Reading item and categories files and shop names\n",
    "item_category_data = pd.read_csv(r'datasets\\item_categories.csv')\n",
    "item_data = pd.read_csv('datasets\\items.csv')\n",
    "shop_data = pd.read_csv('datasets\\shops.csv')"
   ]
  },
  {
   "cell_type": "code",
   "execution_count": 21,
   "metadata": {},
   "outputs": [],
   "source": [
    "# Forming Item Category Dictionary\n",
    "item_category_dict = {} if not os.path.exists(os.path.join('datasets','saved_item_categories.pkl')) else pickle.load(open(os.path.join('datasets','saved_item_categories.pkl'), 'rb'))\n",
    "item_dict = {} if not os.path.exists(os.path.join('datasets','saved_item.pkl')) else pickle.load(open(os.path.join('datasets','saved_item.pkl'), 'rb'))\n",
    "shop_dict = {} if not os.path.exists(os.path.join('datasets','saved_stores.pkl')) else pickle.load(open(os.path.join('datasets','saved_stores.pkl'), 'rb'))"
   ]
  },
  {
   "cell_type": "code",
   "execution_count": 22,
   "metadata": {},
   "outputs": [],
   "source": [
    "def translate_text(original_text, destination_lang='en'):\n",
    "    try:\n",
    "        translator = Translator()\n",
    "        translation = translator.translate(original_text, dest=destination_lang)\n",
    "        return translation.text\n",
    "    except Exception as ex:\n",
    "        print('Caught Exception while translating text: %s with exception as %s' %(original_text, ex))"
   ]
  },
  {
   "cell_type": "code",
   "execution_count": 23,
   "metadata": {},
   "outputs": [],
   "source": [
    "def extract_translated_text(input_dict, original_text):\n",
    "    if original_text in input_dict.keys():\n",
    "        return input_dict[original_text]\n",
    "    else:\n",
    "        return original_text"
   ]
  },
  {
   "cell_type": "code",
   "execution_count": 24,
   "metadata": {},
   "outputs": [
    {
     "name": "stderr",
     "output_type": "stream",
     "text": [
      "Translating Item Categories to English: 100%|██████████| 84/84 [00:00<00:00, 83926.04it/s]\n"
     ]
    },
    {
     "data": {
      "text/html": [
       "<div>\n",
       "<style scoped>\n",
       "    .dataframe tbody tr th:only-of-type {\n",
       "        vertical-align: middle;\n",
       "    }\n",
       "\n",
       "    .dataframe tbody tr th {\n",
       "        vertical-align: top;\n",
       "    }\n",
       "\n",
       "    .dataframe thead th {\n",
       "        text-align: right;\n",
       "    }\n",
       "</style>\n",
       "<table border=\"1\" class=\"dataframe\">\n",
       "  <thead>\n",
       "    <tr style=\"text-align: right;\">\n",
       "      <th></th>\n",
       "      <th>item_category_name</th>\n",
       "      <th>item_category_id</th>\n",
       "      <th>translated_item_category_name</th>\n",
       "    </tr>\n",
       "  </thead>\n",
       "  <tbody>\n",
       "    <tr>\n",
       "      <th>0</th>\n",
       "      <td>PC - Гарнитуры/Наушники</td>\n",
       "      <td>0</td>\n",
       "      <td>PC - Headset / Headphones</td>\n",
       "    </tr>\n",
       "    <tr>\n",
       "      <th>1</th>\n",
       "      <td>Аксессуары - PS2</td>\n",
       "      <td>1</td>\n",
       "      <td>Accessories - PS2.</td>\n",
       "    </tr>\n",
       "    <tr>\n",
       "      <th>2</th>\n",
       "      <td>Аксессуары - PS3</td>\n",
       "      <td>2</td>\n",
       "      <td>Accessories - PS3.</td>\n",
       "    </tr>\n",
       "    <tr>\n",
       "      <th>3</th>\n",
       "      <td>Аксессуары - PS4</td>\n",
       "      <td>3</td>\n",
       "      <td>Accessories - PS4.</td>\n",
       "    </tr>\n",
       "    <tr>\n",
       "      <th>4</th>\n",
       "      <td>Аксессуары - PSP</td>\n",
       "      <td>4</td>\n",
       "      <td>Accessories - PSP.</td>\n",
       "    </tr>\n",
       "  </tbody>\n",
       "</table>\n",
       "</div>"
      ],
      "text/plain": [
       "        item_category_name  item_category_id translated_item_category_name\n",
       "0  PC - Гарнитуры/Наушники                 0     PC - Headset / Headphones\n",
       "1         Аксессуары - PS2                 1            Accessories - PS2.\n",
       "2         Аксессуары - PS3                 2            Accessories - PS3.\n",
       "3         Аксессуары - PS4                 3            Accessories - PS4.\n",
       "4         Аксессуары - PSP                 4            Accessories - PSP."
      ]
     },
     "execution_count": 24,
     "metadata": {},
     "output_type": "execute_result"
    }
   ],
   "source": [
    "# Convert item categories names\n",
    "# Check if translated item categories file exists\n",
    "if not os.path.exists(os.path.join('datasets','translated_item_categories.csv')):\n",
    "    for category_name in tqdm.tqdm(list(item_category_data.item_category_name.unique()), desc='Translating Item Categories to English'):\n",
    "        if category_name not in item_category_dict.keys():\n",
    "            item_category_dict[category_name] = translate_text(category_name)\n",
    "    item_category_data['translated_item_category_name'] = item_category_data['item_category_name'].apply(lambda x: extract_translated_text(input_dict=item_category_dict, original_text=x))\n",
    "else:\n",
    "    item_category_data = pd.read_csv(os.path.join('datasets','translated_item_categories.csv'))\n",
    "item_category_data.head()"
   ]
  },
  {
   "cell_type": "code",
   "execution_count": 25,
   "metadata": {},
   "outputs": [
    {
     "name": "stderr",
     "output_type": "stream",
     "text": [
      "Translating Shop Names to English: 100%|██████████| 60/60 [00:00<?, ?it/s]\n"
     ]
    },
    {
     "data": {
      "text/html": [
       "<div>\n",
       "<style scoped>\n",
       "    .dataframe tbody tr th:only-of-type {\n",
       "        vertical-align: middle;\n",
       "    }\n",
       "\n",
       "    .dataframe tbody tr th {\n",
       "        vertical-align: top;\n",
       "    }\n",
       "\n",
       "    .dataframe thead th {\n",
       "        text-align: right;\n",
       "    }\n",
       "</style>\n",
       "<table border=\"1\" class=\"dataframe\">\n",
       "  <thead>\n",
       "    <tr style=\"text-align: right;\">\n",
       "      <th></th>\n",
       "      <th>shop_name</th>\n",
       "      <th>shop_id</th>\n",
       "      <th>translated_shop_name</th>\n",
       "    </tr>\n",
       "  </thead>\n",
       "  <tbody>\n",
       "    <tr>\n",
       "      <th>0</th>\n",
       "      <td>!Якутск Орджоникидзе, 56 фран</td>\n",
       "      <td>0</td>\n",
       "      <td>! Yakutsk Ordzhonikidze, 56 Fran</td>\n",
       "    </tr>\n",
       "    <tr>\n",
       "      <th>1</th>\n",
       "      <td>!Якутск ТЦ \"Центральный\" фран</td>\n",
       "      <td>1</td>\n",
       "      <td>! Yakutsk shopping center \"Central\" Fran</td>\n",
       "    </tr>\n",
       "    <tr>\n",
       "      <th>2</th>\n",
       "      <td>Адыгея ТЦ \"Мега\"</td>\n",
       "      <td>2</td>\n",
       "      <td>Adygea TC \"Mega\"</td>\n",
       "    </tr>\n",
       "    <tr>\n",
       "      <th>3</th>\n",
       "      <td>Балашиха ТРК \"Октябрь-Киномир\"</td>\n",
       "      <td>3</td>\n",
       "      <td>Balashikha TRK \"October-Kinomir\"</td>\n",
       "    </tr>\n",
       "    <tr>\n",
       "      <th>4</th>\n",
       "      <td>Волжский ТЦ \"Волга Молл\"</td>\n",
       "      <td>4</td>\n",
       "      <td>Volzhsky shopping center \"Volga Mall\"</td>\n",
       "    </tr>\n",
       "  </tbody>\n",
       "</table>\n",
       "</div>"
      ],
      "text/plain": [
       "                        shop_name  shop_id  \\\n",
       "0   !Якутск Орджоникидзе, 56 фран        0   \n",
       "1   !Якутск ТЦ \"Центральный\" фран        1   \n",
       "2                Адыгея ТЦ \"Мега\"        2   \n",
       "3  Балашиха ТРК \"Октябрь-Киномир\"        3   \n",
       "4        Волжский ТЦ \"Волга Молл\"        4   \n",
       "\n",
       "                       translated_shop_name  \n",
       "0          ! Yakutsk Ordzhonikidze, 56 Fran  \n",
       "1  ! Yakutsk shopping center \"Central\" Fran  \n",
       "2                          Adygea TC \"Mega\"  \n",
       "3          Balashikha TRK \"October-Kinomir\"  \n",
       "4     Volzhsky shopping center \"Volga Mall\"  "
      ]
     },
     "execution_count": 25,
     "metadata": {},
     "output_type": "execute_result"
    }
   ],
   "source": [
    "# Convert shop names\n",
    "# Check if translated shop file exists\n",
    "if not os.path.exists(os.path.join('datasets','translated_shops.csv')):\n",
    "    for shop_name in tqdm.tqdm(list(shop_data.shop_name.unique()), desc='Translating Shop Names to English'):\n",
    "        if shop_name not in shop_dict.keys():\n",
    "            shop_dict[shop_name] = translate_text(shop_name)\n",
    "    shop_data['translated_shop_name'] = shop_data['shop_name'].apply(lambda x: extract_translated_text(input_dict=shop_dict, original_text=x))\n",
    "else:\n",
    "    shop_data = pd.read_csv(os.path.join('datasets','translated_shops.csv'))\n",
    "shop_data.head()"
   ]
  },
  {
   "cell_type": "code",
   "execution_count": 26,
   "metadata": {},
   "outputs": [
    {
     "name": "stderr",
     "output_type": "stream",
     "text": [
      "Translating Item Names to English: 100%|██████████| 22170/22170 [00:00<00:00, 1056378.53it/s]\n"
     ]
    },
    {
     "data": {
      "text/html": [
       "<div>\n",
       "<style scoped>\n",
       "    .dataframe tbody tr th:only-of-type {\n",
       "        vertical-align: middle;\n",
       "    }\n",
       "\n",
       "    .dataframe tbody tr th {\n",
       "        vertical-align: top;\n",
       "    }\n",
       "\n",
       "    .dataframe thead th {\n",
       "        text-align: right;\n",
       "    }\n",
       "</style>\n",
       "<table border=\"1\" class=\"dataframe\">\n",
       "  <thead>\n",
       "    <tr style=\"text-align: right;\">\n",
       "      <th></th>\n",
       "      <th>item_name</th>\n",
       "      <th>item_id</th>\n",
       "      <th>item_category_id</th>\n",
       "      <th>translated_item_name</th>\n",
       "    </tr>\n",
       "  </thead>\n",
       "  <tbody>\n",
       "    <tr>\n",
       "      <th>0</th>\n",
       "      <td>! ВО ВЛАСТИ НАВАЖДЕНИЯ (ПЛАСТ.)         D</td>\n",
       "      <td>0</td>\n",
       "      <td>40</td>\n",
       "      <td>LuckyIn the power of the puff (layer.) D</td>\n",
       "    </tr>\n",
       "    <tr>\n",
       "      <th>1</th>\n",
       "      <td>!ABBYY FineReader 12 Professional Edition Full...</td>\n",
       "      <td>1</td>\n",
       "      <td>76</td>\n",
       "      <td>! ABBYY FineReader 12 Professional Edition Ful...</td>\n",
       "    </tr>\n",
       "    <tr>\n",
       "      <th>2</th>\n",
       "      <td>***В ЛУЧАХ СЛАВЫ   (UNV)                    D</td>\n",
       "      <td>2</td>\n",
       "      <td>40</td>\n",
       "      <td>*** In the rays of glory (UNV) D</td>\n",
       "    </tr>\n",
       "    <tr>\n",
       "      <th>3</th>\n",
       "      <td>***ГОЛУБАЯ ВОЛНА  (Univ)                      D</td>\n",
       "      <td>3</td>\n",
       "      <td>40</td>\n",
       "      <td>*** Blue Wave (Univ) D</td>\n",
       "    </tr>\n",
       "    <tr>\n",
       "      <th>4</th>\n",
       "      <td>***КОРОБКА (СТЕКЛО)                       D</td>\n",
       "      <td>4</td>\n",
       "      <td>40</td>\n",
       "      <td>*** Box (Glass) D</td>\n",
       "    </tr>\n",
       "  </tbody>\n",
       "</table>\n",
       "</div>"
      ],
      "text/plain": [
       "                                           item_name  item_id  \\\n",
       "0          ! ВО ВЛАСТИ НАВАЖДЕНИЯ (ПЛАСТ.)         D        0   \n",
       "1  !ABBYY FineReader 12 Professional Edition Full...        1   \n",
       "2      ***В ЛУЧАХ СЛАВЫ   (UNV)                    D        2   \n",
       "3    ***ГОЛУБАЯ ВОЛНА  (Univ)                      D        3   \n",
       "4        ***КОРОБКА (СТЕКЛО)                       D        4   \n",
       "\n",
       "   item_category_id                               translated_item_name  \n",
       "0                40           LuckyIn the power of the puff (layer.) D  \n",
       "1                76  ! ABBYY FineReader 12 Professional Edition Ful...  \n",
       "2                40                   *** In the rays of glory (UNV) D  \n",
       "3                40                             *** Blue Wave (Univ) D  \n",
       "4                40                                  *** Box (Glass) D  "
      ]
     },
     "execution_count": 26,
     "metadata": {},
     "output_type": "execute_result"
    }
   ],
   "source": [
    "# Convert item names\n",
    "# Check if translated item file exists\n",
    "if not os.path.exists(os.path.join('datasets','translated_items.csv')):\n",
    "    for item_name in tqdm.tqdm(list(item_data.item_name.unique()), desc='Translating Item Names to English'):\n",
    "        if item_name not in item_dict.keys():\n",
    "            item_dict[item_name] = translate_text(item_name)\n",
    "    item_data['translated_item_name'] = item_data['item_name'].apply(lambda x: extract_translated_text(input_dict=item_dict, original_text=x))\n",
    "else:\n",
    "    item_data = pd.read_csv(os.path.join('datasets','translated_items.csv'))\n",
    "item_data.head()"
   ]
  },
  {
   "cell_type": "code",
   "execution_count": 13,
   "metadata": {},
   "outputs": [
    {
     "name": "stderr",
     "output_type": "stream",
     "text": [
      "Correcting_Translations: 100%|██████████| 22170/22170 [01:08<00:00, 323.41it/s]\n"
     ]
    }
   ],
   "source": [
    "# Check for translation issues\n",
    "copied_item_dict=copy.deepcopy(item_dict)\n",
    "for k in tqdm.tqdm(copied_item_dict.keys(), desc='Correcting_Translations'):\n",
    "    if copied_item_dict[k] is None:\n",
    "        item_dict[k] = translate_text(k)"
   ]
  },
  {
   "cell_type": "code",
   "execution_count": 28,
   "metadata": {},
   "outputs": [],
   "source": [
    "# Save Translated files\n",
    "item_category_data.to_csv(os.path.join('datasets','translated_item_categories.csv'), index=False) if not os.path.exists(os.path.join('datasets','translated_item_categories.csv')) else \\\n",
    "    print('Translated Item Category File Exist')\n",
    "item_data.to_csv(os.path.join('datasets','translated_items.csv'), index=False) if not os.path.exists(os.path.join('datasets','translated_items.csv')) else \\\n",
    "    print('Translated Item File Exist')\n",
    "shop_data.to_csv(os.path.join('datasets','translated_shops.csv'), index=False) if not os.path.exists(os.path.join('datasets','translated_shops.csv')) else \\\n",
    "    print('Translated Shop File Exist')"
   ]
  },
  {
   "cell_type": "code",
   "execution_count": 29,
   "metadata": {},
   "outputs": [],
   "source": [
    "with open(os.path.join('datasets','saved_item_categories.pkl'), 'wb') as f:\n",
    "    pickle.dump(item_category_dict, f)\n",
    "with open(os.path.join('datasets','saved_stores.pkl'), 'wb') as f:\n",
    "    pickle.dump(shop_dict, f)\n",
    "with open(os.path.join('datasets','saved_item.pkl'), 'wb') as f:\n",
    "    pickle.dump(item_dict, f)"
   ]
  }
 ],
 "metadata": {
  "interpreter": {
   "hash": "3b9f8af297b42731035e3961f71e3310abb8c937082fd1fe14b88b48b8fbc7a2"
  },
  "kernelspec": {
   "display_name": "Python 3.8.8 ('MLPricingVenv')",
   "language": "python",
   "name": "python3"
  },
  "language_info": {
   "codemirror_mode": {
    "name": "ipython",
    "version": 3
   },
   "file_extension": ".py",
   "mimetype": "text/x-python",
   "name": "python",
   "nbconvert_exporter": "python",
   "pygments_lexer": "ipython3",
   "version": "3.8.8"
  },
  "orig_nbformat": 4
 },
 "nbformat": 4,
 "nbformat_minor": 2
}
